{
 "cells": [
  {
   "cell_type": "code",
   "execution_count": 1,
   "id": "7ef7f770-0810-4f11-9953-dbbce4693447",
   "metadata": {},
   "outputs": [],
   "source": [
    "import pandas as pd"
   ]
  },
  {
   "cell_type": "code",
   "execution_count": 2,
   "id": "13c8b2ff-6c63-4b87-9e25-7086a9a9792c",
   "metadata": {},
   "outputs": [],
   "source": [
    "org_data = pd.read_csv(\"railway.csv\")"
   ]
  },
  {
   "cell_type": "code",
   "execution_count": 3,
   "id": "73bbf844-28ca-415f-a666-1c700177a44c",
   "metadata": {},
   "outputs": [],
   "source": [
    "data = org_data.copy()"
   ]
  },
  {
   "cell_type": "code",
   "execution_count": 4,
   "id": "d9d3d919-f52e-49f9-a7e1-9f6ca11ce6e9",
   "metadata": {},
   "outputs": [
    {
     "data": {
      "text/html": [
       "<div>\n",
       "<style scoped>\n",
       "    .dataframe tbody tr th:only-of-type {\n",
       "        vertical-align: middle;\n",
       "    }\n",
       "\n",
       "    .dataframe tbody tr th {\n",
       "        vertical-align: top;\n",
       "    }\n",
       "\n",
       "    .dataframe thead th {\n",
       "        text-align: right;\n",
       "    }\n",
       "</style>\n",
       "<table border=\"1\" class=\"dataframe\">\n",
       "  <thead>\n",
       "    <tr style=\"text-align: right;\">\n",
       "      <th></th>\n",
       "      <th>Transaction ID</th>\n",
       "      <th>Date of Purchase</th>\n",
       "      <th>Time of Purchase</th>\n",
       "      <th>Purchase Type</th>\n",
       "      <th>Payment Method</th>\n",
       "      <th>Railcard</th>\n",
       "      <th>Ticket Class</th>\n",
       "      <th>Ticket Type</th>\n",
       "      <th>Price</th>\n",
       "      <th>Departure Station</th>\n",
       "      <th>Arrival Destination</th>\n",
       "      <th>Date of Journey</th>\n",
       "      <th>Departure Time</th>\n",
       "      <th>Arrival Time</th>\n",
       "      <th>Actual Arrival Time</th>\n",
       "      <th>Journey Status</th>\n",
       "      <th>Reason for Delay</th>\n",
       "      <th>Refund Request</th>\n",
       "    </tr>\n",
       "  </thead>\n",
       "  <tbody>\n",
       "    <tr>\n",
       "      <th>28024</th>\n",
       "      <td>f3461f8f-03ec-40f0-9324</td>\n",
       "      <td>17-04-2024</td>\n",
       "      <td>02:14:54</td>\n",
       "      <td>Station</td>\n",
       "      <td>Contactless</td>\n",
       "      <td>NaN</td>\n",
       "      <td>Standard</td>\n",
       "      <td>Advance</td>\n",
       "      <td>35</td>\n",
       "      <td>London Kings Cross</td>\n",
       "      <td>York</td>\n",
       "      <td>18-04-2024</td>\n",
       "      <td>00:30:00</td>\n",
       "      <td>02:20:00</td>\n",
       "      <td>02:20:00</td>\n",
       "      <td>On Time</td>\n",
       "      <td>NaN</td>\n",
       "      <td>No</td>\n",
       "    </tr>\n",
       "    <tr>\n",
       "      <th>14693</th>\n",
       "      <td>65e9f9a2-3062-498a-87a9</td>\n",
       "      <td>18-02-2024</td>\n",
       "      <td>20:12:49</td>\n",
       "      <td>Station</td>\n",
       "      <td>Contactless</td>\n",
       "      <td>NaN</td>\n",
       "      <td>Standard</td>\n",
       "      <td>Off-Peak</td>\n",
       "      <td>19</td>\n",
       "      <td>London Paddington</td>\n",
       "      <td>Reading</td>\n",
       "      <td>18-02-2024</td>\n",
       "      <td>21:30:00</td>\n",
       "      <td>22:30:00</td>\n",
       "      <td>22:30:00</td>\n",
       "      <td>On Time</td>\n",
       "      <td>NaN</td>\n",
       "      <td>No</td>\n",
       "    </tr>\n",
       "    <tr>\n",
       "      <th>23939</th>\n",
       "      <td>2dc48290-4e59-4ebc-a4f0</td>\n",
       "      <td>01-04-2024</td>\n",
       "      <td>14:38:40</td>\n",
       "      <td>Online</td>\n",
       "      <td>Contactless</td>\n",
       "      <td>NaN</td>\n",
       "      <td>Standard</td>\n",
       "      <td>Advance</td>\n",
       "      <td>35</td>\n",
       "      <td>London Kings Cross</td>\n",
       "      <td>York</td>\n",
       "      <td>02-04-2024</td>\n",
       "      <td>13:00:00</td>\n",
       "      <td>14:50:00</td>\n",
       "      <td>14:50:00</td>\n",
       "      <td>On Time</td>\n",
       "      <td>NaN</td>\n",
       "      <td>No</td>\n",
       "    </tr>\n",
       "    <tr>\n",
       "      <th>19554</th>\n",
       "      <td>3542e38a-6a5b-47a3-9b8a</td>\n",
       "      <td>15-03-2024</td>\n",
       "      <td>10:26:36</td>\n",
       "      <td>Online</td>\n",
       "      <td>Credit Card</td>\n",
       "      <td>NaN</td>\n",
       "      <td>Standard</td>\n",
       "      <td>Off-Peak</td>\n",
       "      <td>53</td>\n",
       "      <td>London Kings Cross</td>\n",
       "      <td>York</td>\n",
       "      <td>15-03-2024</td>\n",
       "      <td>11:45:00</td>\n",
       "      <td>13:35:00</td>\n",
       "      <td>13:35:00</td>\n",
       "      <td>On Time</td>\n",
       "      <td>NaN</td>\n",
       "      <td>No</td>\n",
       "    </tr>\n",
       "    <tr>\n",
       "      <th>29447</th>\n",
       "      <td>7f7cd23f-0625-4b94-850f</td>\n",
       "      <td>22-04-2024</td>\n",
       "      <td>08:14:16</td>\n",
       "      <td>Online</td>\n",
       "      <td>Debit Card</td>\n",
       "      <td>NaN</td>\n",
       "      <td>Standard</td>\n",
       "      <td>Advance</td>\n",
       "      <td>72</td>\n",
       "      <td>London Euston</td>\n",
       "      <td>Manchester Piccadilly</td>\n",
       "      <td>23-04-2024</td>\n",
       "      <td>06:30:00</td>\n",
       "      <td>08:20:00</td>\n",
       "      <td>08:20:00</td>\n",
       "      <td>On Time</td>\n",
       "      <td>NaN</td>\n",
       "      <td>No</td>\n",
       "    </tr>\n",
       "  </tbody>\n",
       "</table>\n",
       "</div>"
      ],
      "text/plain": [
       "                Transaction ID Date of Purchase Time of Purchase  \\\n",
       "28024  f3461f8f-03ec-40f0-9324       17-04-2024         02:14:54   \n",
       "14693  65e9f9a2-3062-498a-87a9       18-02-2024         20:12:49   \n",
       "23939  2dc48290-4e59-4ebc-a4f0       01-04-2024         14:38:40   \n",
       "19554  3542e38a-6a5b-47a3-9b8a       15-03-2024         10:26:36   \n",
       "29447  7f7cd23f-0625-4b94-850f       22-04-2024         08:14:16   \n",
       "\n",
       "      Purchase Type Payment Method Railcard Ticket Class Ticket Type  Price  \\\n",
       "28024       Station    Contactless      NaN     Standard     Advance     35   \n",
       "14693       Station    Contactless      NaN     Standard    Off-Peak     19   \n",
       "23939        Online    Contactless      NaN     Standard     Advance     35   \n",
       "19554        Online    Credit Card      NaN     Standard    Off-Peak     53   \n",
       "29447        Online     Debit Card      NaN     Standard     Advance     72   \n",
       "\n",
       "        Departure Station    Arrival Destination Date of Journey  \\\n",
       "28024  London Kings Cross                   York      18-04-2024   \n",
       "14693   London Paddington                Reading      18-02-2024   \n",
       "23939  London Kings Cross                   York      02-04-2024   \n",
       "19554  London Kings Cross                   York      15-03-2024   \n",
       "29447       London Euston  Manchester Piccadilly      23-04-2024   \n",
       "\n",
       "      Departure Time Arrival Time Actual Arrival Time Journey Status  \\\n",
       "28024       00:30:00     02:20:00            02:20:00        On Time   \n",
       "14693       21:30:00     22:30:00            22:30:00        On Time   \n",
       "23939       13:00:00     14:50:00            14:50:00        On Time   \n",
       "19554       11:45:00     13:35:00            13:35:00        On Time   \n",
       "29447       06:30:00     08:20:00            08:20:00        On Time   \n",
       "\n",
       "      Reason for Delay Refund Request  \n",
       "28024              NaN             No  \n",
       "14693              NaN             No  \n",
       "23939              NaN             No  \n",
       "19554              NaN             No  \n",
       "29447              NaN             No  "
      ]
     },
     "execution_count": 4,
     "metadata": {},
     "output_type": "execute_result"
    }
   ],
   "source": [
    "data.sample(5)"
   ]
  },
  {
   "cell_type": "code",
   "execution_count": 5,
   "id": "75b2706a-4139-45bc-9cc7-cb2b8ed1d938",
   "metadata": {},
   "outputs": [
    {
     "name": "stdout",
     "output_type": "stream",
     "text": [
      "<class 'pandas.core.frame.DataFrame'>\n",
      "RangeIndex: 31653 entries, 0 to 31652\n",
      "Data columns (total 18 columns):\n",
      " #   Column               Non-Null Count  Dtype \n",
      "---  ------               --------------  ----- \n",
      " 0   Transaction ID       31653 non-null  object\n",
      " 1   Date of Purchase     31653 non-null  object\n",
      " 2   Time of Purchase     31653 non-null  object\n",
      " 3   Purchase Type        31653 non-null  object\n",
      " 4   Payment Method       31653 non-null  object\n",
      " 5   Railcard             10735 non-null  object\n",
      " 6   Ticket Class         31653 non-null  object\n",
      " 7   Ticket Type          31653 non-null  object\n",
      " 8   Price                31653 non-null  int64 \n",
      " 9   Departure Station    31653 non-null  object\n",
      " 10  Arrival Destination  31653 non-null  object\n",
      " 11  Date of Journey      31653 non-null  object\n",
      " 12  Departure Time       31653 non-null  object\n",
      " 13  Arrival Time         31653 non-null  object\n",
      " 14  Actual Arrival Time  29773 non-null  object\n",
      " 15  Journey Status       31653 non-null  object\n",
      " 16  Reason for Delay     4172 non-null   object\n",
      " 17  Refund Request       31653 non-null  object\n",
      "dtypes: int64(1), object(17)\n",
      "memory usage: 4.3+ MB\n"
     ]
    }
   ],
   "source": [
    "data.info()"
   ]
  },
  {
   "cell_type": "code",
   "execution_count": 6,
   "id": "84a3a527-fdbd-470e-9607-f8a5a2fb4a85",
   "metadata": {},
   "outputs": [],
   "source": [
    "data[\"Reason for Delay\"] = data[\"Reason for Delay\"].replace(\"Weather\" , \"Weather Conditions\")\n",
    "data[\"Reason for Delay\"] = data[\"Reason for Delay\"].replace('Signal Failure', 'Signal failure')"
   ]
  },
  {
   "cell_type": "code",
   "execution_count": 7,
   "id": "91767678-fd26-4b35-bc80-58bcf7fccfa6",
   "metadata": {},
   "outputs": [],
   "source": [
    "data[\"Date of Purchase\"] = pd.to_datetime(data[\"Date of Purchase\"] ,format = \"%d-%m-%Y\")\n",
    "data[\"Date of Journey\"] = pd.to_datetime(data[\"Date of Journey\"] ,format = \"%d-%m-%Y\")"
   ]
  },
  {
   "cell_type": "code",
   "execution_count": 8,
   "id": "08ed0fef-6006-4d06-80b2-45bf51d3f992",
   "metadata": {},
   "outputs": [
    {
     "name": "stdout",
     "output_type": "stream",
     "text": [
      "<class 'pandas.core.frame.DataFrame'>\n",
      "RangeIndex: 31653 entries, 0 to 31652\n",
      "Data columns (total 18 columns):\n",
      " #   Column               Non-Null Count  Dtype         \n",
      "---  ------               --------------  -----         \n",
      " 0   Transaction ID       31653 non-null  object        \n",
      " 1   Date of Purchase     31653 non-null  datetime64[ns]\n",
      " 2   Time of Purchase     31653 non-null  object        \n",
      " 3   Purchase Type        31653 non-null  object        \n",
      " 4   Payment Method       31653 non-null  object        \n",
      " 5   Railcard             10735 non-null  object        \n",
      " 6   Ticket Class         31653 non-null  object        \n",
      " 7   Ticket Type          31653 non-null  object        \n",
      " 8   Price                31653 non-null  int64         \n",
      " 9   Departure Station    31653 non-null  object        \n",
      " 10  Arrival Destination  31653 non-null  object        \n",
      " 11  Date of Journey      31653 non-null  datetime64[ns]\n",
      " 12  Departure Time       31653 non-null  object        \n",
      " 13  Arrival Time         31653 non-null  object        \n",
      " 14  Actual Arrival Time  29773 non-null  object        \n",
      " 15  Journey Status       31653 non-null  object        \n",
      " 16  Reason for Delay     4172 non-null   object        \n",
      " 17  Refund Request       31653 non-null  object        \n",
      "dtypes: datetime64[ns](2), int64(1), object(15)\n",
      "memory usage: 4.3+ MB\n"
     ]
    }
   ],
   "source": [
    "data.info()"
   ]
  },
  {
   "cell_type": "markdown",
   "id": "d7f995fc-6544-44f3-8f17-62b40aad8068",
   "metadata": {},
   "source": [
    "# 1. Overall Analysis:"
   ]
  },
  {
   "cell_type": "markdown",
   "id": "7be51765-85ff-4061-a9e6-1e30931e75b9",
   "metadata": {},
   "source": [
    "* What is the total revenue generated from ticket sales?"
   ]
  },
  {
   "cell_type": "code",
   "execution_count": 9,
   "id": "f2a2225b-e0a2-43c1-a003-00c1129c8843",
   "metadata": {},
   "outputs": [
    {
     "name": "stdout",
     "output_type": "stream",
     "text": [
      "Total revenue generated from ticket sales is 741921.\n"
     ]
    }
   ],
   "source": [
    "revenue = data[\"Price\"].sum()\n",
    "print(f\"Total revenue generated from ticket sales is {revenue}.\")"
   ]
  },
  {
   "cell_type": "markdown",
   "id": "a9013829-2fc9-4b5a-bdaf-00c8860945c6",
   "metadata": {},
   "source": [
    "* How many tickets were sold online versus at the station?"
   ]
  },
  {
   "cell_type": "code",
   "execution_count": 10,
   "id": "8b0c1bce-a89e-4595-b78f-c060a646651f",
   "metadata": {},
   "outputs": [],
   "source": [
    "total_sales_online = data[\"Price\"][data[\"Purchase Type\"] == \"Online\"].count()\n",
    "total_sales_station = data[\"Price\"][data[\"Purchase Type\"] == \"Station\"].count()"
   ]
  },
  {
   "cell_type": "code",
   "execution_count": 11,
   "id": "93b476d9-295d-446a-a17a-04cbc09fc492",
   "metadata": {},
   "outputs": [],
   "source": [
    "percintage_of_online = (total_sales_online / (total_sales_online + total_sales_station))*100\n",
    "percintage_of_station = (total_sales_station / (total_sales_online + total_sales_station))*100"
   ]
  },
  {
   "cell_type": "code",
   "execution_count": 12,
   "id": "b163816d-66e3-4ccd-9705-4c06eeb25a37",
   "metadata": {},
   "outputs": [
    {
     "name": "stdout",
     "output_type": "stream",
     "text": [
      "17% more tickets were sold online versus at the station.\n"
     ]
    }
   ],
   "source": [
    "print(f\"{round(percintage_of_online - percintage_of_station)}% more tickets were sold online versus at the station.\")"
   ]
  },
  {
   "cell_type": "markdown",
   "id": "b0119896-14bd-4e37-bd33-1efefc013e86",
   "metadata": {},
   "source": [
    "* What is the average price of tickets sold?"
   ]
  },
  {
   "cell_type": "code",
   "execution_count": 13,
   "id": "b353969c-c8f4-42de-8e35-6ae65d58acf0",
   "metadata": {},
   "outputs": [
    {
     "name": "stdout",
     "output_type": "stream",
     "text": [
      "Average price of tickets sold is 23.44.\n"
     ]
    }
   ],
   "source": [
    "avg = data[\"Price\"].mean()\n",
    "print(f\"Average price of tickets sold is {round(avg, 2)}.\")"
   ]
  },
  {
   "cell_type": "markdown",
   "id": "85b54a18-101f-4725-b3ec-afa6a06a3e7e",
   "metadata": {},
   "source": [
    "# 2. Sales by Time and Date:"
   ]
  },
  {
   "cell_type": "markdown",
   "id": "ae94292a-66e2-458f-bc15-d490fcafcf74",
   "metadata": {},
   "source": [
    "* Which date had the highest number of ticket purchases?"
   ]
  },
  {
   "cell_type": "code",
   "execution_count": 14,
   "id": "3af26485-d76d-4d69-b271-e08ac4b12570",
   "metadata": {},
   "outputs": [],
   "source": [
    "answer = data[\"Date of Purchase\"].value_counts().sort_values(ascending = False).head(1)"
   ]
  },
  {
   "cell_type": "code",
   "execution_count": 15,
   "id": "a917a0a6-d1bf-4278-83eb-adbf1d09800a",
   "metadata": {},
   "outputs": [],
   "source": [
    "date = str(str(answer.index[0]).split(\" \")[0])\n",
    "ticket_purchases = answer.values[0]"
   ]
  },
  {
   "cell_type": "code",
   "execution_count": 16,
   "id": "8c5cec9b-ee80-4522-a797-d04fcbce0416",
   "metadata": {},
   "outputs": [
    {
     "name": "stdout",
     "output_type": "stream",
     "text": [
      "2024-02-02 had the highest number of ticket purchases total 513.\n"
     ]
    }
   ],
   "source": [
    "print(f\"{date} had the highest number of ticket purchases total {ticket_purchases}.\")"
   ]
  },
  {
   "cell_type": "markdown",
   "id": "48725bb6-fed1-4c33-addd-b37b6c18595d",
   "metadata": {},
   "source": [
    "* What time of day sees the most ticket purchases?"
   ]
  },
  {
   "cell_type": "code",
   "execution_count": 17,
   "id": "37e01422-d8aa-4f3d-ba3d-a8f7548152bf",
   "metadata": {},
   "outputs": [],
   "source": [
    "temp_df = data.copy()"
   ]
  },
  {
   "cell_type": "code",
   "execution_count": 18,
   "id": "bf79c78f-e56c-43df-9e09-ccde662dfbce",
   "metadata": {},
   "outputs": [],
   "source": [
    "temp_df[\"hour\"] = temp_df[\"Time of Purchase\"].str.split(\":\").str[0]"
   ]
  },
  {
   "cell_type": "code",
   "execution_count": 19,
   "id": "5e33c052-d955-43fc-ad6a-2eacce008f4b",
   "metadata": {},
   "outputs": [],
   "source": [
    "answer = temp_df[\"hour\"].value_counts().sort_values(ascending = False).head(1)"
   ]
  },
  {
   "cell_type": "code",
   "execution_count": 20,
   "id": "bf6e56d0-6794-42ee-a6ea-84ce6defc40c",
   "metadata": {},
   "outputs": [
    {
     "name": "stdout",
     "output_type": "stream",
     "text": [
      "17 is the time of the day where most of the tickets are purchased.\n"
     ]
    }
   ],
   "source": [
    "print(f\"{answer.index[0]} is the time of the day where most of the tickets are purchased.\")"
   ]
  },
  {
   "cell_type": "markdown",
   "id": "de8b8a47-39f4-4981-a3e3-00ccb79dfbc5",
   "metadata": {},
   "source": [
    "* Is there a correlation between the time of purchase and the price of the ticket?"
   ]
  },
  {
   "cell_type": "code",
   "execution_count": 21,
   "id": "9bb90ac5-204d-4fb6-83ae-664b71645fa8",
   "metadata": {},
   "outputs": [
    {
     "data": {
      "text/plain": [
       "hour\n",
       "00    22.920000\n",
       "01    17.668605\n",
       "02    25.917445\n",
       "03    23.109304\n",
       "04    22.945887\n",
       "05    27.109195\n",
       "06    57.962827\n",
       "07    23.857283\n",
       "08    18.052291\n",
       "09    33.221739\n",
       "10    15.957877\n",
       "11    18.589502\n",
       "12    17.734634\n",
       "13    20.183024\n",
       "14    17.699304\n",
       "15    32.816757\n",
       "16    19.038826\n",
       "17    18.668978\n",
       "18    22.671579\n",
       "19    10.513793\n",
       "20    17.700313\n",
       "21    17.092496\n",
       "22    10.131004\n",
       "23    20.440771\n",
       "Name: Price, dtype: float64"
      ]
     },
     "execution_count": 21,
     "metadata": {},
     "output_type": "execute_result"
    }
   ],
   "source": [
    "temp_df.groupby(\"hour\")[\"Price\"].mean()"
   ]
  },
  {
   "cell_type": "code",
   "execution_count": 22,
   "id": "5bcb47e4-619e-4e74-a60a-dc664fef0e6b",
   "metadata": {},
   "outputs": [
    {
     "name": "stdout",
     "output_type": "stream",
     "text": [
      "yes, with the upper data we can see that the most expensive tickets were sold at 6.\n"
     ]
    }
   ],
   "source": [
    "print(\"yes, with the upper data we can see that the most expensive tickets were sold at 6.\")"
   ]
  },
  {
   "cell_type": "markdown",
   "id": "7cfee5d8-7300-4aa0-9c60-62c6ccfaf7f8",
   "metadata": {},
   "source": [
    "# 3. Journey and Delays:"
   ]
  },
  {
   "cell_type": "markdown",
   "id": "43a695af-fca1-4d29-bd34-b0e736a540d4",
   "metadata": {},
   "source": [
    "* What is the average delay time for delayed journeys?"
   ]
  },
  {
   "cell_type": "code",
   "execution_count": 23,
   "id": "aa74d005-0725-4b91-ae33-59685e9359df",
   "metadata": {},
   "outputs": [],
   "source": [
    "temp_df2 = data.copy()\n",
    "temp_df2 = temp_df2[temp_df2[\"Journey Status\"] == \"Delayed\"]"
   ]
  },
  {
   "cell_type": "code",
   "execution_count": 24,
   "id": "225c2040-a935-4245-81bf-e1de92baf6a9",
   "metadata": {},
   "outputs": [],
   "source": [
    "temp_df2[\"Arrival Time\"] = pd.to_datetime(temp_df2[\"Arrival Time\"] ,format = \"%H:%M:%S\")\n",
    "temp_df2[\"Actual Arrival Time\"] = pd.to_datetime(temp_df2[\"Actual Arrival Time\"] ,format = \"%H:%M:%S\")"
   ]
  },
  {
   "cell_type": "code",
   "execution_count": 25,
   "id": "c8787449-fac3-474a-9b1a-f21daad934ec",
   "metadata": {},
   "outputs": [],
   "source": [
    "temp_df2[\"delayed time\"] = temp_df2[\"Actual Arrival Time\"] - temp_df2[\"Arrival Time\"]     "
   ]
  },
  {
   "cell_type": "code",
   "execution_count": 26,
   "id": "1345d45c-82c9-4800-8194-e81cc8bfd269",
   "metadata": {},
   "outputs": [],
   "source": [
    "from datetime import timedelta"
   ]
  },
  {
   "cell_type": "code",
   "execution_count": 27,
   "id": "f0d0fcf7-5e33-406b-8dbf-1b98e604526b",
   "metadata": {},
   "outputs": [],
   "source": [
    "avg_time = temp_df2[\"delayed time\"].mean()\n",
    "seconds = avg_time.seconds\n",
    "hours, remainder = divmod(seconds, 3600)\n",
    "minutes, seconds = divmod(remainder, 60)"
   ]
  },
  {
   "cell_type": "code",
   "execution_count": 28,
   "id": "d9bb3687-8fe4-4873-b3e6-44701c90e233",
   "metadata": {},
   "outputs": [
    {
     "name": "stdout",
     "output_type": "stream",
     "text": [
      "Average delay time for delayed journeys is 42 minutes and 12 seconds.\n"
     ]
    }
   ],
   "source": [
    "print(f\"Average delay time for delayed journeys is {minutes} minutes and {seconds} seconds.\")"
   ]
  },
  {
   "cell_type": "markdown",
   "id": "86e76bf9-99e5-4c55-b91f-83cc535cb159",
   "metadata": {},
   "source": [
    "* Which station pair had the highest number of delayed journeys?"
   ]
  },
  {
   "cell_type": "code",
   "execution_count": 29,
   "id": "f597588d-d5f2-4df9-839f-e03f764bb133",
   "metadata": {},
   "outputs": [],
   "source": [
    "answer = temp_df2.groupby([\"Departure Station\",\"Arrival Destination\"])[\"Journey Status\"].count().sort_values(ascending = False).head(1)"
   ]
  },
  {
   "cell_type": "code",
   "execution_count": 30,
   "id": "1e965e64-57de-4f58-b61e-b32ba3461476",
   "metadata": {},
   "outputs": [
    {
     "name": "stdout",
     "output_type": "stream",
     "text": [
      "Combination of Liverpool Lime Street and London Euston has the highest number of delayed journey.\n"
     ]
    }
   ],
   "source": [
    "Departure_Station = answer.index[0][0]\n",
    "Arrival_Destination = answer.index[0][1]\n",
    "print(f\"Combination of {Departure_Station} and {Arrival_Destination} has the highest number of delayed journey.\")"
   ]
  },
  {
   "cell_type": "markdown",
   "id": "8388ad16-c198-4096-ab20-b0c53c227587",
   "metadata": {},
   "source": [
    "* What are the common reasons for delays?"
   ]
  },
  {
   "cell_type": "code",
   "execution_count": 31,
   "id": "73968c44-32e8-46f7-82cf-adc811b52ef6",
   "metadata": {},
   "outputs": [],
   "source": [
    "answer = temp_df2[\"Reason for Delay\"].value_counts().sort_values(ascending = False).head(1).index[0]"
   ]
  },
  {
   "cell_type": "code",
   "execution_count": 32,
   "id": "0d33178e-c360-473e-84f1-695afff89a7a",
   "metadata": {},
   "outputs": [
    {
     "name": "stdout",
     "output_type": "stream",
     "text": [
      "Weather Conditions is the most common reason for delay.\n"
     ]
    }
   ],
   "source": [
    "print(f\"{answer} is the most common reason for delay.\")"
   ]
  },
  {
   "cell_type": "markdown",
   "id": "90102fff-48e0-4471-b6e1-eca9e1e47b7b",
   "metadata": {},
   "source": [
    "# 4. Purchase and Payment Methods:"
   ]
  },
  {
   "cell_type": "markdown",
   "id": "f1fb96b8-09ae-400c-b537-5ffd4793b774",
   "metadata": {},
   "source": [
    "* Which payment method is most commonly used?"
   ]
  },
  {
   "cell_type": "code",
   "execution_count": 33,
   "id": "8b806fb5-82f7-474c-bb3d-f8460d1cdbd3",
   "metadata": {},
   "outputs": [],
   "source": [
    "answer = data[\"Payment Method\"].value_counts().sort_values(ascending = False).head(1).index[0]"
   ]
  },
  {
   "cell_type": "code",
   "execution_count": 34,
   "id": "67281e57-b113-4d3e-9047-c6039d223e0b",
   "metadata": {},
   "outputs": [
    {
     "name": "stdout",
     "output_type": "stream",
     "text": [
      "most commonly used payment method is Credit Card.\n"
     ]
    }
   ],
   "source": [
    "print(f\"most commonly used payment method is {answer}.\")"
   ]
  },
  {
   "cell_type": "markdown",
   "id": "df887890-eeef-4f11-a340-cc08b59a62fa",
   "metadata": {},
   "source": [
    "* What proportion of tickets are purchased using contactless payments versus credit cards?"
   ]
  },
  {
   "cell_type": "code",
   "execution_count": 35,
   "id": "abbd5730-511c-45a9-93e3-4f1818220211",
   "metadata": {},
   "outputs": [
    {
     "data": {
      "text/plain": [
       "Payment Method\n",
       "Credit Card    19136\n",
       "Contactless    10834\n",
       "Name: count, dtype: int64"
      ]
     },
     "execution_count": 35,
     "metadata": {},
     "output_type": "execute_result"
    }
   ],
   "source": [
    "data[(data[\"Payment Method\"] == \"Contactless\") | (data[\"Payment Method\"] == \"Credit Card\")][\"Payment Method\"].value_counts()"
   ]
  },
  {
   "cell_type": "code",
   "execution_count": 36,
   "id": "ca3c789c-1e84-4529-a57c-f1921d2a2e41",
   "metadata": {},
   "outputs": [],
   "source": [
    "total_purchases_using_Contactless = data[\"Price\"][data[\"Payment Method\"] == \"Contactless\"].count()\n",
    "total_purchases_using_CreditCard = data[\"Price\"][data[\"Payment Method\"] == \"Credit Card\"].count()"
   ]
  },
  {
   "cell_type": "code",
   "execution_count": 37,
   "id": "788eee1c-cc9d-4899-8a6e-03b286e2e7cb",
   "metadata": {},
   "outputs": [],
   "source": [
    "percintage_of_Contactless = (total_purchases_using_Contactless / (total_purchases_using_CreditCard + total_purchases_using_Contactless))*100\n",
    "percintage_of_CreditCard = (total_purchases_using_CreditCard / (total_purchases_using_CreditCard + total_purchases_using_Contactless))*100"
   ]
  },
  {
   "cell_type": "code",
   "execution_count": 38,
   "id": "f37f282e-e6b9-4d2a-9e43-87490eeb3d69",
   "metadata": {},
   "outputs": [
    {
     "name": "stdout",
     "output_type": "stream",
     "text": [
      "28% less tickets are purchased using contactless payments versus credit cards.\n"
     ]
    }
   ],
   "source": [
    "print(f\"{round(percintage_of_CreditCard - percintage_of_Contactless)}% less tickets are purchased using contactless payments versus credit cards.\")"
   ]
  },
  {
   "cell_type": "markdown",
   "id": "3ec7482f-bcdf-471c-b62e-3ce4d34182b8",
   "metadata": {},
   "source": [
    "* How does the purchase method (online vs. station) impact the price of the ticket?"
   ]
  },
  {
   "cell_type": "code",
   "execution_count": 39,
   "id": "081f5443-a230-4190-816f-ce375c97a951",
   "metadata": {},
   "outputs": [
    {
     "data": {
      "text/plain": [
       "Purchase Type\n",
       "Online     20.665947\n",
       "Station    27.350518\n",
       "Name: Price, dtype: float64"
      ]
     },
     "execution_count": 39,
     "metadata": {},
     "output_type": "execute_result"
    }
   ],
   "source": [
    "data.groupby(\"Purchase Type\")[\"Price\"].mean()"
   ]
  },
  {
   "cell_type": "code",
   "execution_count": 40,
   "id": "8244123c-9afe-487e-a990-2e92664b3480",
   "metadata": {},
   "outputs": [
    {
     "name": "stdout",
     "output_type": "stream",
     "text": [
      "from the above data we can se that the average price of ticket purchased on station is higher than the ticket purchased online.\n"
     ]
    }
   ],
   "source": [
    "print(\"from the above data we can se that the average price of ticket purchased on station is higher than the ticket purchased online.\")"
   ]
  },
  {
   "cell_type": "markdown",
   "id": "15fdf1c6-289b-40e1-9f82-32b40b555548",
   "metadata": {},
   "source": [
    "# 5. Railcards and Discounts:\n"
   ]
  },
  {
   "cell_type": "markdown",
   "id": "d2505259-35f3-44a1-bd71-ff14ebff967a",
   "metadata": {},
   "source": [
    "* How many tickets were sold with railcard discounts?"
   ]
  },
  {
   "cell_type": "code",
   "execution_count": 41,
   "id": "983007a0-73c7-4783-8916-8aafdbdde7f7",
   "metadata": {},
   "outputs": [],
   "source": [
    "answer = data[\"Railcard\"].count()"
   ]
  },
  {
   "cell_type": "code",
   "execution_count": 42,
   "id": "46c94843-1e93-4837-9881-25c918f77995",
   "metadata": {},
   "outputs": [
    {
     "name": "stdout",
     "output_type": "stream",
     "text": [
      "10735 tickets were sold with railcard discounts.\n"
     ]
    }
   ],
   "source": [
    "print(f\"{answer} tickets were sold with railcard discounts.\")"
   ]
  },
  {
   "cell_type": "markdown",
   "id": "b9e27def-5175-4694-8c1f-2e5b746c05fc",
   "metadata": {},
   "source": [
    "* Which railcard type is most commonly used?"
   ]
  },
  {
   "cell_type": "code",
   "execution_count": 43,
   "id": "8b80b2ef-f49c-4d97-ac73-4996b3e3f8da",
   "metadata": {},
   "outputs": [],
   "source": [
    "answer = data[\"Railcard\"].value_counts().sort_values(ascending = False).head(1).index[0]"
   ]
  },
  {
   "cell_type": "code",
   "execution_count": 44,
   "id": "7682a619-9a53-4e56-b8b6-e288f7b698b2",
   "metadata": {},
   "outputs": [
    {
     "name": "stdout",
     "output_type": "stream",
     "text": [
      "Adult is most commonly used railcard type.\n"
     ]
    }
   ],
   "source": [
    "print(f\"{answer} is most commonly used railcard type.\")"
   ]
  },
  {
   "cell_type": "markdown",
   "id": "a6aecfd0-4471-467d-aeca-94540721a62a",
   "metadata": {},
   "source": [
    "# 6. Class and Ticket Type:"
   ]
  },
  {
   "cell_type": "markdown",
   "id": "3f90ac68-2e16-4d1f-8b23-65d74eb925c1",
   "metadata": {},
   "source": [
    "* How many standard class tickets were sold compared to first-class tickets (if data for first class were present)?"
   ]
  },
  {
   "cell_type": "code",
   "execution_count": 45,
   "id": "fb337720-fc3e-4bc6-9635-d55856dd216a",
   "metadata": {},
   "outputs": [],
   "source": [
    "first_class_total_purchases = data[\"Ticket Class\"][data[\"Ticket Class\"] == \"First Class\"].count()\n",
    "Standard_total_purchases = data[\"Ticket Class\"][data[\"Ticket Class\"] == \"Standard\"].count()"
   ]
  },
  {
   "cell_type": "code",
   "execution_count": 46,
   "id": "0cde5ca5-d38d-4d96-9705-356086ad1dd8",
   "metadata": {},
   "outputs": [],
   "source": [
    "first_class_of_Contactless = (first_class_total_purchases / (first_class_total_purchases + Standard_total_purchases))*100\n",
    "Standard_of_Contactless = (Standard_total_purchases / (first_class_total_purchases + Standard_total_purchases))*100"
   ]
  },
  {
   "cell_type": "code",
   "execution_count": 47,
   "id": "664b7061-f051-4573-8982-d04f8f555685",
   "metadata": {},
   "outputs": [
    {
     "name": "stdout",
     "output_type": "stream",
     "text": [
      "81% more standard class tickets were sold compared to first-class tickets.\n"
     ]
    }
   ],
   "source": [
    "print(f\"{round(Standard_of_Contactless - first_class_of_Contactless)}% more standard class tickets were sold compared to first-class tickets.\")"
   ]
  },
  {
   "cell_type": "markdown",
   "id": "a34a5d96-338b-4785-8e34-81224527ffce",
   "metadata": {},
   "source": [
    "* What is the distribution of advance ticket purchases versus other types of tickets (if data for other types were present)?"
   ]
  },
  {
   "cell_type": "code",
   "execution_count": 48,
   "id": "5f1c7825-2fa1-4e21-ba80-a47d04ee3a37",
   "metadata": {
    "scrolled": true
   },
   "outputs": [],
   "source": [
    "temp_df = data[\"Ticket Type\"].value_counts().to_frame()"
   ]
  },
  {
   "cell_type": "code",
   "execution_count": 49,
   "id": "a802fb8e-0b58-48a1-861e-a61605496d4e",
   "metadata": {},
   "outputs": [
    {
     "data": {
      "text/html": [
       "<div>\n",
       "<style scoped>\n",
       "    .dataframe tbody tr th:only-of-type {\n",
       "        vertical-align: middle;\n",
       "    }\n",
       "\n",
       "    .dataframe tbody tr th {\n",
       "        vertical-align: top;\n",
       "    }\n",
       "\n",
       "    .dataframe thead th {\n",
       "        text-align: right;\n",
       "    }\n",
       "</style>\n",
       "<table border=\"1\" class=\"dataframe\">\n",
       "  <thead>\n",
       "    <tr style=\"text-align: right;\">\n",
       "      <th></th>\n",
       "      <th>count</th>\n",
       "    </tr>\n",
       "    <tr>\n",
       "      <th>Ticket Type</th>\n",
       "      <th></th>\n",
       "    </tr>\n",
       "  </thead>\n",
       "  <tbody>\n",
       "    <tr>\n",
       "      <th>Advance</th>\n",
       "      <td>17561</td>\n",
       "    </tr>\n",
       "    <tr>\n",
       "      <th>Off-Peak</th>\n",
       "      <td>8752</td>\n",
       "    </tr>\n",
       "    <tr>\n",
       "      <th>Anytime</th>\n",
       "      <td>5340</td>\n",
       "    </tr>\n",
       "  </tbody>\n",
       "</table>\n",
       "</div>"
      ],
      "text/plain": [
       "             count\n",
       "Ticket Type       \n",
       "Advance      17561\n",
       "Off-Peak      8752\n",
       "Anytime       5340"
      ]
     },
     "execution_count": 49,
     "metadata": {},
     "output_type": "execute_result"
    }
   ],
   "source": [
    "temp_df"
   ]
  },
  {
   "cell_type": "code",
   "execution_count": 50,
   "id": "a65d638f-df3d-464a-b8d7-425054c0d2f0",
   "metadata": {},
   "outputs": [],
   "source": [
    "temp_df[\"distribution\"] = (temp_df[\"count\"]/temp_df[\"count\"].sum())*100"
   ]
  },
  {
   "cell_type": "code",
   "execution_count": 51,
   "id": "499132fc-43e2-45b5-944e-c5afe44ff476",
   "metadata": {},
   "outputs": [],
   "source": [
    "temp_df = temp_df[\"distribution\"].to_frame().reset_index()"
   ]
  },
  {
   "cell_type": "code",
   "execution_count": 52,
   "id": "577e5379-e4c8-4778-97ae-750e4cd8c810",
   "metadata": {},
   "outputs": [
    {
     "name": "stdout",
     "output_type": "stream",
     "text": [
      "This is the distribution of advance ticket purchases versus other types of tickets :-\n",
      "\n"
     ]
    },
    {
     "data": {
      "text/html": [
       "<div>\n",
       "<style scoped>\n",
       "    .dataframe tbody tr th:only-of-type {\n",
       "        vertical-align: middle;\n",
       "    }\n",
       "\n",
       "    .dataframe tbody tr th {\n",
       "        vertical-align: top;\n",
       "    }\n",
       "\n",
       "    .dataframe thead th {\n",
       "        text-align: right;\n",
       "    }\n",
       "</style>\n",
       "<table border=\"1\" class=\"dataframe\">\n",
       "  <thead>\n",
       "    <tr style=\"text-align: right;\">\n",
       "      <th></th>\n",
       "      <th>Ticket Type</th>\n",
       "      <th>distribution</th>\n",
       "    </tr>\n",
       "  </thead>\n",
       "  <tbody>\n",
       "    <tr>\n",
       "      <th>0</th>\n",
       "      <td>Advance</td>\n",
       "      <td>55.479733</td>\n",
       "    </tr>\n",
       "    <tr>\n",
       "      <th>1</th>\n",
       "      <td>Off-Peak</td>\n",
       "      <td>27.649828</td>\n",
       "    </tr>\n",
       "    <tr>\n",
       "      <th>2</th>\n",
       "      <td>Anytime</td>\n",
       "      <td>16.870439</td>\n",
       "    </tr>\n",
       "  </tbody>\n",
       "</table>\n",
       "</div>"
      ],
      "text/plain": [
       "  Ticket Type  distribution\n",
       "0     Advance     55.479733\n",
       "1    Off-Peak     27.649828\n",
       "2     Anytime     16.870439"
      ]
     },
     "execution_count": 52,
     "metadata": {},
     "output_type": "execute_result"
    }
   ],
   "source": [
    "print(\"This is the distribution of advance ticket purchases versus other types of tickets :-\\n\")\n",
    "temp_df"
   ]
  },
  {
   "cell_type": "markdown",
   "id": "91c60122-1a7c-497b-85b8-1374c332c248",
   "metadata": {},
   "source": [
    "# 7. Journey Patterns:"
   ]
  },
  {
   "cell_type": "markdown",
   "id": "a72042c6-77fb-4c28-9d6d-78fffaba53a0",
   "metadata": {},
   "source": [
    "* Which are the top 5 most popular departure and arrival station pairs?"
   ]
  },
  {
   "cell_type": "code",
   "execution_count": 53,
   "id": "e2832770-fd92-4fe1-a9b1-6d3dd54854d7",
   "metadata": {},
   "outputs": [
    {
     "data": {
      "text/html": [
       "<div>\n",
       "<style scoped>\n",
       "    .dataframe tbody tr th:only-of-type {\n",
       "        vertical-align: middle;\n",
       "    }\n",
       "\n",
       "    .dataframe tbody tr th {\n",
       "        vertical-align: top;\n",
       "    }\n",
       "\n",
       "    .dataframe thead th {\n",
       "        text-align: right;\n",
       "    }\n",
       "</style>\n",
       "<table border=\"1\" class=\"dataframe\">\n",
       "  <thead>\n",
       "    <tr style=\"text-align: right;\">\n",
       "      <th></th>\n",
       "      <th>Departure Station</th>\n",
       "      <th>Arrival Destination</th>\n",
       "      <th>Transaction ID</th>\n",
       "    </tr>\n",
       "  </thead>\n",
       "  <tbody>\n",
       "    <tr>\n",
       "      <th>0</th>\n",
       "      <td>Manchester Piccadilly</td>\n",
       "      <td>Liverpool Lime Street</td>\n",
       "      <td>4628</td>\n",
       "    </tr>\n",
       "    <tr>\n",
       "      <th>1</th>\n",
       "      <td>London Euston</td>\n",
       "      <td>Birmingham New Street</td>\n",
       "      <td>4209</td>\n",
       "    </tr>\n",
       "    <tr>\n",
       "      <th>2</th>\n",
       "      <td>London Kings Cross</td>\n",
       "      <td>York</td>\n",
       "      <td>3922</td>\n",
       "    </tr>\n",
       "    <tr>\n",
       "      <th>3</th>\n",
       "      <td>London Paddington</td>\n",
       "      <td>Reading</td>\n",
       "      <td>3873</td>\n",
       "    </tr>\n",
       "    <tr>\n",
       "      <th>4</th>\n",
       "      <td>London St Pancras</td>\n",
       "      <td>Birmingham New Street</td>\n",
       "      <td>3471</td>\n",
       "    </tr>\n",
       "  </tbody>\n",
       "</table>\n",
       "</div>"
      ],
      "text/plain": [
       "       Departure Station    Arrival Destination  Transaction ID\n",
       "0  Manchester Piccadilly  Liverpool Lime Street            4628\n",
       "1          London Euston  Birmingham New Street            4209\n",
       "2     London Kings Cross                   York            3922\n",
       "3      London Paddington                Reading            3873\n",
       "4      London St Pancras  Birmingham New Street            3471"
      ]
     },
     "execution_count": 53,
     "metadata": {},
     "output_type": "execute_result"
    }
   ],
   "source": [
    "data.groupby([\"Departure Station\",\"Arrival Destination\"])[\"Transaction ID\"].count().sort_values(ascending = False).head(5).to_frame().reset_index()"
   ]
  },
  {
   "cell_type": "markdown",
   "id": "1aafb9df-7e06-4b43-ada2-430af1de45af",
   "metadata": {},
   "source": [
    " * What is the average journey time between different station pairs?"
   ]
  },
  {
   "cell_type": "code",
   "execution_count": 54,
   "id": "f8eadbb6-b9af-4d29-91b5-38af74044ba5",
   "metadata": {},
   "outputs": [],
   "source": [
    "temp_df3 = data.copy()"
   ]
  },
  {
   "cell_type": "code",
   "execution_count": 55,
   "id": "65c26563-87a2-4367-a6bd-0631332e8dc8",
   "metadata": {},
   "outputs": [],
   "source": [
    "temp_df3[\"Departure Time\"] = pd.to_datetime(temp_df3[\"Departure Time\"] ,format = \"%H:%M:%S\")\n",
    "temp_df3[\"Actual Arrival Time\"] = pd.to_datetime(temp_df3[\"Actual Arrival Time\"] ,format = \"%H:%M:%S\")"
   ]
  },
  {
   "cell_type": "code",
   "execution_count": 56,
   "id": "a55cb4fd-9d35-4a17-9747-4172971a5935",
   "metadata": {},
   "outputs": [],
   "source": [
    "temp_df3[\"total time\"] = temp_df3[\"Actual Arrival Time\"] - temp_df3[\"Departure Time\"] "
   ]
  },
  {
   "cell_type": "code",
   "execution_count": 57,
   "id": "a2a1ac45-06ef-44f1-831d-24d8b7cdb85e",
   "metadata": {},
   "outputs": [],
   "source": [
    "temp_df4 = temp_df3.groupby([\"Departure Station\",\"Arrival Destination\"])[\"Actual Arrival Time\"].mean().to_frame().reset_index()"
   ]
  },
  {
   "cell_type": "code",
   "execution_count": 58,
   "id": "5e4d493b-50e3-4577-9276-3f91aa306a2c",
   "metadata": {},
   "outputs": [],
   "source": [
    "temp_df4[\"average Arrival Time\"] = temp_df4[\"Actual Arrival Time\"].dt.floor(\"s\").dt.time"
   ]
  },
  {
   "cell_type": "code",
   "execution_count": 59,
   "id": "b4cc4fec-1f9e-4df4-9719-ed70c0117338",
   "metadata": {},
   "outputs": [],
   "source": [
    "temp_df4.drop(\"Actual Arrival Time\" , axis = 1, inplace = True)"
   ]
  },
  {
   "cell_type": "code",
   "execution_count": 60,
   "id": "068bcb86-d5cf-4d2d-9213-5c735b1dfcfe",
   "metadata": {},
   "outputs": [
    {
     "data": {
      "text/html": [
       "<div>\n",
       "<style scoped>\n",
       "    .dataframe tbody tr th:only-of-type {\n",
       "        vertical-align: middle;\n",
       "    }\n",
       "\n",
       "    .dataframe tbody tr th {\n",
       "        vertical-align: top;\n",
       "    }\n",
       "\n",
       "    .dataframe thead th {\n",
       "        text-align: right;\n",
       "    }\n",
       "</style>\n",
       "<table border=\"1\" class=\"dataframe\">\n",
       "  <thead>\n",
       "    <tr style=\"text-align: right;\">\n",
       "      <th></th>\n",
       "      <th>Departure Station</th>\n",
       "      <th>Arrival Destination</th>\n",
       "      <th>average Arrival Time</th>\n",
       "    </tr>\n",
       "  </thead>\n",
       "  <tbody>\n",
       "    <tr>\n",
       "      <th>0</th>\n",
       "      <td>Birmingham New Street</td>\n",
       "      <td>Coventry</td>\n",
       "      <td>19:04:59</td>\n",
       "    </tr>\n",
       "    <tr>\n",
       "      <th>1</th>\n",
       "      <td>Birmingham New Street</td>\n",
       "      <td>Edinburgh</td>\n",
       "      <td>00:45:00</td>\n",
       "    </tr>\n",
       "    <tr>\n",
       "      <th>2</th>\n",
       "      <td>Birmingham New Street</td>\n",
       "      <td>Liverpool Lime Street</td>\n",
       "      <td>15:57:01</td>\n",
       "    </tr>\n",
       "    <tr>\n",
       "      <th>3</th>\n",
       "      <td>Birmingham New Street</td>\n",
       "      <td>London Euston</td>\n",
       "      <td>12:58:33</td>\n",
       "    </tr>\n",
       "    <tr>\n",
       "      <th>4</th>\n",
       "      <td>Birmingham New Street</td>\n",
       "      <td>London Kings Cross</td>\n",
       "      <td>08:00:00</td>\n",
       "    </tr>\n",
       "    <tr>\n",
       "      <th>...</th>\n",
       "      <td>...</td>\n",
       "      <td>...</td>\n",
       "      <td>...</td>\n",
       "    </tr>\n",
       "    <tr>\n",
       "      <th>60</th>\n",
       "      <td>York</td>\n",
       "      <td>Edinburgh Waverley</td>\n",
       "      <td>15:30:00</td>\n",
       "    </tr>\n",
       "    <tr>\n",
       "      <th>61</th>\n",
       "      <td>York</td>\n",
       "      <td>Leeds</td>\n",
       "      <td>08:40:00</td>\n",
       "    </tr>\n",
       "    <tr>\n",
       "      <th>62</th>\n",
       "      <td>York</td>\n",
       "      <td>Liverpool Lime Street</td>\n",
       "      <td>09:45:00</td>\n",
       "    </tr>\n",
       "    <tr>\n",
       "      <th>63</th>\n",
       "      <td>York</td>\n",
       "      <td>Peterborough</td>\n",
       "      <td>10:35:25</td>\n",
       "    </tr>\n",
       "    <tr>\n",
       "      <th>64</th>\n",
       "      <td>York</td>\n",
       "      <td>Wakefield</td>\n",
       "      <td>08:07:16</td>\n",
       "    </tr>\n",
       "  </tbody>\n",
       "</table>\n",
       "<p>65 rows × 3 columns</p>\n",
       "</div>"
      ],
      "text/plain": [
       "        Departure Station    Arrival Destination average Arrival Time\n",
       "0   Birmingham New Street               Coventry             19:04:59\n",
       "1   Birmingham New Street              Edinburgh             00:45:00\n",
       "2   Birmingham New Street  Liverpool Lime Street             15:57:01\n",
       "3   Birmingham New Street          London Euston             12:58:33\n",
       "4   Birmingham New Street     London Kings Cross             08:00:00\n",
       "..                    ...                    ...                  ...\n",
       "60                   York     Edinburgh Waverley             15:30:00\n",
       "61                   York                  Leeds             08:40:00\n",
       "62                   York  Liverpool Lime Street             09:45:00\n",
       "63                   York           Peterborough             10:35:25\n",
       "64                   York              Wakefield             08:07:16\n",
       "\n",
       "[65 rows x 3 columns]"
      ]
     },
     "execution_count": 60,
     "metadata": {},
     "output_type": "execute_result"
    }
   ],
   "source": [
    "temp_df4"
   ]
  },
  {
   "cell_type": "markdown",
   "id": "59bd41d4-224e-4fd8-9c88-7179f4b5b6f1",
   "metadata": {},
   "source": [
    "* Are there any stations that have a significantly higher rate of on-time arrivals compared to others?"
   ]
  },
  {
   "cell_type": "code",
   "execution_count": 61,
   "id": "7f39b892-0ea2-4fea-9633-a636abc1ddbe",
   "metadata": {},
   "outputs": [],
   "source": [
    "temp_df5 = data[data[\"Journey Status\"] == \"On Time\"][\"Arrival Destination\"].value_counts().to_frame()"
   ]
  },
  {
   "cell_type": "code",
   "execution_count": 62,
   "id": "1357989f-a3ca-427e-9658-2ed0e4eb0134",
   "metadata": {},
   "outputs": [],
   "source": [
    "temp_df6 = data[\"Arrival Destination\"].value_counts().to_frame()"
   ]
  },
  {
   "cell_type": "code",
   "execution_count": 63,
   "id": "c8c1fe3d-6268-4931-b8d8-453e18c55064",
   "metadata": {},
   "outputs": [],
   "source": [
    "temp_df7 = pd.merge(temp_df5 , temp_df6 , on = \"Arrival Destination\")"
   ]
  },
  {
   "cell_type": "code",
   "execution_count": 64,
   "id": "fba8f0f5-10c6-462f-93d1-c86444b4033e",
   "metadata": {},
   "outputs": [],
   "source": [
    "temp_df7[\"on time percentage\"] = round(((temp_df7[\"count_x\"]/temp_df7[\"count_y\"])*100),2)"
   ]
  },
  {
   "cell_type": "code",
   "execution_count": 65,
   "id": "209057fd-de63-4c04-b19e-693f934c0f06",
   "metadata": {},
   "outputs": [
    {
     "data": {
      "text/html": [
       "<div>\n",
       "<style scoped>\n",
       "    .dataframe tbody tr th:only-of-type {\n",
       "        vertical-align: middle;\n",
       "    }\n",
       "\n",
       "    .dataframe tbody tr th {\n",
       "        vertical-align: top;\n",
       "    }\n",
       "\n",
       "    .dataframe thead th {\n",
       "        text-align: right;\n",
       "    }\n",
       "</style>\n",
       "<table border=\"1\" class=\"dataframe\">\n",
       "  <thead>\n",
       "    <tr style=\"text-align: right;\">\n",
       "      <th></th>\n",
       "      <th>count_x</th>\n",
       "      <th>count_y</th>\n",
       "      <th>on time percentage</th>\n",
       "    </tr>\n",
       "    <tr>\n",
       "      <th>Arrival Destination</th>\n",
       "      <th></th>\n",
       "      <th></th>\n",
       "      <th></th>\n",
       "    </tr>\n",
       "  </thead>\n",
       "  <tbody>\n",
       "    <tr>\n",
       "      <th>Warrington</th>\n",
       "      <td>15</td>\n",
       "      <td>15</td>\n",
       "      <td>100.00</td>\n",
       "    </tr>\n",
       "    <tr>\n",
       "      <th>Cardiff Central</th>\n",
       "      <td>16</td>\n",
       "      <td>16</td>\n",
       "      <td>100.00</td>\n",
       "    </tr>\n",
       "    <tr>\n",
       "      <th>Sheffield</th>\n",
       "      <td>270</td>\n",
       "      <td>272</td>\n",
       "      <td>99.26</td>\n",
       "    </tr>\n",
       "    <tr>\n",
       "      <th>Stafford</th>\n",
       "      <td>186</td>\n",
       "      <td>190</td>\n",
       "      <td>97.89</td>\n",
       "    </tr>\n",
       "    <tr>\n",
       "      <th>Crewe</th>\n",
       "      <td>188</td>\n",
       "      <td>193</td>\n",
       "      <td>97.41</td>\n",
       "    </tr>\n",
       "    <tr>\n",
       "      <th>Edinburgh</th>\n",
       "      <td>150</td>\n",
       "      <td>154</td>\n",
       "      <td>97.40</td>\n",
       "    </tr>\n",
       "    <tr>\n",
       "      <th>Wolverhampton</th>\n",
       "      <td>111</td>\n",
       "      <td>115</td>\n",
       "      <td>96.52</td>\n",
       "    </tr>\n",
       "    <tr>\n",
       "      <th>Leicester</th>\n",
       "      <td>321</td>\n",
       "      <td>337</td>\n",
       "      <td>95.25</td>\n",
       "    </tr>\n",
       "    <tr>\n",
       "      <th>Edinburgh Waverley</th>\n",
       "      <td>169</td>\n",
       "      <td>178</td>\n",
       "      <td>94.94</td>\n",
       "    </tr>\n",
       "    <tr>\n",
       "      <th>Swindon</th>\n",
       "      <td>216</td>\n",
       "      <td>228</td>\n",
       "      <td>94.74</td>\n",
       "    </tr>\n",
       "    <tr>\n",
       "      <th>Nuneaton</th>\n",
       "      <td>205</td>\n",
       "      <td>219</td>\n",
       "      <td>93.61</td>\n",
       "    </tr>\n",
       "    <tr>\n",
       "      <th>London St Pancras</th>\n",
       "      <td>695</td>\n",
       "      <td>749</td>\n",
       "      <td>92.79</td>\n",
       "    </tr>\n",
       "    <tr>\n",
       "      <th>Tamworth</th>\n",
       "      <td>210</td>\n",
       "      <td>227</td>\n",
       "      <td>92.51</td>\n",
       "    </tr>\n",
       "    <tr>\n",
       "      <th>Coventry</th>\n",
       "      <td>60</td>\n",
       "      <td>65</td>\n",
       "      <td>92.31</td>\n",
       "    </tr>\n",
       "    <tr>\n",
       "      <th>London Paddington</th>\n",
       "      <td>321</td>\n",
       "      <td>351</td>\n",
       "      <td>91.45</td>\n",
       "    </tr>\n",
       "    <tr>\n",
       "      <th>York</th>\n",
       "      <td>3673</td>\n",
       "      <td>4019</td>\n",
       "      <td>91.39</td>\n",
       "    </tr>\n",
       "    <tr>\n",
       "      <th>London Waterloo</th>\n",
       "      <td>62</td>\n",
       "      <td>68</td>\n",
       "      <td>91.18</td>\n",
       "    </tr>\n",
       "    <tr>\n",
       "      <th>Reading</th>\n",
       "      <td>3565</td>\n",
       "      <td>3920</td>\n",
       "      <td>90.94</td>\n",
       "    </tr>\n",
       "    <tr>\n",
       "      <th>Peterborough</th>\n",
       "      <td>220</td>\n",
       "      <td>242</td>\n",
       "      <td>90.91</td>\n",
       "    </tr>\n",
       "    <tr>\n",
       "      <th>Birmingham New Street</th>\n",
       "      <td>7012</td>\n",
       "      <td>7742</td>\n",
       "      <td>90.57</td>\n",
       "    </tr>\n",
       "    <tr>\n",
       "      <th>Manchester Piccadilly</th>\n",
       "      <td>3576</td>\n",
       "      <td>3968</td>\n",
       "      <td>90.12</td>\n",
       "    </tr>\n",
       "    <tr>\n",
       "      <th>Oxford</th>\n",
       "      <td>554</td>\n",
       "      <td>623</td>\n",
       "      <td>88.92</td>\n",
       "    </tr>\n",
       "    <tr>\n",
       "      <th>Didcot</th>\n",
       "      <td>42</td>\n",
       "      <td>48</td>\n",
       "      <td>87.50</td>\n",
       "    </tr>\n",
       "    <tr>\n",
       "      <th>Durham</th>\n",
       "      <td>225</td>\n",
       "      <td>258</td>\n",
       "      <td>87.21</td>\n",
       "    </tr>\n",
       "    <tr>\n",
       "      <th>Liverpool Lime Street</th>\n",
       "      <td>4372</td>\n",
       "      <td>5022</td>\n",
       "      <td>87.06</td>\n",
       "    </tr>\n",
       "    <tr>\n",
       "      <th>Bristol Temple Meads</th>\n",
       "      <td>123</td>\n",
       "      <td>144</td>\n",
       "      <td>85.42</td>\n",
       "    </tr>\n",
       "    <tr>\n",
       "      <th>Nottingham</th>\n",
       "      <td>132</td>\n",
       "      <td>158</td>\n",
       "      <td>83.54</td>\n",
       "    </tr>\n",
       "    <tr>\n",
       "      <th>Doncaster</th>\n",
       "      <td>173</td>\n",
       "      <td>211</td>\n",
       "      <td>81.99</td>\n",
       "    </tr>\n",
       "    <tr>\n",
       "      <th>Leeds</th>\n",
       "      <td>190</td>\n",
       "      <td>255</td>\n",
       "      <td>74.51</td>\n",
       "    </tr>\n",
       "    <tr>\n",
       "      <th>London Kings Cross</th>\n",
       "      <td>33</td>\n",
       "      <td>84</td>\n",
       "      <td>39.29</td>\n",
       "    </tr>\n",
       "    <tr>\n",
       "      <th>London Euston</th>\n",
       "      <td>396</td>\n",
       "      <td>1567</td>\n",
       "      <td>25.27</td>\n",
       "    </tr>\n",
       "  </tbody>\n",
       "</table>\n",
       "</div>"
      ],
      "text/plain": [
       "                       count_x  count_y  on time percentage\n",
       "Arrival Destination                                        \n",
       "Warrington                  15       15              100.00\n",
       "Cardiff Central             16       16              100.00\n",
       "Sheffield                  270      272               99.26\n",
       "Stafford                   186      190               97.89\n",
       "Crewe                      188      193               97.41\n",
       "Edinburgh                  150      154               97.40\n",
       "Wolverhampton              111      115               96.52\n",
       "Leicester                  321      337               95.25\n",
       "Edinburgh Waverley         169      178               94.94\n",
       "Swindon                    216      228               94.74\n",
       "Nuneaton                   205      219               93.61\n",
       "London St Pancras          695      749               92.79\n",
       "Tamworth                   210      227               92.51\n",
       "Coventry                    60       65               92.31\n",
       "London Paddington          321      351               91.45\n",
       "York                      3673     4019               91.39\n",
       "London Waterloo             62       68               91.18\n",
       "Reading                   3565     3920               90.94\n",
       "Peterborough               220      242               90.91\n",
       "Birmingham New Street     7012     7742               90.57\n",
       "Manchester Piccadilly     3576     3968               90.12\n",
       "Oxford                     554      623               88.92\n",
       "Didcot                      42       48               87.50\n",
       "Durham                     225      258               87.21\n",
       "Liverpool Lime Street     4372     5022               87.06\n",
       "Bristol Temple Meads       123      144               85.42\n",
       "Nottingham                 132      158               83.54\n",
       "Doncaster                  173      211               81.99\n",
       "Leeds                      190      255               74.51\n",
       "London Kings Cross          33       84               39.29\n",
       "London Euston              396     1567               25.27"
      ]
     },
     "execution_count": 65,
     "metadata": {},
     "output_type": "execute_result"
    }
   ],
   "source": [
    "temp_df7.sort_values(\"on time percentage\", ascending = False)"
   ]
  },
  {
   "cell_type": "code",
   "execution_count": 66,
   "id": "f210eedc-70b5-438f-bb48-1db92619f283",
   "metadata": {},
   "outputs": [
    {
     "name": "stdout",
     "output_type": "stream",
     "text": [
      "we can see from the previous table that we we have only 2 stations which has 100% on time rate but they have very little journeys so we can say Sheffield is the station which has higher rate of on-time arrivals compared to other around 3 percent more but we cant say thant there is any station which has significantly higher rate of on-time arrivals compared to others.\n"
     ]
    }
   ],
   "source": [
    "print(\"we can see from the previous table that we we have only 2 stations which has 100% on time rate but they have very little journeys so we can say Sheffield is the station which has higher rate of on-time arrivals compared to other around 3 percent more but we cant say thant there is any station which has significantly higher rate of on-time arrivals compared to others.\")"
   ]
  },
  {
   "cell_type": "markdown",
   "id": "b9b9d7b2-4e8f-4778-98ab-e6153ab99def",
   "metadata": {},
   "source": [
    "# 8. Refund Requests:"
   ]
  },
  {
   "cell_type": "markdown",
   "id": "ddd68380-bec9-426f-b224-8e1f552d2102",
   "metadata": {},
   "source": [
    "* How many refund requests were made?"
   ]
  },
  {
   "cell_type": "code",
   "execution_count": 67,
   "id": "f9d78ef6-b267-48f7-804d-65a34f646ad9",
   "metadata": {},
   "outputs": [],
   "source": [
    "temp_df8 = data[\"Refund Request\"].value_counts()"
   ]
  },
  {
   "cell_type": "code",
   "execution_count": 68,
   "id": "58faf52b-97dd-4468-b946-76738780eb66",
   "metadata": {},
   "outputs": [],
   "source": [
    "answer = temp_df8[temp_df8.index[1]]"
   ]
  },
  {
   "cell_type": "code",
   "execution_count": 69,
   "id": "f40fcf33-69d6-4875-bfb5-f153cc58f539",
   "metadata": {},
   "outputs": [
    {
     "name": "stdout",
     "output_type": "stream",
     "text": [
      "1118 refund requests were made.\n"
     ]
    }
   ],
   "source": [
    "print(f\"{answer} refund requests were made.\")"
   ]
  },
  {
   "cell_type": "markdown",
   "id": "0464e194-235b-4b4f-a0dc-558928c5ce16",
   "metadata": {},
   "source": [
    "* Is there a pattern in the refund requests in terms of journey status or reasons for delay?"
   ]
  },
  {
   "cell_type": "code",
   "execution_count": 70,
   "id": "346267fc-f0c8-4c8a-b705-6e4c5eb501f4",
   "metadata": {},
   "outputs": [],
   "source": [
    "temp_data1 = data.groupby(\"Journey Status\")[\"Refund Request\"].value_counts().to_frame().unstack()"
   ]
  },
  {
   "cell_type": "code",
   "execution_count": 71,
   "id": "8da3210d-9791-47a3-b350-8fee1a321e44",
   "metadata": {},
   "outputs": [],
   "source": [
    "temp_data1[\"total\"] = temp_data1[\"count\"][\"Yes\"]+temp_data1[\"count\"][\"No\"]"
   ]
  },
  {
   "cell_type": "code",
   "execution_count": 72,
   "id": "8a15838c-0afc-47eb-97a7-594a6bf52683",
   "metadata": {},
   "outputs": [
    {
     "name": "stdout",
     "output_type": "stream",
     "text": [
      "this shows how many percent people want refund in that category.\n"
     ]
    },
    {
     "data": {
      "text/html": [
       "<div>\n",
       "<style scoped>\n",
       "    .dataframe tbody tr th:only-of-type {\n",
       "        vertical-align: middle;\n",
       "    }\n",
       "\n",
       "    .dataframe tbody tr th {\n",
       "        vertical-align: top;\n",
       "    }\n",
       "\n",
       "    .dataframe thead th {\n",
       "        text-align: right;\n",
       "    }\n",
       "</style>\n",
       "<table border=\"1\" class=\"dataframe\">\n",
       "  <thead>\n",
       "    <tr style=\"text-align: right;\">\n",
       "      <th></th>\n",
       "      <th>percentage</th>\n",
       "    </tr>\n",
       "    <tr>\n",
       "      <th>Journey Status</th>\n",
       "      <th></th>\n",
       "    </tr>\n",
       "  </thead>\n",
       "  <tbody>\n",
       "    <tr>\n",
       "      <th>Cancelled</th>\n",
       "      <td>30.43</td>\n",
       "    </tr>\n",
       "    <tr>\n",
       "      <th>Delayed</th>\n",
       "      <td>23.82</td>\n",
       "    </tr>\n",
       "    <tr>\n",
       "      <th>On Time</th>\n",
       "      <td>NaN</td>\n",
       "    </tr>\n",
       "  </tbody>\n",
       "</table>\n",
       "</div>"
      ],
      "text/plain": [
       "                percentage\n",
       "Journey Status            \n",
       "Cancelled            30.43\n",
       "Delayed              23.82\n",
       "On Time                NaN"
      ]
     },
     "execution_count": 72,
     "metadata": {},
     "output_type": "execute_result"
    }
   ],
   "source": [
    "print(\"this shows how many percent people want refund in that category.\")\n",
    "(round(((temp_data1[\"count\"][\"Yes\"]/temp_data1[\"total\"])*100),2)).to_frame().set_axis([\"percentage\"], axis = 1)"
   ]
  },
  {
   "cell_type": "code",
   "execution_count": 73,
   "id": "3c0021aa-af9d-4313-a0fc-79e3e7227566",
   "metadata": {},
   "outputs": [],
   "source": [
    "temp_data2 = data.groupby(\"Reason for Delay\")[\"Refund Request\"].value_counts().to_frame().unstack()"
   ]
  },
  {
   "cell_type": "code",
   "execution_count": 74,
   "id": "7a23725f-8b14-4edd-b53a-68ed1ca9e495",
   "metadata": {},
   "outputs": [],
   "source": [
    "temp_data2[\"total\"] = temp_data2[\"count\"][\"Yes\"]+temp_data2[\"count\"][\"No\"]"
   ]
  },
  {
   "cell_type": "code",
   "execution_count": 75,
   "id": "a2abbad1-86ef-41f0-a8b1-b1607dd390bd",
   "metadata": {},
   "outputs": [
    {
     "name": "stdout",
     "output_type": "stream",
     "text": [
      "this shows how many percent people want refund in that category.\n"
     ]
    },
    {
     "data": {
      "text/html": [
       "<div>\n",
       "<style scoped>\n",
       "    .dataframe tbody tr th:only-of-type {\n",
       "        vertical-align: middle;\n",
       "    }\n",
       "\n",
       "    .dataframe tbody tr th {\n",
       "        vertical-align: top;\n",
       "    }\n",
       "\n",
       "    .dataframe thead th {\n",
       "        text-align: right;\n",
       "    }\n",
       "</style>\n",
       "<table border=\"1\" class=\"dataframe\">\n",
       "  <thead>\n",
       "    <tr style=\"text-align: right;\">\n",
       "      <th></th>\n",
       "      <th>percentage</th>\n",
       "    </tr>\n",
       "    <tr>\n",
       "      <th>Reason for Delay</th>\n",
       "      <th></th>\n",
       "    </tr>\n",
       "  </thead>\n",
       "  <tbody>\n",
       "    <tr>\n",
       "      <th>Technical Issue</th>\n",
       "      <td>54.88</td>\n",
       "    </tr>\n",
       "    <tr>\n",
       "      <th>Staffing</th>\n",
       "      <td>44.39</td>\n",
       "    </tr>\n",
       "    <tr>\n",
       "      <th>Traffic</th>\n",
       "      <td>38.54</td>\n",
       "    </tr>\n",
       "    <tr>\n",
       "      <th>Signal failure</th>\n",
       "      <td>22.16</td>\n",
       "    </tr>\n",
       "    <tr>\n",
       "      <th>Staff Shortage</th>\n",
       "      <td>19.80</td>\n",
       "    </tr>\n",
       "    <tr>\n",
       "      <th>Weather Conditions</th>\n",
       "      <td>9.69</td>\n",
       "    </tr>\n",
       "  </tbody>\n",
       "</table>\n",
       "</div>"
      ],
      "text/plain": [
       "                    percentage\n",
       "Reason for Delay              \n",
       "Technical Issue          54.88\n",
       "Staffing                 44.39\n",
       "Traffic                  38.54\n",
       "Signal failure           22.16\n",
       "Staff Shortage           19.80\n",
       "Weather Conditions        9.69"
      ]
     },
     "execution_count": 75,
     "metadata": {},
     "output_type": "execute_result"
    }
   ],
   "source": [
    "print(\"this shows how many percent people want refund in that category.\")\n",
    "(round(((temp_data2[\"count\"][\"Yes\"]/temp_data2[\"total\"])*100),2)).to_frame().sort_values(0 , ascending = False).set_axis([\"percentage\"], axis = 1)"
   ]
  },
  {
   "cell_type": "markdown",
   "id": "90a4cff6-3815-43ee-9139-f12741799f56",
   "metadata": {},
   "source": [
    "* What percentage of delayed journeys resulted in a refund request?"
   ]
  },
  {
   "cell_type": "code",
   "execution_count": 76,
   "id": "7986cad9-0ffe-4aba-9211-25af3498cd8f",
   "metadata": {},
   "outputs": [],
   "source": [
    "temp_df9 = data[data[\"Journey Status\"] == \"Delayed\"]"
   ]
  },
  {
   "cell_type": "code",
   "execution_count": 77,
   "id": "569663e7-dd63-4325-bda6-640050802676",
   "metadata": {},
   "outputs": [],
   "source": [
    "num_of_delay = temp_df9[\"Refund Request\"].count()"
   ]
  },
  {
   "cell_type": "code",
   "execution_count": 78,
   "id": "a9a09e30-5f1d-4a9d-9799-7357b7ae802b",
   "metadata": {},
   "outputs": [],
   "source": [
    "refund_requests = temp_df9[\"Refund Request\"].value_counts().to_frame().values[1][0]"
   ]
  },
  {
   "cell_type": "code",
   "execution_count": 79,
   "id": "1071c549-5fa1-4725-a0bd-07bf65e685db",
   "metadata": {},
   "outputs": [],
   "source": [
    "answer = round((refund_requests/num_of_delay)*100)"
   ]
  },
  {
   "cell_type": "code",
   "execution_count": 80,
   "id": "9dcf6529-60ba-4d3e-acb1-fe7ff6e225b4",
   "metadata": {},
   "outputs": [
    {
     "name": "stdout",
     "output_type": "stream",
     "text": [
      "24% of delayed journeys resulted in a refund request.\n"
     ]
    }
   ],
   "source": [
    "print(f\"{answer}% of delayed journeys resulted in a refund request.\")"
   ]
  }
 ],
 "metadata": {
  "kernelspec": {
   "display_name": "Python 3 (ipykernel)",
   "language": "python",
   "name": "python3"
  },
  "language_info": {
   "codemirror_mode": {
    "name": "ipython",
    "version": 3
   },
   "file_extension": ".py",
   "mimetype": "text/x-python",
   "name": "python",
   "nbconvert_exporter": "python",
   "pygments_lexer": "ipython3",
   "version": "3.11.4"
  }
 },
 "nbformat": 4,
 "nbformat_minor": 5
}
