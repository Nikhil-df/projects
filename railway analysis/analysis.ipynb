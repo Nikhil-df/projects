{
 "cells": [
  {
   "cell_type": "code",
   "execution_count": 1,
   "id": "7ef7f770-0810-4f11-9953-dbbce4693447",
   "metadata": {},
   "outputs": [],
   "source": [
    "import pandas as pd"
   ]
  },
  {
   "cell_type": "code",
   "execution_count": 2,
   "id": "13c8b2ff-6c63-4b87-9e25-7086a9a9792c",
   "metadata": {},
   "outputs": [],
   "source": [
    "org_data = pd.read_csv(\"railway.csv\")"
   ]
  },
  {
   "cell_type": "code",
   "execution_count": 3,
   "id": "73bbf844-28ca-415f-a666-1c700177a44c",
   "metadata": {},
   "outputs": [],
   "source": [
    "data = org_data.copy()"
   ]
  },
  {
   "cell_type": "code",
   "execution_count": 4,
   "id": "d9d3d919-f52e-49f9-a7e1-9f6ca11ce6e9",
   "metadata": {},
   "outputs": [
    {
     "data": {
      "text/html": [
       "<div>\n",
       "<style scoped>\n",
       "    .dataframe tbody tr th:only-of-type {\n",
       "        vertical-align: middle;\n",
       "    }\n",
       "\n",
       "    .dataframe tbody tr th {\n",
       "        vertical-align: top;\n",
       "    }\n",
       "\n",
       "    .dataframe thead th {\n",
       "        text-align: right;\n",
       "    }\n",
       "</style>\n",
       "<table border=\"1\" class=\"dataframe\">\n",
       "  <thead>\n",
       "    <tr style=\"text-align: right;\">\n",
       "      <th></th>\n",
       "      <th>Transaction ID</th>\n",
       "      <th>Date of Purchase</th>\n",
       "      <th>Time of Purchase</th>\n",
       "      <th>Purchase Type</th>\n",
       "      <th>Payment Method</th>\n",
       "      <th>Railcard</th>\n",
       "      <th>Ticket Class</th>\n",
       "      <th>Ticket Type</th>\n",
       "      <th>Price</th>\n",
       "      <th>Departure Station</th>\n",
       "      <th>Arrival Destination</th>\n",
       "      <th>Date of Journey</th>\n",
       "      <th>Departure Time</th>\n",
       "      <th>Arrival Time</th>\n",
       "      <th>Actual Arrival Time</th>\n",
       "      <th>Journey Status</th>\n",
       "      <th>Reason for Delay</th>\n",
       "      <th>Refund Request</th>\n",
       "    </tr>\n",
       "  </thead>\n",
       "  <tbody>\n",
       "    <tr>\n",
       "      <th>19650</th>\n",
       "      <td>2a48de5e-c22c-48bd-b0d6</td>\n",
       "      <td>15-03-2024</td>\n",
       "      <td>18:11:06</td>\n",
       "      <td>Online</td>\n",
       "      <td>Credit Card</td>\n",
       "      <td>Senior</td>\n",
       "      <td>Standard</td>\n",
       "      <td>Anytime</td>\n",
       "      <td>31</td>\n",
       "      <td>London St Pancras</td>\n",
       "      <td>Leicester</td>\n",
       "      <td>15-03-2024</td>\n",
       "      <td>18:45:00</td>\n",
       "      <td>19:45:00</td>\n",
       "      <td>19:45:00</td>\n",
       "      <td>On Time</td>\n",
       "      <td>NaN</td>\n",
       "      <td>No</td>\n",
       "    </tr>\n",
       "    <tr>\n",
       "      <th>14667</th>\n",
       "      <td>009fbe41-bf3e-4ae2-9fa1</td>\n",
       "      <td>18-02-2024</td>\n",
       "      <td>17:37:27</td>\n",
       "      <td>Station</td>\n",
       "      <td>Debit Card</td>\n",
       "      <td>Disabled</td>\n",
       "      <td>Standard</td>\n",
       "      <td>Advance</td>\n",
       "      <td>4</td>\n",
       "      <td>London Euston</td>\n",
       "      <td>Birmingham New Street</td>\n",
       "      <td>27-02-2024</td>\n",
       "      <td>16:00:00</td>\n",
       "      <td>17:20:00</td>\n",
       "      <td>18:19:00</td>\n",
       "      <td>Delayed</td>\n",
       "      <td>Weather</td>\n",
       "      <td>No</td>\n",
       "    </tr>\n",
       "    <tr>\n",
       "      <th>29551</th>\n",
       "      <td>ff9f7be0-e025-4e78-af1a</td>\n",
       "      <td>22-04-2024</td>\n",
       "      <td>16:08:16</td>\n",
       "      <td>Station</td>\n",
       "      <td>Credit Card</td>\n",
       "      <td>Adult</td>\n",
       "      <td>Standard</td>\n",
       "      <td>Anytime</td>\n",
       "      <td>9</td>\n",
       "      <td>London Euston</td>\n",
       "      <td>Birmingham New Street</td>\n",
       "      <td>22-04-2024</td>\n",
       "      <td>17:45:00</td>\n",
       "      <td>19:05:00</td>\n",
       "      <td>19:05:00</td>\n",
       "      <td>On Time</td>\n",
       "      <td>NaN</td>\n",
       "      <td>No</td>\n",
       "    </tr>\n",
       "    <tr>\n",
       "      <th>25641</th>\n",
       "      <td>b9d39efd-f662-4759-86d6</td>\n",
       "      <td>08-04-2024</td>\n",
       "      <td>09:31:13</td>\n",
       "      <td>Online</td>\n",
       "      <td>Contactless</td>\n",
       "      <td>NaN</td>\n",
       "      <td>Standard</td>\n",
       "      <td>Off-Peak</td>\n",
       "      <td>12</td>\n",
       "      <td>London St Pancras</td>\n",
       "      <td>Birmingham New Street</td>\n",
       "      <td>08-04-2024</td>\n",
       "      <td>11:00:00</td>\n",
       "      <td>12:20:00</td>\n",
       "      <td>12:20:00</td>\n",
       "      <td>On Time</td>\n",
       "      <td>NaN</td>\n",
       "      <td>No</td>\n",
       "    </tr>\n",
       "    <tr>\n",
       "      <th>446</th>\n",
       "      <td>96f4660d-6f44-4a37-81b3</td>\n",
       "      <td>03-01-2024</td>\n",
       "      <td>07:25:28</td>\n",
       "      <td>Online</td>\n",
       "      <td>Contactless</td>\n",
       "      <td>NaN</td>\n",
       "      <td>First Class</td>\n",
       "      <td>Anytime</td>\n",
       "      <td>54</td>\n",
       "      <td>London Paddington</td>\n",
       "      <td>Reading</td>\n",
       "      <td>03-01-2024</td>\n",
       "      <td>08:45:00</td>\n",
       "      <td>09:45:00</td>\n",
       "      <td>09:45:00</td>\n",
       "      <td>On Time</td>\n",
       "      <td>NaN</td>\n",
       "      <td>No</td>\n",
       "    </tr>\n",
       "  </tbody>\n",
       "</table>\n",
       "</div>"
      ],
      "text/plain": [
       "                Transaction ID Date of Purchase Time of Purchase  \\\n",
       "19650  2a48de5e-c22c-48bd-b0d6       15-03-2024         18:11:06   \n",
       "14667  009fbe41-bf3e-4ae2-9fa1       18-02-2024         17:37:27   \n",
       "29551  ff9f7be0-e025-4e78-af1a       22-04-2024         16:08:16   \n",
       "25641  b9d39efd-f662-4759-86d6       08-04-2024         09:31:13   \n",
       "446    96f4660d-6f44-4a37-81b3       03-01-2024         07:25:28   \n",
       "\n",
       "      Purchase Type Payment Method  Railcard Ticket Class Ticket Type  Price  \\\n",
       "19650        Online    Credit Card    Senior     Standard     Anytime     31   \n",
       "14667       Station     Debit Card  Disabled     Standard     Advance      4   \n",
       "29551       Station    Credit Card     Adult     Standard     Anytime      9   \n",
       "25641        Online    Contactless       NaN     Standard    Off-Peak     12   \n",
       "446          Online    Contactless       NaN  First Class     Anytime     54   \n",
       "\n",
       "       Departure Station    Arrival Destination Date of Journey  \\\n",
       "19650  London St Pancras              Leicester      15-03-2024   \n",
       "14667      London Euston  Birmingham New Street      27-02-2024   \n",
       "29551      London Euston  Birmingham New Street      22-04-2024   \n",
       "25641  London St Pancras  Birmingham New Street      08-04-2024   \n",
       "446    London Paddington                Reading      03-01-2024   \n",
       "\n",
       "      Departure Time Arrival Time Actual Arrival Time Journey Status  \\\n",
       "19650       18:45:00     19:45:00            19:45:00        On Time   \n",
       "14667       16:00:00     17:20:00            18:19:00        Delayed   \n",
       "29551       17:45:00     19:05:00            19:05:00        On Time   \n",
       "25641       11:00:00     12:20:00            12:20:00        On Time   \n",
       "446         08:45:00     09:45:00            09:45:00        On Time   \n",
       "\n",
       "      Reason for Delay Refund Request  \n",
       "19650              NaN             No  \n",
       "14667          Weather             No  \n",
       "29551              NaN             No  \n",
       "25641              NaN             No  \n",
       "446                NaN             No  "
      ]
     },
     "execution_count": 4,
     "metadata": {},
     "output_type": "execute_result"
    }
   ],
   "source": [
    "data.sample(5)"
   ]
  },
  {
   "cell_type": "code",
   "execution_count": 5,
   "id": "75b2706a-4139-45bc-9cc7-cb2b8ed1d938",
   "metadata": {},
   "outputs": [
    {
     "name": "stdout",
     "output_type": "stream",
     "text": [
      "<class 'pandas.core.frame.DataFrame'>\n",
      "RangeIndex: 31653 entries, 0 to 31652\n",
      "Data columns (total 18 columns):\n",
      " #   Column               Non-Null Count  Dtype \n",
      "---  ------               --------------  ----- \n",
      " 0   Transaction ID       31653 non-null  object\n",
      " 1   Date of Purchase     31653 non-null  object\n",
      " 2   Time of Purchase     31653 non-null  object\n",
      " 3   Purchase Type        31653 non-null  object\n",
      " 4   Payment Method       31653 non-null  object\n",
      " 5   Railcard             10735 non-null  object\n",
      " 6   Ticket Class         31653 non-null  object\n",
      " 7   Ticket Type          31653 non-null  object\n",
      " 8   Price                31653 non-null  int64 \n",
      " 9   Departure Station    31653 non-null  object\n",
      " 10  Arrival Destination  31653 non-null  object\n",
      " 11  Date of Journey      31653 non-null  object\n",
      " 12  Departure Time       31653 non-null  object\n",
      " 13  Arrival Time         31653 non-null  object\n",
      " 14  Actual Arrival Time  29773 non-null  object\n",
      " 15  Journey Status       31653 non-null  object\n",
      " 16  Reason for Delay     4172 non-null   object\n",
      " 17  Refund Request       31653 non-null  object\n",
      "dtypes: int64(1), object(17)\n",
      "memory usage: 4.3+ MB\n"
     ]
    }
   ],
   "source": [
    "data.info()"
   ]
  },
  {
   "cell_type": "code",
   "execution_count": 6,
   "id": "84a3a527-fdbd-470e-9607-f8a5a2fb4a85",
   "metadata": {},
   "outputs": [],
   "source": [
    "data[\"Reason for Delay\"] = data[\"Reason for Delay\"].replace(\"Weather\" , \"Weather Conditions\")\n",
    "data[\"Reason for Delay\"] = data[\"Reason for Delay\"].replace('Signal Failure', 'Signal failure')"
   ]
  },
  {
   "cell_type": "code",
   "execution_count": 7,
   "id": "91767678-fd26-4b35-bc80-58bcf7fccfa6",
   "metadata": {},
   "outputs": [],
   "source": [
    "data[\"Date of Purchase\"] = pd.to_datetime(data[\"Date of Purchase\"] ,format = \"%d-%m-%Y\")\n",
    "data[\"Date of Journey\"] = pd.to_datetime(data[\"Date of Journey\"] ,format = \"%d-%m-%Y\")"
   ]
  },
  {
   "cell_type": "code",
   "execution_count": 8,
   "id": "08ed0fef-6006-4d06-80b2-45bf51d3f992",
   "metadata": {},
   "outputs": [
    {
     "name": "stdout",
     "output_type": "stream",
     "text": [
      "<class 'pandas.core.frame.DataFrame'>\n",
      "RangeIndex: 31653 entries, 0 to 31652\n",
      "Data columns (total 18 columns):\n",
      " #   Column               Non-Null Count  Dtype         \n",
      "---  ------               --------------  -----         \n",
      " 0   Transaction ID       31653 non-null  object        \n",
      " 1   Date of Purchase     31653 non-null  datetime64[ns]\n",
      " 2   Time of Purchase     31653 non-null  object        \n",
      " 3   Purchase Type        31653 non-null  object        \n",
      " 4   Payment Method       31653 non-null  object        \n",
      " 5   Railcard             10735 non-null  object        \n",
      " 6   Ticket Class         31653 non-null  object        \n",
      " 7   Ticket Type          31653 non-null  object        \n",
      " 8   Price                31653 non-null  int64         \n",
      " 9   Departure Station    31653 non-null  object        \n",
      " 10  Arrival Destination  31653 non-null  object        \n",
      " 11  Date of Journey      31653 non-null  datetime64[ns]\n",
      " 12  Departure Time       31653 non-null  object        \n",
      " 13  Arrival Time         31653 non-null  object        \n",
      " 14  Actual Arrival Time  29773 non-null  object        \n",
      " 15  Journey Status       31653 non-null  object        \n",
      " 16  Reason for Delay     4172 non-null   object        \n",
      " 17  Refund Request       31653 non-null  object        \n",
      "dtypes: datetime64[ns](2), int64(1), object(15)\n",
      "memory usage: 4.3+ MB\n"
     ]
    }
   ],
   "source": [
    "data.info()"
   ]
  },
  {
   "cell_type": "markdown",
   "id": "d7f995fc-6544-44f3-8f17-62b40aad8068",
   "metadata": {},
   "source": [
    "# 1. Overall Analysis:"
   ]
  },
  {
   "cell_type": "markdown",
   "id": "7be51765-85ff-4061-a9e6-1e30931e75b9",
   "metadata": {},
   "source": [
    "* What is the total revenue generated from ticket sales?"
   ]
  },
  {
   "cell_type": "code",
   "execution_count": 9,
   "id": "f2a2225b-e0a2-43c1-a003-00c1129c8843",
   "metadata": {},
   "outputs": [
    {
     "name": "stdout",
     "output_type": "stream",
     "text": [
      "Total revenue generated from ticket sales is 741921.\n"
     ]
    }
   ],
   "source": [
    "revenue = data[\"Price\"].sum()\n",
    "print(f\"Total revenue generated from ticket sales is {revenue}.\")"
   ]
  },
  {
   "cell_type": "markdown",
   "id": "a9013829-2fc9-4b5a-bdaf-00c8860945c6",
   "metadata": {},
   "source": [
    "* How many tickets were sold online versus at the station?"
   ]
  },
  {
   "cell_type": "code",
   "execution_count": 10,
   "id": "8b0c1bce-a89e-4595-b78f-c060a646651f",
   "metadata": {},
   "outputs": [],
   "source": [
    "total_sales_online = data[\"Price\"][data[\"Purchase Type\"] == \"Online\"].count()\n",
    "total_sales_station = data[\"Price\"][data[\"Purchase Type\"] == \"Station\"].count()"
   ]
  },
  {
   "cell_type": "code",
   "execution_count": 11,
   "id": "93b476d9-295d-446a-a17a-04cbc09fc492",
   "metadata": {},
   "outputs": [],
   "source": [
    "percintage_of_online = (total_sales_online / (total_sales_online + total_sales_station))*100\n",
    "percintage_of_station = (total_sales_station / (total_sales_online + total_sales_station))*100"
   ]
  },
  {
   "cell_type": "code",
   "execution_count": 12,
   "id": "b163816d-66e3-4ccd-9705-4c06eeb25a37",
   "metadata": {},
   "outputs": [
    {
     "name": "stdout",
     "output_type": "stream",
     "text": [
      "17% more tickets were sold online versus at the station.\n"
     ]
    }
   ],
   "source": [
    "print(f\"{round(percintage_of_online - percintage_of_station)}% more tickets were sold online versus at the station.\")"
   ]
  },
  {
   "cell_type": "markdown",
   "id": "b0119896-14bd-4e37-bd33-1efefc013e86",
   "metadata": {},
   "source": [
    "* What is the average price of tickets sold?"
   ]
  },
  {
   "cell_type": "code",
   "execution_count": 13,
   "id": "b353969c-c8f4-42de-8e35-6ae65d58acf0",
   "metadata": {},
   "outputs": [
    {
     "name": "stdout",
     "output_type": "stream",
     "text": [
      "Average price of tickets sold is 23.44.\n"
     ]
    }
   ],
   "source": [
    "avg = data[\"Price\"].mean()\n",
    "print(f\"Average price of tickets sold is {round(avg, 2)}.\")"
   ]
  },
  {
   "cell_type": "markdown",
   "id": "85b54a18-101f-4725-b3ec-afa6a06a3e7e",
   "metadata": {},
   "source": [
    "# 2. Sales by Time and Date:"
   ]
  },
  {
   "cell_type": "markdown",
   "id": "ae94292a-66e2-458f-bc15-d490fcafcf74",
   "metadata": {},
   "source": [
    "* Which date had the highest number of ticket purchases?"
   ]
  },
  {
   "cell_type": "code",
   "execution_count": 14,
   "id": "3af26485-d76d-4d69-b271-e08ac4b12570",
   "metadata": {},
   "outputs": [],
   "source": [
    "answer = data.groupby(\"Date of Purchase\")[\"Transaction ID\"].count().sort_values(ascending = False).head(1)"
   ]
  },
  {
   "cell_type": "code",
   "execution_count": 15,
   "id": "a917a0a6-d1bf-4278-83eb-adbf1d09800a",
   "metadata": {},
   "outputs": [],
   "source": [
    "date = str(str(answer.index[0]).split(\" \")[0])\n",
    "ticket_purchases = answer.values[0]"
   ]
  },
  {
   "cell_type": "code",
   "execution_count": 16,
   "id": "8c5cec9b-ee80-4522-a797-d04fcbce0416",
   "metadata": {},
   "outputs": [
    {
     "name": "stdout",
     "output_type": "stream",
     "text": [
      "2024-02-02 had the highest number of ticket purchases total 513.\n"
     ]
    }
   ],
   "source": [
    "print(f\"{date} had the highest number of ticket purchases total {ticket_purchases}.\")"
   ]
  },
  {
   "cell_type": "markdown",
   "id": "48725bb6-fed1-4c33-addd-b37b6c18595d",
   "metadata": {},
   "source": [
    "* What time of day sees the most ticket purchases?"
   ]
  },
  {
   "cell_type": "code",
   "execution_count": 17,
   "id": "37e01422-d8aa-4f3d-ba3d-a8f7548152bf",
   "metadata": {},
   "outputs": [],
   "source": [
    "temp_df = data.copy()"
   ]
  },
  {
   "cell_type": "code",
   "execution_count": 18,
   "id": "bf79c78f-e56c-43df-9e09-ccde662dfbce",
   "metadata": {},
   "outputs": [],
   "source": [
    "temp_df[\"hour\"] = temp_df[\"Time of Purchase\"].str.split(\":\").str[0]"
   ]
  },
  {
   "cell_type": "code",
   "execution_count": 19,
   "id": "5e33c052-d955-43fc-ad6a-2eacce008f4b",
   "metadata": {},
   "outputs": [],
   "source": [
    "answer = temp_df.groupby(\"hour\")[\"Transaction ID\"].count().sort_values(ascending = False).head(1)"
   ]
  },
  {
   "cell_type": "code",
   "execution_count": 20,
   "id": "bf6e56d0-6794-42ee-a6ea-84ce6defc40c",
   "metadata": {},
   "outputs": [
    {
     "name": "stdout",
     "output_type": "stream",
     "text": [
      "17 is the time of the day where most of the tickets are purchased.\n"
     ]
    }
   ],
   "source": [
    "print(f\"{answer.index[0]} is the time of the day where most of the tickets are purchased.\")"
   ]
  },
  {
   "cell_type": "markdown",
   "id": "de8b8a47-39f4-4981-a3e3-00ccb79dfbc5",
   "metadata": {},
   "source": [
    "* Is there a correlation between the time of purchase and the price of the ticket?"
   ]
  },
  {
   "cell_type": "code",
   "execution_count": 21,
   "id": "9bb90ac5-204d-4fb6-83ae-664b71645fa8",
   "metadata": {},
   "outputs": [
    {
     "data": {
      "text/plain": [
       "hour\n",
       "00    22.920000\n",
       "01    17.668605\n",
       "02    25.917445\n",
       "03    23.109304\n",
       "04    22.945887\n",
       "05    27.109195\n",
       "06    57.962827\n",
       "07    23.857283\n",
       "08    18.052291\n",
       "09    33.221739\n",
       "10    15.957877\n",
       "11    18.589502\n",
       "12    17.734634\n",
       "13    20.183024\n",
       "14    17.699304\n",
       "15    32.816757\n",
       "16    19.038826\n",
       "17    18.668978\n",
       "18    22.671579\n",
       "19    10.513793\n",
       "20    17.700313\n",
       "21    17.092496\n",
       "22    10.131004\n",
       "23    20.440771\n",
       "Name: Price, dtype: float64"
      ]
     },
     "execution_count": 21,
     "metadata": {},
     "output_type": "execute_result"
    }
   ],
   "source": [
    "temp_df.groupby(\"hour\")[\"Price\"].mean()"
   ]
  },
  {
   "cell_type": "code",
   "execution_count": 22,
   "id": "5bcb47e4-619e-4e74-a60a-dc664fef0e6b",
   "metadata": {},
   "outputs": [
    {
     "name": "stdout",
     "output_type": "stream",
     "text": [
      "yes, with the upper data we can see that the most expensive tickets were sold at 6.\n"
     ]
    }
   ],
   "source": [
    "print(\"yes, with the upper data we can see that the most expensive tickets were sold at 6.\")"
   ]
  },
  {
   "cell_type": "markdown",
   "id": "7cfee5d8-7300-4aa0-9c60-62c6ccfaf7f8",
   "metadata": {},
   "source": [
    "# 3. Journey and Delays:"
   ]
  },
  {
   "cell_type": "markdown",
   "id": "43a695af-fca1-4d29-bd34-b0e736a540d4",
   "metadata": {},
   "source": [
    "* What is the average delay time for delayed journeys?"
   ]
  },
  {
   "cell_type": "code",
   "execution_count": 23,
   "id": "aa74d005-0725-4b91-ae33-59685e9359df",
   "metadata": {},
   "outputs": [],
   "source": [
    "temp_df2 = data.copy()\n",
    "temp_df2 = temp_df2[temp_df2[\"Journey Status\"] == \"Delayed\"]"
   ]
  },
  {
   "cell_type": "code",
   "execution_count": 24,
   "id": "225c2040-a935-4245-81bf-e1de92baf6a9",
   "metadata": {},
   "outputs": [],
   "source": [
    "temp_df2[\"Departure Time\"] = pd.to_datetime(temp_df2[\"Departure Time\"] ,format = \"%H:%M:%S\")\n",
    "temp_df2[\"Arrival Time\"] = pd.to_datetime(temp_df2[\"Arrival Time\"] ,format = \"%H:%M:%S\")\n",
    "temp_df2[\"Actual Arrival Time\"] = pd.to_datetime(temp_df2[\"Actual Arrival Time\"] ,format = \"%H:%M:%S\")"
   ]
  },
  {
   "cell_type": "code",
   "execution_count": 25,
   "id": "c8787449-fac3-474a-9b1a-f21daad934ec",
   "metadata": {},
   "outputs": [],
   "source": [
    "temp_df2[\"delayed time\"] = temp_df2[\"Actual Arrival Time\"] - temp_df2[\"Arrival Time\"]     "
   ]
  },
  {
   "cell_type": "code",
   "execution_count": 26,
   "id": "1345d45c-82c9-4800-8194-e81cc8bfd269",
   "metadata": {},
   "outputs": [],
   "source": [
    "from datetime import timedelta"
   ]
  },
  {
   "cell_type": "code",
   "execution_count": 27,
   "id": "f0d0fcf7-5e33-406b-8dbf-1b98e604526b",
   "metadata": {},
   "outputs": [],
   "source": [
    "avg_time = temp_df2[\"delayed time\"].mean()\n",
    "seconds = avg_time.seconds\n",
    "hours, remainder = divmod(seconds, 3600)\n",
    "minutes, seconds = divmod(remainder, 60)"
   ]
  },
  {
   "cell_type": "code",
   "execution_count": 28,
   "id": "d9bb3687-8fe4-4873-b3e6-44701c90e233",
   "metadata": {},
   "outputs": [
    {
     "name": "stdout",
     "output_type": "stream",
     "text": [
      "Average delay time for delayed journeys is 42 minutes and 12 seconds.\n"
     ]
    }
   ],
   "source": [
    "print(f\"Average delay time for delayed journeys is {minutes} minutes and {seconds} seconds.\")"
   ]
  },
  {
   "cell_type": "markdown",
   "id": "86e76bf9-99e5-4c55-b91f-83cc535cb159",
   "metadata": {},
   "source": [
    "* Which station pair had the highest number of delayed journeys?"
   ]
  },
  {
   "cell_type": "code",
   "execution_count": 29,
   "id": "f597588d-d5f2-4df9-839f-e03f764bb133",
   "metadata": {},
   "outputs": [],
   "source": [
    "answer = temp_df2.groupby([\"Departure Station\",\"Arrival Destination\"])[\"Journey Status\"].count().sort_values(ascending = False).head(1)"
   ]
  },
  {
   "cell_type": "code",
   "execution_count": 30,
   "id": "1e965e64-57de-4f58-b61e-b32ba3461476",
   "metadata": {},
   "outputs": [
    {
     "name": "stdout",
     "output_type": "stream",
     "text": [
      "Combination of Liverpool Lime Street and London Euston has the highest number of delayed journey.\n"
     ]
    }
   ],
   "source": [
    "Departure_Station = answer.index[0][0]\n",
    "Arrival_Destination = answer.index[0][1]\n",
    "print(f\"Combination of {Departure_Station} and {Arrival_Destination} has the highest number of delayed journey.\")"
   ]
  },
  {
   "cell_type": "markdown",
   "id": "8388ad16-c198-4096-ab20-b0c53c227587",
   "metadata": {},
   "source": [
    "* What are the common reasons for delays?"
   ]
  },
  {
   "cell_type": "code",
   "execution_count": 35,
   "id": "73968c44-32e8-46f7-82cf-adc811b52ef6",
   "metadata": {},
   "outputs": [],
   "source": [
    "answer = temp_df2.groupby(\"Reason for Delay\")[\"Journey Status\"].count().sort_values(ascending = False).head(1).index[0]"
   ]
  },
  {
   "cell_type": "code",
   "execution_count": 36,
   "id": "0d33178e-c360-473e-84f1-695afff89a7a",
   "metadata": {},
   "outputs": [
    {
     "name": "stdout",
     "output_type": "stream",
     "text": [
      "Weather Conditions is the most common reason for delay.\n"
     ]
    }
   ],
   "source": [
    "print(f\"{answer} is the most common reason for delay.\")"
   ]
  },
  {
   "cell_type": "markdown",
   "id": "90102fff-48e0-4471-b6e1-eca9e1e47b7b",
   "metadata": {},
   "source": [
    "# 4. Purchase and Payment Methods:"
   ]
  },
  {
   "cell_type": "markdown",
   "id": "f1fb96b8-09ae-400c-b537-5ffd4793b774",
   "metadata": {},
   "source": [
    "* Which payment method is most commonly used?"
   ]
  },
  {
   "cell_type": "code",
   "execution_count": 47,
   "id": "8b806fb5-82f7-474c-bb3d-f8460d1cdbd3",
   "metadata": {},
   "outputs": [],
   "source": [
    "answer = data.groupby(\"Payment Method\")[\"Transaction ID\"].count().sort_values(ascending = False).head(1).index[0]"
   ]
  },
  {
   "cell_type": "code",
   "execution_count": 49,
   "id": "67281e57-b113-4d3e-9047-c6039d223e0b",
   "metadata": {},
   "outputs": [
    {
     "name": "stdout",
     "output_type": "stream",
     "text": [
      "most commonly used payment method is Credit Card.\n"
     ]
    }
   ],
   "source": [
    "print(f\"most commonly used payment method is {answer}.\")"
   ]
  },
  {
   "cell_type": "markdown",
   "id": "df887890-eeef-4f11-a340-cc08b59a62fa",
   "metadata": {},
   "source": [
    "* What proportion of tickets are purchased using contactless payments versus credit cards?"
   ]
  },
  {
   "cell_type": "code",
   "execution_count": 56,
   "id": "abbd5730-511c-45a9-93e3-4f1818220211",
   "metadata": {},
   "outputs": [
    {
     "data": {
      "text/plain": [
       "Payment Method\n",
       "Contactless    10834\n",
       "Credit Card    19136\n",
       "Name: Transaction ID, dtype: int64"
      ]
     },
     "execution_count": 56,
     "metadata": {},
     "output_type": "execute_result"
    }
   ],
   "source": [
    "data[(data[\"Payment Method\"] == \"Contactless\") | (data[\"Payment Method\"] == \"Credit Card\")].groupby(\"Payment Method\")[\"Transaction ID\"].count()"
   ]
  },
  {
   "cell_type": "code",
   "execution_count": 57,
   "id": "ca3c789c-1e84-4529-a57c-f1921d2a2e41",
   "metadata": {},
   "outputs": [],
   "source": [
    "total_purchases_using_Contactless = data[\"Price\"][data[\"Payment Method\"] == \"Contactless\"].count()\n",
    "total_purchases_using_CreditCard = data[\"Price\"][data[\"Payment Method\"] == \"Credit Card\"].count()"
   ]
  },
  {
   "cell_type": "code",
   "execution_count": 59,
   "id": "788eee1c-cc9d-4899-8a6e-03b286e2e7cb",
   "metadata": {},
   "outputs": [],
   "source": [
    "percintage_of_Contactless = (total_purchases_using_Contactless / (total_purchases_using_CreditCard + total_purchases_using_Contactless))*100\n",
    "percintage_of_CreditCard = (total_purchases_using_CreditCard / (total_purchases_using_CreditCard + total_purchases_using_Contactless))*100"
   ]
  },
  {
   "cell_type": "code",
   "execution_count": 64,
   "id": "f37f282e-e6b9-4d2a-9e43-87490eeb3d69",
   "metadata": {},
   "outputs": [
    {
     "name": "stdout",
     "output_type": "stream",
     "text": [
      "28% less tickets are purchased using contactless payments versus credit cards.\n"
     ]
    }
   ],
   "source": [
    "print(f\"{round(percintage_of_CreditCard - percintage_of_Contactless)}% less tickets are purchased using contactless payments versus credit cards.\")"
   ]
  },
  {
   "cell_type": "markdown",
   "id": "3ec7482f-bcdf-471c-b62e-3ce4d34182b8",
   "metadata": {},
   "source": [
    "* How does the purchase method (online vs. station) impact the price of the ticket?"
   ]
  },
  {
   "cell_type": "code",
   "execution_count": 69,
   "id": "081f5443-a230-4190-816f-ce375c97a951",
   "metadata": {},
   "outputs": [
    {
     "data": {
      "text/plain": [
       "Purchase Type\n",
       "Online     20.665947\n",
       "Station    27.350518\n",
       "Name: Price, dtype: float64"
      ]
     },
     "execution_count": 69,
     "metadata": {},
     "output_type": "execute_result"
    }
   ],
   "source": [
    "data.groupby(\"Purchase Type\")[\"Price\"].mean()"
   ]
  },
  {
   "cell_type": "code",
   "execution_count": 71,
   "id": "8244123c-9afe-487e-a990-2e92664b3480",
   "metadata": {},
   "outputs": [
    {
     "name": "stdout",
     "output_type": "stream",
     "text": [
      "from the above data we can se that the average price of ticket purchased on station is higher than the ticket purchased online.\n"
     ]
    }
   ],
   "source": [
    "print(\"from the above data we can se that the average price of ticket purchased on station is higher than the ticket purchased online.\")"
   ]
  }
 ],
 "metadata": {
  "kernelspec": {
   "display_name": "Python 3 (ipykernel)",
   "language": "python",
   "name": "python3"
  },
  "language_info": {
   "codemirror_mode": {
    "name": "ipython",
    "version": 3
   },
   "file_extension": ".py",
   "mimetype": "text/x-python",
   "name": "python",
   "nbconvert_exporter": "python",
   "pygments_lexer": "ipython3",
   "version": "3.11.4"
  }
 },
 "nbformat": 4,
 "nbformat_minor": 5
}
