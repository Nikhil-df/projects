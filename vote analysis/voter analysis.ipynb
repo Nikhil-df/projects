{
 "cells": [
  {
   "cell_type": "code",
   "execution_count": 45,
   "id": "13e0a415-ddb7-417b-bdab-71e65821ccc5",
   "metadata": {},
   "outputs": [],
   "source": [
    "import pandas as pd\n",
    "import numpy as np"
   ]
  },
  {
   "cell_type": "code",
   "execution_count": 2,
   "id": "81454b8b-d5a9-4c86-b544-46c289abe758",
   "metadata": {},
   "outputs": [],
   "source": [
    "dt_2014 = pd.read_csv(\"datasets/constituency_wise_results_2014.csv\")\n",
    "dt_2019 = pd.read_csv(\"datasets/constituency_wise_results_2019.csv\")"
   ]
  },
  {
   "cell_type": "code",
   "execution_count": 3,
   "id": "8ec5544a-c66a-47a9-8a08-19f35aebd3f4",
   "metadata": {},
   "outputs": [
    {
     "data": {
      "text/html": [
       "<div>\n",
       "<style scoped>\n",
       "    .dataframe tbody tr th:only-of-type {\n",
       "        vertical-align: middle;\n",
       "    }\n",
       "\n",
       "    .dataframe tbody tr th {\n",
       "        vertical-align: top;\n",
       "    }\n",
       "\n",
       "    .dataframe thead th {\n",
       "        text-align: right;\n",
       "    }\n",
       "</style>\n",
       "<table border=\"1\" class=\"dataframe\">\n",
       "  <thead>\n",
       "    <tr style=\"text-align: right;\">\n",
       "      <th></th>\n",
       "      <th>state</th>\n",
       "      <th>pc_name</th>\n",
       "      <th>candidate</th>\n",
       "      <th>sex</th>\n",
       "      <th>age</th>\n",
       "      <th>category</th>\n",
       "      <th>party</th>\n",
       "      <th>party_symbol</th>\n",
       "      <th>general_votes</th>\n",
       "      <th>postal_votes</th>\n",
       "      <th>total_votes</th>\n",
       "      <th>total_electors</th>\n",
       "    </tr>\n",
       "  </thead>\n",
       "  <tbody>\n",
       "    <tr>\n",
       "      <th>2293</th>\n",
       "      <td>Karnataka</td>\n",
       "      <td>Raichur</td>\n",
       "      <td>M NAGARAJ</td>\n",
       "      <td>M</td>\n",
       "      <td>29.0</td>\n",
       "      <td>ST</td>\n",
       "      <td>CPIM</td>\n",
       "      <td>Saw</td>\n",
       "      <td>6938</td>\n",
       "      <td>0</td>\n",
       "      <td>6938</td>\n",
       "      <td>1661606</td>\n",
       "    </tr>\n",
       "    <tr>\n",
       "      <th>6168</th>\n",
       "      <td>Uttar Pradesh</td>\n",
       "      <td>Agra</td>\n",
       "      <td>AMAR SINGH</td>\n",
       "      <td>M</td>\n",
       "      <td>38.0</td>\n",
       "      <td>SC</td>\n",
       "      <td>IND</td>\n",
       "      <td>Coconut</td>\n",
       "      <td>2450</td>\n",
       "      <td>3</td>\n",
       "      <td>2453</td>\n",
       "      <td>1814739</td>\n",
       "    </tr>\n",
       "    <tr>\n",
       "      <th>7036</th>\n",
       "      <td>Uttar Pradesh</td>\n",
       "      <td>Azamgarh</td>\n",
       "      <td>None of the Above</td>\n",
       "      <td>NaN</td>\n",
       "      <td>NaN</td>\n",
       "      <td>NaN</td>\n",
       "      <td>NOTA</td>\n",
       "      <td>NOTA</td>\n",
       "      <td>5660</td>\n",
       "      <td>0</td>\n",
       "      <td>5660</td>\n",
       "      <td>1703121</td>\n",
       "    </tr>\n",
       "    <tr>\n",
       "      <th>7785</th>\n",
       "      <td>Jharkhand</td>\n",
       "      <td>Rajmahal</td>\n",
       "      <td>SUNIRAM HEMBROM</td>\n",
       "      <td>M</td>\n",
       "      <td>45.0</td>\n",
       "      <td>ST</td>\n",
       "      <td>IND</td>\n",
       "      <td>Cot</td>\n",
       "      <td>6460</td>\n",
       "      <td>0</td>\n",
       "      <td>6460</td>\n",
       "      <td>1353467</td>\n",
       "    </tr>\n",
       "    <tr>\n",
       "      <th>6015</th>\n",
       "      <td>Uttar Pradesh</td>\n",
       "      <td>Amroha</td>\n",
       "      <td>KANWAR SINGH TANWAR</td>\n",
       "      <td>M</td>\n",
       "      <td>52.0</td>\n",
       "      <td>GEN</td>\n",
       "      <td>BJP</td>\n",
       "      <td>Lotus</td>\n",
       "      <td>528796</td>\n",
       "      <td>84</td>\n",
       "      <td>528880</td>\n",
       "      <td>1544245</td>\n",
       "    </tr>\n",
       "  </tbody>\n",
       "</table>\n",
       "</div>"
      ],
      "text/plain": [
       "              state   pc_name            candidate  sex   age category party  \\\n",
       "2293      Karnataka   Raichur            M NAGARAJ    M  29.0       ST  CPIM   \n",
       "6168  Uttar Pradesh      Agra           AMAR SINGH    M  38.0       SC   IND   \n",
       "7036  Uttar Pradesh  Azamgarh    None of the Above  NaN   NaN      NaN  NOTA   \n",
       "7785      Jharkhand  Rajmahal      SUNIRAM HEMBROM    M  45.0       ST   IND   \n",
       "6015  Uttar Pradesh    Amroha  KANWAR SINGH TANWAR    M  52.0      GEN   BJP   \n",
       "\n",
       "     party_symbol  general_votes  postal_votes  total_votes  total_electors  \n",
       "2293          Saw           6938             0         6938         1661606  \n",
       "6168      Coconut           2450             3         2453         1814739  \n",
       "7036         NOTA           5660             0         5660         1703121  \n",
       "7785          Cot           6460             0         6460         1353467  \n",
       "6015        Lotus         528796            84       528880         1544245  "
      ]
     },
     "execution_count": 3,
     "metadata": {},
     "output_type": "execute_result"
    }
   ],
   "source": [
    "dt_2014.sample(5)"
   ]
  },
  {
   "cell_type": "code",
   "execution_count": 4,
   "id": "cc5bfacd-9293-4fe0-90ee-ff83737469e9",
   "metadata": {},
   "outputs": [],
   "source": [
    "def data_corrector(dataframe):\n",
    "    dataframe[\"pc_name\"] = np.where((dataframe[\"state\"] == \"Himachal Pradesh\") & (dataframe[\"pc_name\"] == \"Hamirpur\"), \"Hamirpur (Himachal Pradesh)\",\n",
    "    np.where((dataframe[\"state\"] == \"Bihar\") & (dataframe[\"pc_name\"] == \"Aurangabad\"), \"Aurangabad (Bihar)\",\n",
    "    np.where((dataframe[\"state\"] == \"Bihar\") & (dataframe[\"pc_name\"] == \"Maharajganj\"), \"Maharajganj (Bihar)\",\n",
    "    np.where((dataframe[\"state\"] == \"Uttar Prades\") & (dataframe[\"pc_name\"] == \"Hamirpur\"), \"Hamirpur (Uttar Prades)\",\n",
    "    np.where((dataframe[\"state\"] == \"Uttar Prades\") & (dataframe[\"pc_name\"] == \"Maharajganj\"), \"Maharajganj (Uttar Prades)\",\n",
    "    np.where((dataframe[\"state\"] == \"Maharashtra\") & (dataframe[\"pc_name\"] == \"Aurangabad\"), \"Aurangabad (Maharashtra)\",dataframe[\"pc_name\"]))))))"
   ]
  },
  {
   "cell_type": "code",
   "execution_count": 5,
   "id": "32e98f91-cd5d-4c6c-b61f-5293e9e3c6f2",
   "metadata": {},
   "outputs": [],
   "source": [
    "data_corrector(dt_2014)\n",
    "data_corrector(dt_2019)"
   ]
  },
  {
   "cell_type": "markdown",
   "id": "43cb3dfd-2599-430d-9946-03fae4d91683",
   "metadata": {},
   "source": [
    "# 1"
   ]
  },
  {
   "cell_type": "code",
   "execution_count": 6,
   "id": "2c5702db-5476-4230-af0b-c4e39d70f8ae",
   "metadata": {},
   "outputs": [],
   "source": [
    "group = dt_2014.groupby(\"pc_name\")"
   ]
  },
  {
   "cell_type": "code",
   "execution_count": 7,
   "id": "885596e5-f549-470a-a7c2-fbc323ac7270",
   "metadata": {},
   "outputs": [],
   "source": [
    "temp_df1 = group[\"total_votes\"].sum().to_frame()"
   ]
  },
  {
   "cell_type": "code",
   "execution_count": 8,
   "id": "460741ba-f96a-4d02-a7a8-efef82f24a8e",
   "metadata": {},
   "outputs": [],
   "source": [
    "temp_df2 = group[\"total_electors\"].mean().astype(int).to_frame()"
   ]
  },
  {
   "cell_type": "code",
   "execution_count": 9,
   "id": "e6838923-8d3c-45c1-a48e-a2306550e3b0",
   "metadata": {},
   "outputs": [],
   "source": [
    "df = pd.merge(temp_df1,temp_df2, on = \"pc_name\")"
   ]
  },
  {
   "cell_type": "code",
   "execution_count": 10,
   "id": "a1d5c6f8-563b-4a0e-a85a-058e4ca6c4a2",
   "metadata": {},
   "outputs": [],
   "source": [
    "df[\"Turnout Ratio\"] = round((df[\"total_votes\"] / df[\"total_electors\"])*100,1)"
   ]
  },
  {
   "cell_type": "code",
   "execution_count": 54,
   "id": "df0f3725-a5bf-40a8-beda-607247032b06",
   "metadata": {},
   "outputs": [
    {
     "name": "stdout",
     "output_type": "stream",
     "text": [
      "top 5 constituencies of 2014 in terms of voter turnout ratio.\n"
     ]
    },
    {
     "data": {
      "text/html": [
       "<div>\n",
       "<style scoped>\n",
       "    .dataframe tbody tr th:only-of-type {\n",
       "        vertical-align: middle;\n",
       "    }\n",
       "\n",
       "    .dataframe tbody tr th {\n",
       "        vertical-align: top;\n",
       "    }\n",
       "\n",
       "    .dataframe thead th {\n",
       "        text-align: right;\n",
       "    }\n",
       "</style>\n",
       "<table border=\"1\" class=\"dataframe\">\n",
       "  <thead>\n",
       "    <tr style=\"text-align: right;\">\n",
       "      <th></th>\n",
       "      <th>total_votes</th>\n",
       "      <th>total_electors</th>\n",
       "      <th>Turnout Ratio</th>\n",
       "    </tr>\n",
       "    <tr>\n",
       "      <th>state</th>\n",
       "      <th></th>\n",
       "      <th></th>\n",
       "      <th></th>\n",
       "    </tr>\n",
       "  </thead>\n",
       "  <tbody>\n",
       "    <tr>\n",
       "      <th>Lakshadweep</th>\n",
       "      <td>47009</td>\n",
       "      <td>55189</td>\n",
       "      <td>85.2</td>\n",
       "    </tr>\n",
       "    <tr>\n",
       "      <th>Nagaland</th>\n",
       "      <td>1006357</td>\n",
       "      <td>1213777</td>\n",
       "      <td>82.9</td>\n",
       "    </tr>\n",
       "    <tr>\n",
       "      <th>Manipur</th>\n",
       "      <td>1617330</td>\n",
       "      <td>1959563</td>\n",
       "      <td>82.5</td>\n",
       "    </tr>\n",
       "    <tr>\n",
       "      <th>Tripura</th>\n",
       "      <td>2153172</td>\n",
       "      <td>2614718</td>\n",
       "      <td>82.3</td>\n",
       "    </tr>\n",
       "    <tr>\n",
       "      <th>West Bengal</th>\n",
       "      <td>57206976</td>\n",
       "      <td>70001284</td>\n",
       "      <td>81.7</td>\n",
       "    </tr>\n",
       "  </tbody>\n",
       "</table>\n",
       "</div>"
      ],
      "text/plain": [
       "             total_votes  total_electors  Turnout Ratio\n",
       "state                                                  \n",
       "Lakshadweep        47009           55189           85.2\n",
       "Nagaland         1006357         1213777           82.9\n",
       "Manipur          1617330         1959563           82.5\n",
       "Tripura          2153172         2614718           82.3\n",
       "West Bengal     57206976        70001284           81.7"
      ]
     },
     "execution_count": 54,
     "metadata": {},
     "output_type": "execute_result"
    }
   ],
   "source": [
    "print(\"top 5 constituencies of 2014 in terms of voter turnout ratio.\")\n",
    "df.sort_values(\"Turnout Ratio\",ascending = False).head(5)"
   ]
  },
  {
   "cell_type": "code",
   "execution_count": 47,
   "id": "278341b5-af14-46ee-b055-4b68d7ba0c90",
   "metadata": {},
   "outputs": [
    {
     "name": "stdout",
     "output_type": "stream",
     "text": [
      "bottom 5 constituencies of 2014 in terms of voter turnout ratio.\n"
     ]
    },
    {
     "data": {
      "text/html": [
       "<div>\n",
       "<style scoped>\n",
       "    .dataframe tbody tr th:only-of-type {\n",
       "        vertical-align: middle;\n",
       "    }\n",
       "\n",
       "    .dataframe tbody tr th {\n",
       "        vertical-align: top;\n",
       "    }\n",
       "\n",
       "    .dataframe thead th {\n",
       "        text-align: right;\n",
       "    }\n",
       "</style>\n",
       "<table border=\"1\" class=\"dataframe\">\n",
       "  <thead>\n",
       "    <tr style=\"text-align: right;\">\n",
       "      <th></th>\n",
       "      <th>total_votes</th>\n",
       "      <th>total_electors</th>\n",
       "      <th>Turnout Ratio</th>\n",
       "    </tr>\n",
       "    <tr>\n",
       "      <th>state</th>\n",
       "      <th></th>\n",
       "      <th></th>\n",
       "      <th></th>\n",
       "    </tr>\n",
       "  </thead>\n",
       "  <tbody>\n",
       "    <tr>\n",
       "      <th>Jammu &amp; Kashmir</th>\n",
       "      <td>3552622</td>\n",
       "      <td>7922538</td>\n",
       "      <td>44.8</td>\n",
       "    </tr>\n",
       "    <tr>\n",
       "      <th>Bihar</th>\n",
       "      <td>40806661</td>\n",
       "      <td>71216290</td>\n",
       "      <td>57.3</td>\n",
       "    </tr>\n",
       "    <tr>\n",
       "      <th>Uttar Pradesh</th>\n",
       "      <td>86481398</td>\n",
       "      <td>146134603</td>\n",
       "      <td>59.2</td>\n",
       "    </tr>\n",
       "    <tr>\n",
       "      <th>NCT OF Delhi</th>\n",
       "      <td>8679012</td>\n",
       "      <td>14327649</td>\n",
       "      <td>60.6</td>\n",
       "    </tr>\n",
       "    <tr>\n",
       "      <th>Maharashtra</th>\n",
       "      <td>54054245</td>\n",
       "      <td>88676946</td>\n",
       "      <td>61.0</td>\n",
       "    </tr>\n",
       "  </tbody>\n",
       "</table>\n",
       "</div>"
      ],
      "text/plain": [
       "                 total_votes  total_electors  Turnout Ratio\n",
       "state                                                      \n",
       "Jammu & Kashmir      3552622         7922538           44.8\n",
       "Bihar               40806661        71216290           57.3\n",
       "Uttar Pradesh       86481398       146134603           59.2\n",
       "NCT OF Delhi         8679012        14327649           60.6\n",
       "Maharashtra         54054245        88676946           61.0"
      ]
     },
     "execution_count": 47,
     "metadata": {},
     "output_type": "execute_result"
    }
   ],
   "source": [
    "print(\"bottom 5 constituencies of 2014 in terms of voter turnout ratio.\")\n",
    "df.sort_values(\"Turnout Ratio\").head(5)"
   ]
  },
  {
   "cell_type": "markdown",
   "id": "29802030-ce1b-44ff-b501-8502a856d4f2",
   "metadata": {},
   "source": [
    "# 2"
   ]
  },
  {
   "cell_type": "code",
   "execution_count": 13,
   "id": "55cfafb5-3e89-4fe0-a70c-8a5774eb2239",
   "metadata": {},
   "outputs": [],
   "source": [
    "group = dt_2019.groupby(\"pc_name\")"
   ]
  },
  {
   "cell_type": "code",
   "execution_count": 14,
   "id": "21253350-ed34-441f-8cff-e7708c196253",
   "metadata": {},
   "outputs": [],
   "source": [
    "temp_df1 = group[\"total_votes\"].sum().to_frame()"
   ]
  },
  {
   "cell_type": "code",
   "execution_count": 15,
   "id": "2602345b-e5ad-4540-81ad-63b5749a2114",
   "metadata": {},
   "outputs": [],
   "source": [
    "temp_df2 = group[\"total_electors\"].mean().astype(int).to_frame()"
   ]
  },
  {
   "cell_type": "code",
   "execution_count": 16,
   "id": "c9a2b613-b62d-489a-a355-12ee4f4ce4ae",
   "metadata": {},
   "outputs": [],
   "source": [
    "df = pd.merge(temp_df1,temp_df2, on = \"pc_name\")"
   ]
  },
  {
   "cell_type": "code",
   "execution_count": 17,
   "id": "6084c981-65e6-44d9-8e7a-5834603b266d",
   "metadata": {},
   "outputs": [],
   "source": [
    "df[\"Turnout Ratio\"] = round((df[\"total_votes\"] / df[\"total_electors\"])*100,1)"
   ]
  },
  {
   "cell_type": "code",
   "execution_count": 48,
   "id": "fcb47c9c-3e27-4f7a-940f-39da2b6f3856",
   "metadata": {},
   "outputs": [
    {
     "name": "stdout",
     "output_type": "stream",
     "text": [
      "top 5 constituencies of 2019 in terms of voter turnout ratio.\n"
     ]
    },
    {
     "data": {
      "text/html": [
       "<div>\n",
       "<style scoped>\n",
       "    .dataframe tbody tr th:only-of-type {\n",
       "        vertical-align: middle;\n",
       "    }\n",
       "\n",
       "    .dataframe tbody tr th {\n",
       "        vertical-align: top;\n",
       "    }\n",
       "\n",
       "    .dataframe thead th {\n",
       "        text-align: right;\n",
       "    }\n",
       "</style>\n",
       "<table border=\"1\" class=\"dataframe\">\n",
       "  <thead>\n",
       "    <tr style=\"text-align: right;\">\n",
       "      <th></th>\n",
       "      <th>total_votes</th>\n",
       "      <th>total_electors</th>\n",
       "      <th>Turnout Ratio</th>\n",
       "    </tr>\n",
       "    <tr>\n",
       "      <th>state</th>\n",
       "      <th></th>\n",
       "      <th></th>\n",
       "      <th></th>\n",
       "    </tr>\n",
       "  </thead>\n",
       "  <tbody>\n",
       "    <tr>\n",
       "      <th>Lakshadweep</th>\n",
       "      <td>47009</td>\n",
       "      <td>55189</td>\n",
       "      <td>85.2</td>\n",
       "    </tr>\n",
       "    <tr>\n",
       "      <th>Nagaland</th>\n",
       "      <td>1006357</td>\n",
       "      <td>1213777</td>\n",
       "      <td>82.9</td>\n",
       "    </tr>\n",
       "    <tr>\n",
       "      <th>Manipur</th>\n",
       "      <td>1617330</td>\n",
       "      <td>1959563</td>\n",
       "      <td>82.5</td>\n",
       "    </tr>\n",
       "    <tr>\n",
       "      <th>Tripura</th>\n",
       "      <td>2153172</td>\n",
       "      <td>2614718</td>\n",
       "      <td>82.3</td>\n",
       "    </tr>\n",
       "    <tr>\n",
       "      <th>West Bengal</th>\n",
       "      <td>57206976</td>\n",
       "      <td>70001284</td>\n",
       "      <td>81.7</td>\n",
       "    </tr>\n",
       "  </tbody>\n",
       "</table>\n",
       "</div>"
      ],
      "text/plain": [
       "             total_votes  total_electors  Turnout Ratio\n",
       "state                                                  \n",
       "Lakshadweep        47009           55189           85.2\n",
       "Nagaland         1006357         1213777           82.9\n",
       "Manipur          1617330         1959563           82.5\n",
       "Tripura          2153172         2614718           82.3\n",
       "West Bengal     57206976        70001284           81.7"
      ]
     },
     "execution_count": 48,
     "metadata": {},
     "output_type": "execute_result"
    }
   ],
   "source": [
    "print(\"top 5 constituencies of 2019 in terms of voter turnout ratio.\")\n",
    "df.sort_values(\"Turnout Ratio\",ascending = False).head(5)"
   ]
  },
  {
   "cell_type": "code",
   "execution_count": 49,
   "id": "00964854-6f59-4539-9120-b2a479495a74",
   "metadata": {
    "scrolled": true
   },
   "outputs": [
    {
     "name": "stdout",
     "output_type": "stream",
     "text": [
      "bottom 5 constituencies of 2019 in terms of voter turnout ratio.\n"
     ]
    },
    {
     "data": {
      "text/html": [
       "<div>\n",
       "<style scoped>\n",
       "    .dataframe tbody tr th:only-of-type {\n",
       "        vertical-align: middle;\n",
       "    }\n",
       "\n",
       "    .dataframe tbody tr th {\n",
       "        vertical-align: top;\n",
       "    }\n",
       "\n",
       "    .dataframe thead th {\n",
       "        text-align: right;\n",
       "    }\n",
       "</style>\n",
       "<table border=\"1\" class=\"dataframe\">\n",
       "  <thead>\n",
       "    <tr style=\"text-align: right;\">\n",
       "      <th></th>\n",
       "      <th>total_votes</th>\n",
       "      <th>total_electors</th>\n",
       "      <th>Turnout Ratio</th>\n",
       "    </tr>\n",
       "    <tr>\n",
       "      <th>state</th>\n",
       "      <th></th>\n",
       "      <th></th>\n",
       "      <th></th>\n",
       "    </tr>\n",
       "  </thead>\n",
       "  <tbody>\n",
       "    <tr>\n",
       "      <th>Jammu &amp; Kashmir</th>\n",
       "      <td>3552622</td>\n",
       "      <td>7922538</td>\n",
       "      <td>44.8</td>\n",
       "    </tr>\n",
       "    <tr>\n",
       "      <th>Bihar</th>\n",
       "      <td>40806661</td>\n",
       "      <td>71216290</td>\n",
       "      <td>57.3</td>\n",
       "    </tr>\n",
       "    <tr>\n",
       "      <th>Uttar Pradesh</th>\n",
       "      <td>86481398</td>\n",
       "      <td>146134603</td>\n",
       "      <td>59.2</td>\n",
       "    </tr>\n",
       "    <tr>\n",
       "      <th>NCT OF Delhi</th>\n",
       "      <td>8679012</td>\n",
       "      <td>14327649</td>\n",
       "      <td>60.6</td>\n",
       "    </tr>\n",
       "    <tr>\n",
       "      <th>Maharashtra</th>\n",
       "      <td>54054245</td>\n",
       "      <td>88676946</td>\n",
       "      <td>61.0</td>\n",
       "    </tr>\n",
       "  </tbody>\n",
       "</table>\n",
       "</div>"
      ],
      "text/plain": [
       "                 total_votes  total_electors  Turnout Ratio\n",
       "state                                                      \n",
       "Jammu & Kashmir      3552622         7922538           44.8\n",
       "Bihar               40806661        71216290           57.3\n",
       "Uttar Pradesh       86481398       146134603           59.2\n",
       "NCT OF Delhi         8679012        14327649           60.6\n",
       "Maharashtra         54054245        88676946           61.0"
      ]
     },
     "execution_count": 49,
     "metadata": {},
     "output_type": "execute_result"
    }
   ],
   "source": [
    "print(\"bottom 5 constituencies of 2019 in terms of voter turnout ratio.\")\n",
    "df.sort_values(\"Turnout Ratio\").head(5)"
   ]
  },
  {
   "cell_type": "markdown",
   "id": "0479d516-ca63-4013-8149-87d655f60c38",
   "metadata": {},
   "source": [
    "# 3"
   ]
  },
  {
   "cell_type": "code",
   "execution_count": 20,
   "id": "e851ec94-08e9-483c-8084-84cd6eb0fd48",
   "metadata": {},
   "outputs": [],
   "source": [
    "group = dt_2014.groupby(\"pc_name\")"
   ]
  },
  {
   "cell_type": "code",
   "execution_count": 21,
   "id": "6fc4b2d0-59fe-401f-a940-0cd4b478e6e2",
   "metadata": {},
   "outputs": [],
   "source": [
    "temp_df1 = group[\"total_votes\"].sum().to_frame()"
   ]
  },
  {
   "cell_type": "code",
   "execution_count": 22,
   "id": "59201327-cd9c-410d-b336-b33336a97955",
   "metadata": {},
   "outputs": [],
   "source": [
    "temp_df2 = group[\"total_electors\"].mean().astype(int).to_frame()"
   ]
  },
  {
   "cell_type": "code",
   "execution_count": 23,
   "id": "4ec3ea1d-4dc3-49bc-b3ce-1638c44bbfd1",
   "metadata": {},
   "outputs": [],
   "source": [
    "temp_df3 = group[\"state\"].apply(lambda x: x.unique()[0]).to_frame()"
   ]
  },
  {
   "cell_type": "code",
   "execution_count": 24,
   "id": "d6665a38-d6fa-43e0-8719-74a8cb026f8a",
   "metadata": {},
   "outputs": [],
   "source": [
    "df = pd.merge(temp_df1,temp_df2, on = \"pc_name\")"
   ]
  },
  {
   "cell_type": "code",
   "execution_count": 25,
   "id": "d03eae75-f30a-472e-ba33-7ce24a12e22e",
   "metadata": {},
   "outputs": [],
   "source": [
    "df = pd.merge(df,temp_df3, on = \"pc_name\")"
   ]
  },
  {
   "cell_type": "code",
   "execution_count": 26,
   "id": "873f7c70-ec18-4209-bd85-58a31742633a",
   "metadata": {},
   "outputs": [],
   "source": [
    "df.set_index(\"state\", inplace = True)"
   ]
  },
  {
   "cell_type": "code",
   "execution_count": 27,
   "id": "00dc4bf9-ec01-4f65-8226-55ea39689272",
   "metadata": {},
   "outputs": [],
   "source": [
    "df = df.groupby(\"state\").sum()"
   ]
  },
  {
   "cell_type": "code",
   "execution_count": 28,
   "id": "79e9ea20-736e-4a8f-a056-9a5345251888",
   "metadata": {},
   "outputs": [],
   "source": [
    "df[\"Turnout Ratio\"] = round((df[\"total_votes\"] / df[\"total_electors\"])*100,1)"
   ]
  },
  {
   "cell_type": "code",
   "execution_count": 50,
   "id": "8f2728ff-3f4c-4e70-aa82-a9db12731682",
   "metadata": {},
   "outputs": [
    {
     "name": "stdout",
     "output_type": "stream",
     "text": [
      "top 5 states of 2014 in terms of voter turnout ratio.\n"
     ]
    },
    {
     "data": {
      "text/html": [
       "<div>\n",
       "<style scoped>\n",
       "    .dataframe tbody tr th:only-of-type {\n",
       "        vertical-align: middle;\n",
       "    }\n",
       "\n",
       "    .dataframe tbody tr th {\n",
       "        vertical-align: top;\n",
       "    }\n",
       "\n",
       "    .dataframe thead th {\n",
       "        text-align: right;\n",
       "    }\n",
       "</style>\n",
       "<table border=\"1\" class=\"dataframe\">\n",
       "  <thead>\n",
       "    <tr style=\"text-align: right;\">\n",
       "      <th></th>\n",
       "      <th>total_votes</th>\n",
       "      <th>total_electors</th>\n",
       "      <th>Turnout Ratio</th>\n",
       "    </tr>\n",
       "    <tr>\n",
       "      <th>state</th>\n",
       "      <th></th>\n",
       "      <th></th>\n",
       "      <th></th>\n",
       "    </tr>\n",
       "  </thead>\n",
       "  <tbody>\n",
       "    <tr>\n",
       "      <th>Lakshadweep</th>\n",
       "      <td>47009</td>\n",
       "      <td>55189</td>\n",
       "      <td>85.2</td>\n",
       "    </tr>\n",
       "    <tr>\n",
       "      <th>Nagaland</th>\n",
       "      <td>1006357</td>\n",
       "      <td>1213777</td>\n",
       "      <td>82.9</td>\n",
       "    </tr>\n",
       "    <tr>\n",
       "      <th>Manipur</th>\n",
       "      <td>1617330</td>\n",
       "      <td>1959563</td>\n",
       "      <td>82.5</td>\n",
       "    </tr>\n",
       "    <tr>\n",
       "      <th>Tripura</th>\n",
       "      <td>2153172</td>\n",
       "      <td>2614718</td>\n",
       "      <td>82.3</td>\n",
       "    </tr>\n",
       "    <tr>\n",
       "      <th>West Bengal</th>\n",
       "      <td>57206976</td>\n",
       "      <td>70001284</td>\n",
       "      <td>81.7</td>\n",
       "    </tr>\n",
       "  </tbody>\n",
       "</table>\n",
       "</div>"
      ],
      "text/plain": [
       "             total_votes  total_electors  Turnout Ratio\n",
       "state                                                  \n",
       "Lakshadweep        47009           55189           85.2\n",
       "Nagaland         1006357         1213777           82.9\n",
       "Manipur          1617330         1959563           82.5\n",
       "Tripura          2153172         2614718           82.3\n",
       "West Bengal     57206976        70001284           81.7"
      ]
     },
     "execution_count": 50,
     "metadata": {},
     "output_type": "execute_result"
    }
   ],
   "source": [
    "print(\"top 5 states of 2014 in terms of voter turnout ratio.\")\n",
    "df.sort_values(\"Turnout Ratio\",ascending = False).head(5)"
   ]
  },
  {
   "cell_type": "code",
   "execution_count": 51,
   "id": "3eea3e7a-735b-463a-a481-06a82a542823",
   "metadata": {
    "scrolled": true
   },
   "outputs": [
    {
     "name": "stdout",
     "output_type": "stream",
     "text": [
      "bottom 5 states of 2014 in terms of voter turnout ratio.\n"
     ]
    },
    {
     "data": {
      "text/html": [
       "<div>\n",
       "<style scoped>\n",
       "    .dataframe tbody tr th:only-of-type {\n",
       "        vertical-align: middle;\n",
       "    }\n",
       "\n",
       "    .dataframe tbody tr th {\n",
       "        vertical-align: top;\n",
       "    }\n",
       "\n",
       "    .dataframe thead th {\n",
       "        text-align: right;\n",
       "    }\n",
       "</style>\n",
       "<table border=\"1\" class=\"dataframe\">\n",
       "  <thead>\n",
       "    <tr style=\"text-align: right;\">\n",
       "      <th></th>\n",
       "      <th>total_votes</th>\n",
       "      <th>total_electors</th>\n",
       "      <th>Turnout Ratio</th>\n",
       "    </tr>\n",
       "    <tr>\n",
       "      <th>state</th>\n",
       "      <th></th>\n",
       "      <th></th>\n",
       "      <th></th>\n",
       "    </tr>\n",
       "  </thead>\n",
       "  <tbody>\n",
       "    <tr>\n",
       "      <th>Jammu &amp; Kashmir</th>\n",
       "      <td>3552622</td>\n",
       "      <td>7922538</td>\n",
       "      <td>44.8</td>\n",
       "    </tr>\n",
       "    <tr>\n",
       "      <th>Bihar</th>\n",
       "      <td>40806661</td>\n",
       "      <td>71216290</td>\n",
       "      <td>57.3</td>\n",
       "    </tr>\n",
       "    <tr>\n",
       "      <th>Uttar Pradesh</th>\n",
       "      <td>86481398</td>\n",
       "      <td>146134603</td>\n",
       "      <td>59.2</td>\n",
       "    </tr>\n",
       "    <tr>\n",
       "      <th>NCT OF Delhi</th>\n",
       "      <td>8679012</td>\n",
       "      <td>14327649</td>\n",
       "      <td>60.6</td>\n",
       "    </tr>\n",
       "    <tr>\n",
       "      <th>Maharashtra</th>\n",
       "      <td>54054245</td>\n",
       "      <td>88676946</td>\n",
       "      <td>61.0</td>\n",
       "    </tr>\n",
       "  </tbody>\n",
       "</table>\n",
       "</div>"
      ],
      "text/plain": [
       "                 total_votes  total_electors  Turnout Ratio\n",
       "state                                                      \n",
       "Jammu & Kashmir      3552622         7922538           44.8\n",
       "Bihar               40806661        71216290           57.3\n",
       "Uttar Pradesh       86481398       146134603           59.2\n",
       "NCT OF Delhi         8679012        14327649           60.6\n",
       "Maharashtra         54054245        88676946           61.0"
      ]
     },
     "execution_count": 51,
     "metadata": {},
     "output_type": "execute_result"
    }
   ],
   "source": [
    "print(\"bottom 5 states of 2014 in terms of voter turnout ratio.\")\n",
    "df.sort_values(\"Turnout Ratio\").head(5)"
   ]
  },
  {
   "cell_type": "markdown",
   "id": "24e78d86-2c24-4193-b4fa-be13fb84d29b",
   "metadata": {},
   "source": [
    "# 4"
   ]
  },
  {
   "cell_type": "code",
   "execution_count": 31,
   "id": "127eaa4f-c4d6-4b2a-811a-5b67f25923a4",
   "metadata": {},
   "outputs": [],
   "source": [
    "group = dt_2019.groupby(\"pc_name\")"
   ]
  },
  {
   "cell_type": "code",
   "execution_count": 32,
   "id": "1d97b234-23d3-405a-b332-c4370dd517b9",
   "metadata": {},
   "outputs": [],
   "source": [
    "temp_df1 = group[\"total_votes\"].sum().to_frame()"
   ]
  },
  {
   "cell_type": "code",
   "execution_count": 33,
   "id": "0d99122d-be5b-49bb-a4ad-0c212ad5a2ce",
   "metadata": {},
   "outputs": [],
   "source": [
    "temp_df2 = group[\"total_electors\"].mean().astype(int).to_frame()"
   ]
  },
  {
   "cell_type": "code",
   "execution_count": 34,
   "id": "68c16b8a-ad73-47e0-9652-38d771fd4cac",
   "metadata": {},
   "outputs": [],
   "source": [
    "temp_df3 = group[\"state\"].apply(lambda x: x.unique()[0]).to_frame()"
   ]
  },
  {
   "cell_type": "code",
   "execution_count": 35,
   "id": "178bc50d-0a39-4590-b4f1-5d3c23cdf184",
   "metadata": {},
   "outputs": [],
   "source": [
    "df = pd.merge(temp_df1,temp_df2, on = \"pc_name\")"
   ]
  },
  {
   "cell_type": "code",
   "execution_count": 36,
   "id": "14983f38-b829-4d6e-a8b5-06b08ce7b5bd",
   "metadata": {},
   "outputs": [],
   "source": [
    "df = pd.merge(df,temp_df3, on = \"pc_name\")"
   ]
  },
  {
   "cell_type": "code",
   "execution_count": 37,
   "id": "c4fa4e08-e3c1-4786-9ce7-1fdec6236ff9",
   "metadata": {},
   "outputs": [],
   "source": [
    "df.set_index(\"state\", inplace = True)"
   ]
  },
  {
   "cell_type": "code",
   "execution_count": 38,
   "id": "275b6941-7af9-4060-8946-a3d52942f8fc",
   "metadata": {},
   "outputs": [],
   "source": [
    "df = df.groupby(\"state\").sum()"
   ]
  },
  {
   "cell_type": "code",
   "execution_count": 39,
   "id": "a4f1c8d1-0724-4582-85d6-f8d27d5ca41e",
   "metadata": {},
   "outputs": [],
   "source": [
    "df[\"Turnout Ratio\"] = round((df[\"total_votes\"] / df[\"total_electors\"])*100,1)"
   ]
  },
  {
   "cell_type": "code",
   "execution_count": 52,
   "id": "285b7a77-a0fb-4498-bcfe-71d7fd2bd4d4",
   "metadata": {},
   "outputs": [
    {
     "name": "stdout",
     "output_type": "stream",
     "text": [
      "top 5 states of 2019 in terms of voter turnout ratio.\n"
     ]
    },
    {
     "data": {
      "text/html": [
       "<div>\n",
       "<style scoped>\n",
       "    .dataframe tbody tr th:only-of-type {\n",
       "        vertical-align: middle;\n",
       "    }\n",
       "\n",
       "    .dataframe tbody tr th {\n",
       "        vertical-align: top;\n",
       "    }\n",
       "\n",
       "    .dataframe thead th {\n",
       "        text-align: right;\n",
       "    }\n",
       "</style>\n",
       "<table border=\"1\" class=\"dataframe\">\n",
       "  <thead>\n",
       "    <tr style=\"text-align: right;\">\n",
       "      <th></th>\n",
       "      <th>total_votes</th>\n",
       "      <th>total_electors</th>\n",
       "      <th>Turnout Ratio</th>\n",
       "    </tr>\n",
       "    <tr>\n",
       "      <th>state</th>\n",
       "      <th></th>\n",
       "      <th></th>\n",
       "      <th></th>\n",
       "    </tr>\n",
       "  </thead>\n",
       "  <tbody>\n",
       "    <tr>\n",
       "      <th>Lakshadweep</th>\n",
       "      <td>47009</td>\n",
       "      <td>55189</td>\n",
       "      <td>85.2</td>\n",
       "    </tr>\n",
       "    <tr>\n",
       "      <th>Nagaland</th>\n",
       "      <td>1006357</td>\n",
       "      <td>1213777</td>\n",
       "      <td>82.9</td>\n",
       "    </tr>\n",
       "    <tr>\n",
       "      <th>Manipur</th>\n",
       "      <td>1617330</td>\n",
       "      <td>1959563</td>\n",
       "      <td>82.5</td>\n",
       "    </tr>\n",
       "    <tr>\n",
       "      <th>Tripura</th>\n",
       "      <td>2153172</td>\n",
       "      <td>2614718</td>\n",
       "      <td>82.3</td>\n",
       "    </tr>\n",
       "    <tr>\n",
       "      <th>West Bengal</th>\n",
       "      <td>57206976</td>\n",
       "      <td>70001284</td>\n",
       "      <td>81.7</td>\n",
       "    </tr>\n",
       "  </tbody>\n",
       "</table>\n",
       "</div>"
      ],
      "text/plain": [
       "             total_votes  total_electors  Turnout Ratio\n",
       "state                                                  \n",
       "Lakshadweep        47009           55189           85.2\n",
       "Nagaland         1006357         1213777           82.9\n",
       "Manipur          1617330         1959563           82.5\n",
       "Tripura          2153172         2614718           82.3\n",
       "West Bengal     57206976        70001284           81.7"
      ]
     },
     "execution_count": 52,
     "metadata": {},
     "output_type": "execute_result"
    }
   ],
   "source": [
    "print(\"top 5 states of 2019 in terms of voter turnout ratio.\")\n",
    "df.sort_values(\"Turnout Ratio\",ascending = False).head(5)"
   ]
  },
  {
   "cell_type": "code",
   "execution_count": 53,
   "id": "80b028da-024e-4eb5-9981-debac02a0918",
   "metadata": {
    "scrolled": true
   },
   "outputs": [
    {
     "name": "stdout",
     "output_type": "stream",
     "text": [
      "bottom 5 states of 2019 in terms of voter turnout ratio.\n"
     ]
    },
    {
     "data": {
      "text/html": [
       "<div>\n",
       "<style scoped>\n",
       "    .dataframe tbody tr th:only-of-type {\n",
       "        vertical-align: middle;\n",
       "    }\n",
       "\n",
       "    .dataframe tbody tr th {\n",
       "        vertical-align: top;\n",
       "    }\n",
       "\n",
       "    .dataframe thead th {\n",
       "        text-align: right;\n",
       "    }\n",
       "</style>\n",
       "<table border=\"1\" class=\"dataframe\">\n",
       "  <thead>\n",
       "    <tr style=\"text-align: right;\">\n",
       "      <th></th>\n",
       "      <th>total_votes</th>\n",
       "      <th>total_electors</th>\n",
       "      <th>Turnout Ratio</th>\n",
       "    </tr>\n",
       "    <tr>\n",
       "      <th>state</th>\n",
       "      <th></th>\n",
       "      <th></th>\n",
       "      <th></th>\n",
       "    </tr>\n",
       "  </thead>\n",
       "  <tbody>\n",
       "    <tr>\n",
       "      <th>Jammu &amp; Kashmir</th>\n",
       "      <td>3552622</td>\n",
       "      <td>7922538</td>\n",
       "      <td>44.8</td>\n",
       "    </tr>\n",
       "    <tr>\n",
       "      <th>Bihar</th>\n",
       "      <td>40806661</td>\n",
       "      <td>71216290</td>\n",
       "      <td>57.3</td>\n",
       "    </tr>\n",
       "    <tr>\n",
       "      <th>Uttar Pradesh</th>\n",
       "      <td>86481398</td>\n",
       "      <td>146134603</td>\n",
       "      <td>59.2</td>\n",
       "    </tr>\n",
       "    <tr>\n",
       "      <th>NCT OF Delhi</th>\n",
       "      <td>8679012</td>\n",
       "      <td>14327649</td>\n",
       "      <td>60.6</td>\n",
       "    </tr>\n",
       "    <tr>\n",
       "      <th>Maharashtra</th>\n",
       "      <td>54054245</td>\n",
       "      <td>88676946</td>\n",
       "      <td>61.0</td>\n",
       "    </tr>\n",
       "  </tbody>\n",
       "</table>\n",
       "</div>"
      ],
      "text/plain": [
       "                 total_votes  total_electors  Turnout Ratio\n",
       "state                                                      \n",
       "Jammu & Kashmir      3552622         7922538           44.8\n",
       "Bihar               40806661        71216290           57.3\n",
       "Uttar Pradesh       86481398       146134603           59.2\n",
       "NCT OF Delhi         8679012        14327649           60.6\n",
       "Maharashtra         54054245        88676946           61.0"
      ]
     },
     "execution_count": 53,
     "metadata": {},
     "output_type": "execute_result"
    }
   ],
   "source": [
    "print(\"bottom 5 states of 2019 in terms of voter turnout ratio.\")\n",
    "df.sort_values(\"Turnout Ratio\").head(5)"
   ]
  }
 ],
 "metadata": {
  "kernelspec": {
   "display_name": "Python 3 (ipykernel)",
   "language": "python",
   "name": "python3"
  },
  "language_info": {
   "codemirror_mode": {
    "name": "ipython",
    "version": 3
   },
   "file_extension": ".py",
   "mimetype": "text/x-python",
   "name": "python",
   "nbconvert_exporter": "python",
   "pygments_lexer": "ipython3",
   "version": "3.11.4"
  }
 },
 "nbformat": 4,
 "nbformat_minor": 5
}
