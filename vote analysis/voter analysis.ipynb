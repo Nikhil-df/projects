{
 "cells": [
  {
   "cell_type": "code",
   "execution_count": 1,
   "id": "13e0a415-ddb7-417b-bdab-71e65821ccc5",
   "metadata": {},
   "outputs": [],
   "source": [
    "import pandas as pd\n",
    "import numpy as np"
   ]
  },
  {
   "cell_type": "code",
   "execution_count": 2,
   "id": "81454b8b-d5a9-4c86-b544-46c289abe758",
   "metadata": {},
   "outputs": [],
   "source": [
    "dt_2014 = pd.read_csv(\"datasets/constituency_wise_results_2014.csv\")\n",
    "dt_2019 = pd.read_csv(\"datasets/constituency_wise_results_2019.csv\")"
   ]
  },
  {
   "cell_type": "code",
   "execution_count": 3,
   "id": "8ec5544a-c66a-47a9-8a08-19f35aebd3f4",
   "metadata": {},
   "outputs": [
    {
     "data": {
      "text/html": [
       "<div>\n",
       "<style scoped>\n",
       "    .dataframe tbody tr th:only-of-type {\n",
       "        vertical-align: middle;\n",
       "    }\n",
       "\n",
       "    .dataframe tbody tr th {\n",
       "        vertical-align: top;\n",
       "    }\n",
       "\n",
       "    .dataframe thead th {\n",
       "        text-align: right;\n",
       "    }\n",
       "</style>\n",
       "<table border=\"1\" class=\"dataframe\">\n",
       "  <thead>\n",
       "    <tr style=\"text-align: right;\">\n",
       "      <th></th>\n",
       "      <th>state</th>\n",
       "      <th>pc_name</th>\n",
       "      <th>candidate</th>\n",
       "      <th>sex</th>\n",
       "      <th>age</th>\n",
       "      <th>category</th>\n",
       "      <th>party</th>\n",
       "      <th>party_symbol</th>\n",
       "      <th>general_votes</th>\n",
       "      <th>postal_votes</th>\n",
       "      <th>total_votes</th>\n",
       "      <th>total_electors</th>\n",
       "    </tr>\n",
       "  </thead>\n",
       "  <tbody>\n",
       "    <tr>\n",
       "      <th>4545</th>\n",
       "      <td>Punjab</td>\n",
       "      <td>Firozpur</td>\n",
       "      <td>SATNAM PAUL KAMBOJ</td>\n",
       "      <td>M</td>\n",
       "      <td>59.0</td>\n",
       "      <td>GEN</td>\n",
       "      <td>AAAP</td>\n",
       "      <td>Broom</td>\n",
       "      <td>113297</td>\n",
       "      <td>115</td>\n",
       "      <td>113412</td>\n",
       "      <td>1522111</td>\n",
       "    </tr>\n",
       "    <tr>\n",
       "      <th>8133</th>\n",
       "      <td>Chandigarh</td>\n",
       "      <td>CHANDIGARH</td>\n",
       "      <td>SURINDER BHARDWAJ</td>\n",
       "      <td>M</td>\n",
       "      <td>65.0</td>\n",
       "      <td>GEN</td>\n",
       "      <td>JD(U)</td>\n",
       "      <td>Arrow</td>\n",
       "      <td>434</td>\n",
       "      <td>0</td>\n",
       "      <td>434</td>\n",
       "      <td>615214</td>\n",
       "    </tr>\n",
       "    <tr>\n",
       "      <th>300</th>\n",
       "      <td>Andhra Pradesh</td>\n",
       "      <td>Srikakulam</td>\n",
       "      <td>REDDY SHANTHI</td>\n",
       "      <td>F</td>\n",
       "      <td>45.0</td>\n",
       "      <td>GEN</td>\n",
       "      <td>YSRCP</td>\n",
       "      <td>Ceiling Fan</td>\n",
       "      <td>426135</td>\n",
       "      <td>2718</td>\n",
       "      <td>428853</td>\n",
       "      <td>1413726</td>\n",
       "    </tr>\n",
       "    <tr>\n",
       "      <th>3035</th>\n",
       "      <td>Madhya Pradesh</td>\n",
       "      <td>SAGAR</td>\n",
       "      <td>GOVIND SINGH RAJPUT</td>\n",
       "      <td>M</td>\n",
       "      <td>48.0</td>\n",
       "      <td>GEN</td>\n",
       "      <td>INC</td>\n",
       "      <td>Hand</td>\n",
       "      <td>361811</td>\n",
       "      <td>32</td>\n",
       "      <td>361843</td>\n",
       "      <td>1520322</td>\n",
       "    </tr>\n",
       "    <tr>\n",
       "      <th>5474</th>\n",
       "      <td>Tamil Nadu</td>\n",
       "      <td>Dindigul</td>\n",
       "      <td>DHANDAPANI.K</td>\n",
       "      <td>M</td>\n",
       "      <td>42.0</td>\n",
       "      <td>SC</td>\n",
       "      <td>IND</td>\n",
       "      <td>Dish Antenna</td>\n",
       "      <td>863</td>\n",
       "      <td>0</td>\n",
       "      <td>863</td>\n",
       "      <td>1400531</td>\n",
       "    </tr>\n",
       "  </tbody>\n",
       "</table>\n",
       "</div>"
      ],
      "text/plain": [
       "               state     pc_name            candidate sex   age category  \\\n",
       "4545          Punjab    Firozpur   SATNAM PAUL KAMBOJ   M  59.0      GEN   \n",
       "8133      Chandigarh  CHANDIGARH    SURINDER BHARDWAJ   M  65.0      GEN   \n",
       "300   Andhra Pradesh  Srikakulam        REDDY SHANTHI   F  45.0      GEN   \n",
       "3035  Madhya Pradesh       SAGAR  GOVIND SINGH RAJPUT   M  48.0      GEN   \n",
       "5474      Tamil Nadu    Dindigul         DHANDAPANI.K   M  42.0       SC   \n",
       "\n",
       "      party  party_symbol  general_votes  postal_votes  total_votes  \\\n",
       "4545   AAAP         Broom         113297           115       113412   \n",
       "8133  JD(U)         Arrow            434             0          434   \n",
       "300   YSRCP   Ceiling Fan         426135          2718       428853   \n",
       "3035    INC          Hand         361811            32       361843   \n",
       "5474    IND  Dish Antenna            863             0          863   \n",
       "\n",
       "      total_electors  \n",
       "4545         1522111  \n",
       "8133          615214  \n",
       "300          1413726  \n",
       "3035         1520322  \n",
       "5474         1400531  "
      ]
     },
     "execution_count": 3,
     "metadata": {},
     "output_type": "execute_result"
    }
   ],
   "source": [
    "dt_2014.sample(5)"
   ]
  },
  {
   "cell_type": "code",
   "execution_count": 4,
   "id": "cc5bfacd-9293-4fe0-90ee-ff83737469e9",
   "metadata": {},
   "outputs": [],
   "source": [
    "def data_corrector(dataframe):\n",
    "    dataframe[\"pc_name\"] = np.where((dataframe[\"state\"] == \"Himachal Pradesh\") & (dataframe[\"pc_name\"] == \"Hamirpur\"), \"Hamirpur (Himachal Pradesh)\",\n",
    "    np.where((dataframe[\"state\"] == \"Bihar\") & (dataframe[\"pc_name\"] == \"Aurangabad\"), \"Aurangabad (Bihar)\",\n",
    "    np.where((dataframe[\"state\"] == \"Bihar\") & (dataframe[\"pc_name\"] == \"Maharajganj\"), \"Maharajganj (Bihar)\",\n",
    "    np.where((dataframe[\"state\"] == \"Uttar Prades\") & (dataframe[\"pc_name\"] == \"Hamirpur\"), \"Hamirpur (Uttar Prades)\",\n",
    "    np.where((dataframe[\"state\"] == \"Uttar Prades\") & (dataframe[\"pc_name\"] == \"Maharajganj\"), \"Maharajganj (Uttar Prades)\",\n",
    "    np.where((dataframe[\"state\"] == \"Maharashtra\") & (dataframe[\"pc_name\"] == \"Aurangabad\"), \"Aurangabad (Maharashtra)\",dataframe[\"pc_name\"]))))))"
   ]
  },
  {
   "cell_type": "code",
   "execution_count": 5,
   "id": "32e98f91-cd5d-4c6c-b61f-5293e9e3c6f2",
   "metadata": {},
   "outputs": [],
   "source": [
    "data_corrector(dt_2014)\n",
    "data_corrector(dt_2019)"
   ]
  },
  {
   "cell_type": "code",
   "execution_count": 6,
   "id": "c4b4d25a-b8c4-43c1-ab96-81a5e9f2fac2",
   "metadata": {},
   "outputs": [],
   "source": [
    "Telangana_pc_name = ['Adilabad','Peddapalle','Karimnagar','Nizamabad','Zahirabad','Medak','Malkajgiri','Secundrabad','Hyderabad','CHEVELLA','Mahbubnagar','Nagarkurnool','Nalgonda','Bhongir','Warangal','Mahabubabad','Khammam']"
   ]
  },
  {
   "cell_type": "code",
   "execution_count": 7,
   "id": "d7758794-e6b5-4a43-8895-ea7ff77ca803",
   "metadata": {},
   "outputs": [],
   "source": [
    "dt_2014.loc[dt_2014['pc_name'].isin(Telangana_pc_name), 'state'] = 'Telangana'"
   ]
  },
  {
   "cell_type": "code",
   "execution_count": 8,
   "id": "382ef807-1593-414b-b2cc-8e2ced37b222",
   "metadata": {},
   "outputs": [],
   "source": [
    "canges_for_2014 = {\"Dadar & Nagar Haveli\":\"Dadra And Nagar Haveli\",\"Joynagar\":\"Jaynagar\"}\n",
    "canges_for_2019 = {\"Bikaner (SC)\":\"Bikaner\",\"CHEVELLA\":\"CHELVELLA\"}"
   ]
  },
  {
   "cell_type": "code",
   "execution_count": 9,
   "id": "3194632c-93c2-459e-ac5f-2d47ad48092e",
   "metadata": {},
   "outputs": [],
   "source": [
    "dt_2014[\"pc_name\"] = dt_2014[\"pc_name\"].replace(canges_for_2014)\n",
    "dt_2019[\"pc_name\"] = dt_2019[\"pc_name\"].replace(canges_for_2019)"
   ]
  },
  {
   "cell_type": "markdown",
   "id": "43cb3dfd-2599-430d-9946-03fae4d91683",
   "metadata": {},
   "source": [
    "# 1"
   ]
  },
  {
   "cell_type": "code",
   "execution_count": 10,
   "id": "2c5702db-5476-4230-af0b-c4e39d70f8ae",
   "metadata": {},
   "outputs": [],
   "source": [
    "group = dt_2014.groupby(\"pc_name\")"
   ]
  },
  {
   "cell_type": "code",
   "execution_count": 11,
   "id": "885596e5-f549-470a-a7c2-fbc323ac7270",
   "metadata": {},
   "outputs": [],
   "source": [
    "temp_df1 = group[\"total_votes\"].sum().to_frame()"
   ]
  },
  {
   "cell_type": "code",
   "execution_count": 12,
   "id": "460741ba-f96a-4d02-a7a8-efef82f24a8e",
   "metadata": {},
   "outputs": [],
   "source": [
    "temp_df2 = group[\"total_electors\"].mean().astype(int).to_frame()"
   ]
  },
  {
   "cell_type": "code",
   "execution_count": 13,
   "id": "e6838923-8d3c-45c1-a48e-a2306550e3b0",
   "metadata": {},
   "outputs": [],
   "source": [
    "df = pd.merge(temp_df1,temp_df2, on = \"pc_name\")"
   ]
  },
  {
   "cell_type": "code",
   "execution_count": 14,
   "id": "a1d5c6f8-563b-4a0e-a85a-058e4ca6c4a2",
   "metadata": {},
   "outputs": [],
   "source": [
    "df[\"Turnout Ratio\"] = round((df[\"total_votes\"] / df[\"total_electors\"])*100,1)"
   ]
  },
  {
   "cell_type": "code",
   "execution_count": 15,
   "id": "df0f3725-a5bf-40a8-beda-607247032b06",
   "metadata": {},
   "outputs": [
    {
     "name": "stdout",
     "output_type": "stream",
     "text": [
      "top 5 constituencies of 2014 in terms of voter turnout ratio.\n"
     ]
    },
    {
     "data": {
      "text/html": [
       "<div>\n",
       "<style scoped>\n",
       "    .dataframe tbody tr th:only-of-type {\n",
       "        vertical-align: middle;\n",
       "    }\n",
       "\n",
       "    .dataframe tbody tr th {\n",
       "        vertical-align: top;\n",
       "    }\n",
       "\n",
       "    .dataframe thead th {\n",
       "        text-align: right;\n",
       "    }\n",
       "</style>\n",
       "<table border=\"1\" class=\"dataframe\">\n",
       "  <thead>\n",
       "    <tr style=\"text-align: right;\">\n",
       "      <th></th>\n",
       "      <th>total_votes</th>\n",
       "      <th>total_electors</th>\n",
       "      <th>Turnout Ratio</th>\n",
       "    </tr>\n",
       "    <tr>\n",
       "      <th>pc_name</th>\n",
       "      <th></th>\n",
       "      <th></th>\n",
       "      <th></th>\n",
       "    </tr>\n",
       "  </thead>\n",
       "  <tbody>\n",
       "    <tr>\n",
       "      <th>Dhubri</th>\n",
       "      <td>1369624</td>\n",
       "      <td>1550166</td>\n",
       "      <td>88.4</td>\n",
       "    </tr>\n",
       "    <tr>\n",
       "      <th>Nagaland</th>\n",
       "      <td>1038910</td>\n",
       "      <td>1182972</td>\n",
       "      <td>87.8</td>\n",
       "    </tr>\n",
       "    <tr>\n",
       "      <th>Tamluk</th>\n",
       "      <td>1337684</td>\n",
       "      <td>1527273</td>\n",
       "      <td>87.6</td>\n",
       "    </tr>\n",
       "    <tr>\n",
       "      <th>Bishnupur</th>\n",
       "      <td>1272070</td>\n",
       "      <td>1466921</td>\n",
       "      <td>86.7</td>\n",
       "    </tr>\n",
       "    <tr>\n",
       "      <th>Kanthi</th>\n",
       "      <td>1290811</td>\n",
       "      <td>1490409</td>\n",
       "      <td>86.6</td>\n",
       "    </tr>\n",
       "  </tbody>\n",
       "</table>\n",
       "</div>"
      ],
      "text/plain": [
       "           total_votes  total_electors  Turnout Ratio\n",
       "pc_name                                              \n",
       "Dhubri         1369624         1550166           88.4\n",
       "Nagaland       1038910         1182972           87.8\n",
       "Tamluk         1337684         1527273           87.6\n",
       "Bishnupur      1272070         1466921           86.7\n",
       "Kanthi         1290811         1490409           86.6"
      ]
     },
     "execution_count": 15,
     "metadata": {},
     "output_type": "execute_result"
    }
   ],
   "source": [
    "print(\"top 5 constituencies of 2014 in terms of voter turnout ratio.\")\n",
    "df.sort_values(\"Turnout Ratio\",ascending = False).head(5)"
   ]
  },
  {
   "cell_type": "code",
   "execution_count": 16,
   "id": "278341b5-af14-46ee-b055-4b68d7ba0c90",
   "metadata": {},
   "outputs": [
    {
     "name": "stdout",
     "output_type": "stream",
     "text": [
      "bottom 5 constituencies of 2014 in terms of voter turnout ratio.\n"
     ]
    },
    {
     "data": {
      "text/html": [
       "<div>\n",
       "<style scoped>\n",
       "    .dataframe tbody tr th:only-of-type {\n",
       "        vertical-align: middle;\n",
       "    }\n",
       "\n",
       "    .dataframe tbody tr th {\n",
       "        vertical-align: top;\n",
       "    }\n",
       "\n",
       "    .dataframe thead th {\n",
       "        text-align: right;\n",
       "    }\n",
       "</style>\n",
       "<table border=\"1\" class=\"dataframe\">\n",
       "  <thead>\n",
       "    <tr style=\"text-align: right;\">\n",
       "      <th></th>\n",
       "      <th>total_votes</th>\n",
       "      <th>total_electors</th>\n",
       "      <th>Turnout Ratio</th>\n",
       "    </tr>\n",
       "    <tr>\n",
       "      <th>pc_name</th>\n",
       "      <th></th>\n",
       "      <th></th>\n",
       "      <th></th>\n",
       "    </tr>\n",
       "  </thead>\n",
       "  <tbody>\n",
       "    <tr>\n",
       "      <th>Srinagar</th>\n",
       "      <td>312212</td>\n",
       "      <td>1207230</td>\n",
       "      <td>25.9</td>\n",
       "    </tr>\n",
       "    <tr>\n",
       "      <th>Anantnag</th>\n",
       "      <td>375279</td>\n",
       "      <td>1301143</td>\n",
       "      <td>28.8</td>\n",
       "    </tr>\n",
       "    <tr>\n",
       "      <th>Baramulla</th>\n",
       "      <td>465992</td>\n",
       "      <td>1190766</td>\n",
       "      <td>39.1</td>\n",
       "    </tr>\n",
       "    <tr>\n",
       "      <th>Kalyan</th>\n",
       "      <td>824196</td>\n",
       "      <td>1922034</td>\n",
       "      <td>42.9</td>\n",
       "    </tr>\n",
       "    <tr>\n",
       "      <th>Patna Sahib</th>\n",
       "      <td>882262</td>\n",
       "      <td>1946249</td>\n",
       "      <td>45.3</td>\n",
       "    </tr>\n",
       "  </tbody>\n",
       "</table>\n",
       "</div>"
      ],
      "text/plain": [
       "             total_votes  total_electors  Turnout Ratio\n",
       "pc_name                                                \n",
       "Srinagar          312212         1207230           25.9\n",
       "Anantnag          375279         1301143           28.8\n",
       "Baramulla         465992         1190766           39.1\n",
       "Kalyan            824196         1922034           42.9\n",
       "Patna Sahib       882262         1946249           45.3"
      ]
     },
     "execution_count": 16,
     "metadata": {},
     "output_type": "execute_result"
    }
   ],
   "source": [
    "print(\"bottom 5 constituencies of 2014 in terms of voter turnout ratio.\")\n",
    "df.sort_values(\"Turnout Ratio\").head(5)"
   ]
  },
  {
   "cell_type": "markdown",
   "id": "29802030-ce1b-44ff-b501-8502a856d4f2",
   "metadata": {},
   "source": [
    "# 2"
   ]
  },
  {
   "cell_type": "code",
   "execution_count": 17,
   "id": "55cfafb5-3e89-4fe0-a70c-8a5774eb2239",
   "metadata": {},
   "outputs": [],
   "source": [
    "group = dt_2019.groupby(\"pc_name\")"
   ]
  },
  {
   "cell_type": "code",
   "execution_count": 18,
   "id": "21253350-ed34-441f-8cff-e7708c196253",
   "metadata": {},
   "outputs": [],
   "source": [
    "temp_df1 = group[\"total_votes\"].sum().to_frame()"
   ]
  },
  {
   "cell_type": "code",
   "execution_count": 19,
   "id": "2602345b-e5ad-4540-81ad-63b5749a2114",
   "metadata": {},
   "outputs": [],
   "source": [
    "temp_df2 = group[\"total_electors\"].mean().astype(int).to_frame()"
   ]
  },
  {
   "cell_type": "code",
   "execution_count": 20,
   "id": "c9a2b613-b62d-489a-a355-12ee4f4ce4ae",
   "metadata": {},
   "outputs": [],
   "source": [
    "df = pd.merge(temp_df1,temp_df2, on = \"pc_name\")"
   ]
  },
  {
   "cell_type": "code",
   "execution_count": 21,
   "id": "6084c981-65e6-44d9-8e7a-5834603b266d",
   "metadata": {},
   "outputs": [],
   "source": [
    "df[\"Turnout Ratio\"] = round((df[\"total_votes\"] / df[\"total_electors\"])*100,1)"
   ]
  },
  {
   "cell_type": "code",
   "execution_count": 22,
   "id": "fcb47c9c-3e27-4f7a-940f-39da2b6f3856",
   "metadata": {},
   "outputs": [
    {
     "name": "stdout",
     "output_type": "stream",
     "text": [
      "top 5 constituencies of 2019 in terms of voter turnout ratio.\n"
     ]
    },
    {
     "data": {
      "text/html": [
       "<div>\n",
       "<style scoped>\n",
       "    .dataframe tbody tr th:only-of-type {\n",
       "        vertical-align: middle;\n",
       "    }\n",
       "\n",
       "    .dataframe tbody tr th {\n",
       "        vertical-align: top;\n",
       "    }\n",
       "\n",
       "    .dataframe thead th {\n",
       "        text-align: right;\n",
       "    }\n",
       "</style>\n",
       "<table border=\"1\" class=\"dataframe\">\n",
       "  <thead>\n",
       "    <tr style=\"text-align: right;\">\n",
       "      <th></th>\n",
       "      <th>total_votes</th>\n",
       "      <th>total_electors</th>\n",
       "      <th>Turnout Ratio</th>\n",
       "    </tr>\n",
       "    <tr>\n",
       "      <th>pc_name</th>\n",
       "      <th></th>\n",
       "      <th></th>\n",
       "      <th></th>\n",
       "    </tr>\n",
       "  </thead>\n",
       "  <tbody>\n",
       "    <tr>\n",
       "      <th>Dhubri</th>\n",
       "      <td>1685005</td>\n",
       "      <td>1858566</td>\n",
       "      <td>90.7</td>\n",
       "    </tr>\n",
       "    <tr>\n",
       "      <th>Bishnupur</th>\n",
       "      <td>1420648</td>\n",
       "      <td>1627199</td>\n",
       "      <td>87.3</td>\n",
       "    </tr>\n",
       "    <tr>\n",
       "      <th>Barpeta</th>\n",
       "      <td>1458549</td>\n",
       "      <td>1685149</td>\n",
       "      <td>86.6</td>\n",
       "    </tr>\n",
       "    <tr>\n",
       "      <th>ARUNACHAL EAST</th>\n",
       "      <td>293781</td>\n",
       "      <td>339788</td>\n",
       "      <td>86.5</td>\n",
       "    </tr>\n",
       "    <tr>\n",
       "      <th>Jalpaiguri</th>\n",
       "      <td>1500922</td>\n",
       "      <td>1735464</td>\n",
       "      <td>86.5</td>\n",
       "    </tr>\n",
       "  </tbody>\n",
       "</table>\n",
       "</div>"
      ],
      "text/plain": [
       "                total_votes  total_electors  Turnout Ratio\n",
       "pc_name                                                   \n",
       "Dhubri              1685005         1858566           90.7\n",
       "Bishnupur           1420648         1627199           87.3\n",
       "Barpeta             1458549         1685149           86.6\n",
       "ARUNACHAL EAST       293781          339788           86.5\n",
       "Jalpaiguri          1500922         1735464           86.5"
      ]
     },
     "execution_count": 22,
     "metadata": {},
     "output_type": "execute_result"
    }
   ],
   "source": [
    "print(\"top 5 constituencies of 2019 in terms of voter turnout ratio.\")\n",
    "df.sort_values(\"Turnout Ratio\",ascending = False).head(5)"
   ]
  },
  {
   "cell_type": "code",
   "execution_count": 23,
   "id": "00964854-6f59-4539-9120-b2a479495a74",
   "metadata": {
    "scrolled": true
   },
   "outputs": [
    {
     "name": "stdout",
     "output_type": "stream",
     "text": [
      "bottom 5 constituencies of 2019 in terms of voter turnout ratio.\n"
     ]
    },
    {
     "data": {
      "text/html": [
       "<div>\n",
       "<style scoped>\n",
       "    .dataframe tbody tr th:only-of-type {\n",
       "        vertical-align: middle;\n",
       "    }\n",
       "\n",
       "    .dataframe tbody tr th {\n",
       "        vertical-align: top;\n",
       "    }\n",
       "\n",
       "    .dataframe thead th {\n",
       "        text-align: right;\n",
       "    }\n",
       "</style>\n",
       "<table border=\"1\" class=\"dataframe\">\n",
       "  <thead>\n",
       "    <tr style=\"text-align: right;\">\n",
       "      <th></th>\n",
       "      <th>total_votes</th>\n",
       "      <th>total_electors</th>\n",
       "      <th>Turnout Ratio</th>\n",
       "    </tr>\n",
       "    <tr>\n",
       "      <th>pc_name</th>\n",
       "      <th></th>\n",
       "      <th></th>\n",
       "      <th></th>\n",
       "    </tr>\n",
       "  </thead>\n",
       "  <tbody>\n",
       "    <tr>\n",
       "      <th>Anantnag</th>\n",
       "      <td>124896</td>\n",
       "      <td>1397779</td>\n",
       "      <td>8.9</td>\n",
       "    </tr>\n",
       "    <tr>\n",
       "      <th>Srinagar</th>\n",
       "      <td>186832</td>\n",
       "      <td>1294671</td>\n",
       "      <td>14.4</td>\n",
       "    </tr>\n",
       "    <tr>\n",
       "      <th>Baramulla</th>\n",
       "      <td>455550</td>\n",
       "      <td>1317738</td>\n",
       "      <td>34.6</td>\n",
       "    </tr>\n",
       "    <tr>\n",
       "      <th>Hyderabad</th>\n",
       "      <td>877872</td>\n",
       "      <td>1957931</td>\n",
       "      <td>44.8</td>\n",
       "    </tr>\n",
       "    <tr>\n",
       "      <th>Kalyan</th>\n",
       "      <td>890313</td>\n",
       "      <td>1965676</td>\n",
       "      <td>45.3</td>\n",
       "    </tr>\n",
       "  </tbody>\n",
       "</table>\n",
       "</div>"
      ],
      "text/plain": [
       "           total_votes  total_electors  Turnout Ratio\n",
       "pc_name                                              \n",
       "Anantnag        124896         1397779            8.9\n",
       "Srinagar        186832         1294671           14.4\n",
       "Baramulla       455550         1317738           34.6\n",
       "Hyderabad       877872         1957931           44.8\n",
       "Kalyan          890313         1965676           45.3"
      ]
     },
     "execution_count": 23,
     "metadata": {},
     "output_type": "execute_result"
    }
   ],
   "source": [
    "print(\"bottom 5 constituencies of 2019 in terms of voter turnout ratio.\")\n",
    "df.sort_values(\"Turnout Ratio\").head(5)"
   ]
  },
  {
   "cell_type": "markdown",
   "id": "0479d516-ca63-4013-8149-87d655f60c38",
   "metadata": {},
   "source": [
    "# 3"
   ]
  },
  {
   "cell_type": "code",
   "execution_count": 24,
   "id": "e851ec94-08e9-483c-8084-84cd6eb0fd48",
   "metadata": {},
   "outputs": [],
   "source": [
    "group = dt_2014.groupby(\"pc_name\")"
   ]
  },
  {
   "cell_type": "code",
   "execution_count": 25,
   "id": "6fc4b2d0-59fe-401f-a940-0cd4b478e6e2",
   "metadata": {},
   "outputs": [],
   "source": [
    "temp_df1 = group[\"total_votes\"].sum().to_frame()"
   ]
  },
  {
   "cell_type": "code",
   "execution_count": 26,
   "id": "59201327-cd9c-410d-b336-b33336a97955",
   "metadata": {},
   "outputs": [],
   "source": [
    "temp_df2 = group[\"total_electors\"].mean().astype(int).to_frame()"
   ]
  },
  {
   "cell_type": "code",
   "execution_count": 27,
   "id": "4ec3ea1d-4dc3-49bc-b3ce-1638c44bbfd1",
   "metadata": {},
   "outputs": [],
   "source": [
    "temp_df3 = group[\"state\"].apply(lambda x: x.unique()[0]).to_frame()"
   ]
  },
  {
   "cell_type": "code",
   "execution_count": 28,
   "id": "d6665a38-d6fa-43e0-8719-74a8cb026f8a",
   "metadata": {},
   "outputs": [],
   "source": [
    "df = pd.merge(temp_df1,temp_df2, on = \"pc_name\")"
   ]
  },
  {
   "cell_type": "code",
   "execution_count": 29,
   "id": "d03eae75-f30a-472e-ba33-7ce24a12e22e",
   "metadata": {},
   "outputs": [],
   "source": [
    "df = pd.merge(df,temp_df3, on = \"pc_name\")"
   ]
  },
  {
   "cell_type": "code",
   "execution_count": 30,
   "id": "873f7c70-ec18-4209-bd85-58a31742633a",
   "metadata": {},
   "outputs": [],
   "source": [
    "df.set_index(\"state\", inplace = True)"
   ]
  },
  {
   "cell_type": "code",
   "execution_count": 31,
   "id": "00dc4bf9-ec01-4f65-8226-55ea39689272",
   "metadata": {},
   "outputs": [],
   "source": [
    "df = df.groupby(\"state\").sum()"
   ]
  },
  {
   "cell_type": "code",
   "execution_count": 32,
   "id": "79e9ea20-736e-4a8f-a056-9a5345251888",
   "metadata": {},
   "outputs": [],
   "source": [
    "df[\"Turnout Ratio\"] = round((df[\"total_votes\"] / df[\"total_electors\"])*100,1)"
   ]
  },
  {
   "cell_type": "code",
   "execution_count": 33,
   "id": "8f2728ff-3f4c-4e70-aa82-a9db12731682",
   "metadata": {},
   "outputs": [
    {
     "name": "stdout",
     "output_type": "stream",
     "text": [
      "top 5 states of 2014 in terms of voter turnout ratio.\n"
     ]
    },
    {
     "data": {
      "text/html": [
       "<div>\n",
       "<style scoped>\n",
       "    .dataframe tbody tr th:only-of-type {\n",
       "        vertical-align: middle;\n",
       "    }\n",
       "\n",
       "    .dataframe tbody tr th {\n",
       "        vertical-align: top;\n",
       "    }\n",
       "\n",
       "    .dataframe thead th {\n",
       "        text-align: right;\n",
       "    }\n",
       "</style>\n",
       "<table border=\"1\" class=\"dataframe\">\n",
       "  <thead>\n",
       "    <tr style=\"text-align: right;\">\n",
       "      <th></th>\n",
       "      <th>total_votes</th>\n",
       "      <th>total_electors</th>\n",
       "      <th>Turnout Ratio</th>\n",
       "    </tr>\n",
       "    <tr>\n",
       "      <th>state</th>\n",
       "      <th></th>\n",
       "      <th></th>\n",
       "      <th></th>\n",
       "    </tr>\n",
       "  </thead>\n",
       "  <tbody>\n",
       "    <tr>\n",
       "      <th>Nagaland</th>\n",
       "      <td>1038910</td>\n",
       "      <td>1182972</td>\n",
       "      <td>87.8</td>\n",
       "    </tr>\n",
       "    <tr>\n",
       "      <th>Lakshadweep</th>\n",
       "      <td>43239</td>\n",
       "      <td>49922</td>\n",
       "      <td>86.6</td>\n",
       "    </tr>\n",
       "    <tr>\n",
       "      <th>Tripura</th>\n",
       "      <td>2023829</td>\n",
       "      <td>2388822</td>\n",
       "      <td>84.7</td>\n",
       "    </tr>\n",
       "    <tr>\n",
       "      <th>Dadra &amp; Nagar Haveli</th>\n",
       "      <td>165286</td>\n",
       "      <td>196597</td>\n",
       "      <td>84.1</td>\n",
       "    </tr>\n",
       "    <tr>\n",
       "      <th>Sikkim</th>\n",
       "      <td>308967</td>\n",
       "      <td>370770</td>\n",
       "      <td>83.3</td>\n",
       "    </tr>\n",
       "  </tbody>\n",
       "</table>\n",
       "</div>"
      ],
      "text/plain": [
       "                      total_votes  total_electors  Turnout Ratio\n",
       "state                                                           \n",
       "Nagaland                  1038910         1182972           87.8\n",
       "Lakshadweep                 43239           49922           86.6\n",
       "Tripura                   2023829         2388822           84.7\n",
       "Dadra & Nagar Haveli       165286          196597           84.1\n",
       "Sikkim                     308967          370770           83.3"
      ]
     },
     "execution_count": 33,
     "metadata": {},
     "output_type": "execute_result"
    }
   ],
   "source": [
    "print(\"top 5 states of 2014 in terms of voter turnout ratio.\")\n",
    "df.sort_values(\"Turnout Ratio\",ascending = False).head(5)"
   ]
  },
  {
   "cell_type": "code",
   "execution_count": 34,
   "id": "3eea3e7a-735b-463a-a481-06a82a542823",
   "metadata": {
    "scrolled": true
   },
   "outputs": [
    {
     "name": "stdout",
     "output_type": "stream",
     "text": [
      "bottom 5 states of 2014 in terms of voter turnout ratio.\n"
     ]
    },
    {
     "data": {
      "text/html": [
       "<div>\n",
       "<style scoped>\n",
       "    .dataframe tbody tr th:only-of-type {\n",
       "        vertical-align: middle;\n",
       "    }\n",
       "\n",
       "    .dataframe tbody tr th {\n",
       "        vertical-align: top;\n",
       "    }\n",
       "\n",
       "    .dataframe thead th {\n",
       "        text-align: right;\n",
       "    }\n",
       "</style>\n",
       "<table border=\"1\" class=\"dataframe\">\n",
       "  <thead>\n",
       "    <tr style=\"text-align: right;\">\n",
       "      <th></th>\n",
       "      <th>total_votes</th>\n",
       "      <th>total_electors</th>\n",
       "      <th>Turnout Ratio</th>\n",
       "    </tr>\n",
       "    <tr>\n",
       "      <th>state</th>\n",
       "      <th></th>\n",
       "      <th></th>\n",
       "      <th></th>\n",
       "    </tr>\n",
       "  </thead>\n",
       "  <tbody>\n",
       "    <tr>\n",
       "      <th>Jammu &amp; Kashmir</th>\n",
       "      <td>3566863</td>\n",
       "      <td>7183129</td>\n",
       "      <td>49.7</td>\n",
       "    </tr>\n",
       "    <tr>\n",
       "      <th>Bihar</th>\n",
       "      <td>35885332</td>\n",
       "      <td>63800160</td>\n",
       "      <td>56.2</td>\n",
       "    </tr>\n",
       "    <tr>\n",
       "      <th>Uttar Pradesh</th>\n",
       "      <td>81093120</td>\n",
       "      <td>138810557</td>\n",
       "      <td>58.4</td>\n",
       "    </tr>\n",
       "    <tr>\n",
       "      <th>Maharashtra</th>\n",
       "      <td>48717419</td>\n",
       "      <td>80798823</td>\n",
       "      <td>60.3</td>\n",
       "    </tr>\n",
       "    <tr>\n",
       "      <th>Madhya Pradesh</th>\n",
       "      <td>29639807</td>\n",
       "      <td>48121301</td>\n",
       "      <td>61.6</td>\n",
       "    </tr>\n",
       "  </tbody>\n",
       "</table>\n",
       "</div>"
      ],
      "text/plain": [
       "                 total_votes  total_electors  Turnout Ratio\n",
       "state                                                      \n",
       "Jammu & Kashmir      3566863         7183129           49.7\n",
       "Bihar               35885332        63800160           56.2\n",
       "Uttar Pradesh       81093120       138810557           58.4\n",
       "Maharashtra         48717419        80798823           60.3\n",
       "Madhya Pradesh      29639807        48121301           61.6"
      ]
     },
     "execution_count": 34,
     "metadata": {},
     "output_type": "execute_result"
    }
   ],
   "source": [
    "print(\"bottom 5 states of 2014 in terms of voter turnout ratio.\")\n",
    "df.sort_values(\"Turnout Ratio\").head(5)"
   ]
  },
  {
   "cell_type": "markdown",
   "id": "24e78d86-2c24-4193-b4fa-be13fb84d29b",
   "metadata": {},
   "source": [
    "# 4"
   ]
  },
  {
   "cell_type": "code",
   "execution_count": 35,
   "id": "127eaa4f-c4d6-4b2a-811a-5b67f25923a4",
   "metadata": {},
   "outputs": [],
   "source": [
    "group = dt_2019.groupby(\"pc_name\")"
   ]
  },
  {
   "cell_type": "code",
   "execution_count": 36,
   "id": "1d97b234-23d3-405a-b332-c4370dd517b9",
   "metadata": {},
   "outputs": [],
   "source": [
    "temp_df1 = group[\"total_votes\"].sum().to_frame()"
   ]
  },
  {
   "cell_type": "code",
   "execution_count": 37,
   "id": "0d99122d-be5b-49bb-a4ad-0c212ad5a2ce",
   "metadata": {},
   "outputs": [],
   "source": [
    "temp_df2 = group[\"total_electors\"].mean().astype(int).to_frame()"
   ]
  },
  {
   "cell_type": "code",
   "execution_count": 38,
   "id": "68c16b8a-ad73-47e0-9652-38d771fd4cac",
   "metadata": {},
   "outputs": [],
   "source": [
    "temp_df3 = group[\"state\"].apply(lambda x: x.unique()[0]).to_frame()"
   ]
  },
  {
   "cell_type": "code",
   "execution_count": 39,
   "id": "178bc50d-0a39-4590-b4f1-5d3c23cdf184",
   "metadata": {},
   "outputs": [],
   "source": [
    "df = pd.merge(temp_df1,temp_df2, on = \"pc_name\")"
   ]
  },
  {
   "cell_type": "code",
   "execution_count": 40,
   "id": "14983f38-b829-4d6e-a8b5-06b08ce7b5bd",
   "metadata": {},
   "outputs": [],
   "source": [
    "df = pd.merge(df,temp_df3, on = \"pc_name\")"
   ]
  },
  {
   "cell_type": "code",
   "execution_count": 41,
   "id": "c4fa4e08-e3c1-4786-9ce7-1fdec6236ff9",
   "metadata": {},
   "outputs": [],
   "source": [
    "df.set_index(\"state\", inplace = True)"
   ]
  },
  {
   "cell_type": "code",
   "execution_count": 42,
   "id": "275b6941-7af9-4060-8946-a3d52942f8fc",
   "metadata": {},
   "outputs": [],
   "source": [
    "df = df.groupby(\"state\").sum()"
   ]
  },
  {
   "cell_type": "code",
   "execution_count": 43,
   "id": "a4f1c8d1-0724-4582-85d6-f8d27d5ca41e",
   "metadata": {},
   "outputs": [],
   "source": [
    "df[\"Turnout Ratio\"] = round((df[\"total_votes\"] / df[\"total_electors\"])*100,1)"
   ]
  },
  {
   "cell_type": "code",
   "execution_count": 44,
   "id": "285b7a77-a0fb-4498-bcfe-71d7fd2bd4d4",
   "metadata": {},
   "outputs": [
    {
     "name": "stdout",
     "output_type": "stream",
     "text": [
      "top 5 states of 2019 in terms of voter turnout ratio.\n"
     ]
    },
    {
     "data": {
      "text/html": [
       "<div>\n",
       "<style scoped>\n",
       "    .dataframe tbody tr th:only-of-type {\n",
       "        vertical-align: middle;\n",
       "    }\n",
       "\n",
       "    .dataframe tbody tr th {\n",
       "        vertical-align: top;\n",
       "    }\n",
       "\n",
       "    .dataframe thead th {\n",
       "        text-align: right;\n",
       "    }\n",
       "</style>\n",
       "<table border=\"1\" class=\"dataframe\">\n",
       "  <thead>\n",
       "    <tr style=\"text-align: right;\">\n",
       "      <th></th>\n",
       "      <th>total_votes</th>\n",
       "      <th>total_electors</th>\n",
       "      <th>Turnout Ratio</th>\n",
       "    </tr>\n",
       "    <tr>\n",
       "      <th>state</th>\n",
       "      <th></th>\n",
       "      <th></th>\n",
       "      <th></th>\n",
       "    </tr>\n",
       "  </thead>\n",
       "  <tbody>\n",
       "    <tr>\n",
       "      <th>Lakshadweep</th>\n",
       "      <td>47009</td>\n",
       "      <td>55189</td>\n",
       "      <td>85.2</td>\n",
       "    </tr>\n",
       "    <tr>\n",
       "      <th>Nagaland</th>\n",
       "      <td>1006357</td>\n",
       "      <td>1213777</td>\n",
       "      <td>82.9</td>\n",
       "    </tr>\n",
       "    <tr>\n",
       "      <th>Manipur</th>\n",
       "      <td>1617330</td>\n",
       "      <td>1959563</td>\n",
       "      <td>82.5</td>\n",
       "    </tr>\n",
       "    <tr>\n",
       "      <th>Tripura</th>\n",
       "      <td>2153172</td>\n",
       "      <td>2614718</td>\n",
       "      <td>82.3</td>\n",
       "    </tr>\n",
       "    <tr>\n",
       "      <th>West Bengal</th>\n",
       "      <td>57206976</td>\n",
       "      <td>70001284</td>\n",
       "      <td>81.7</td>\n",
       "    </tr>\n",
       "  </tbody>\n",
       "</table>\n",
       "</div>"
      ],
      "text/plain": [
       "             total_votes  total_electors  Turnout Ratio\n",
       "state                                                  \n",
       "Lakshadweep        47009           55189           85.2\n",
       "Nagaland         1006357         1213777           82.9\n",
       "Manipur          1617330         1959563           82.5\n",
       "Tripura          2153172         2614718           82.3\n",
       "West Bengal     57206976        70001284           81.7"
      ]
     },
     "execution_count": 44,
     "metadata": {},
     "output_type": "execute_result"
    }
   ],
   "source": [
    "print(\"top 5 states of 2019 in terms of voter turnout ratio.\")\n",
    "df.sort_values(\"Turnout Ratio\",ascending = False).head(5)"
   ]
  },
  {
   "cell_type": "code",
   "execution_count": 45,
   "id": "80b028da-024e-4eb5-9981-debac02a0918",
   "metadata": {
    "scrolled": true
   },
   "outputs": [
    {
     "name": "stdout",
     "output_type": "stream",
     "text": [
      "bottom 5 states of 2019 in terms of voter turnout ratio.\n"
     ]
    },
    {
     "data": {
      "text/html": [
       "<div>\n",
       "<style scoped>\n",
       "    .dataframe tbody tr th:only-of-type {\n",
       "        vertical-align: middle;\n",
       "    }\n",
       "\n",
       "    .dataframe tbody tr th {\n",
       "        vertical-align: top;\n",
       "    }\n",
       "\n",
       "    .dataframe thead th {\n",
       "        text-align: right;\n",
       "    }\n",
       "</style>\n",
       "<table border=\"1\" class=\"dataframe\">\n",
       "  <thead>\n",
       "    <tr style=\"text-align: right;\">\n",
       "      <th></th>\n",
       "      <th>total_votes</th>\n",
       "      <th>total_electors</th>\n",
       "      <th>Turnout Ratio</th>\n",
       "    </tr>\n",
       "    <tr>\n",
       "      <th>state</th>\n",
       "      <th></th>\n",
       "      <th></th>\n",
       "      <th></th>\n",
       "    </tr>\n",
       "  </thead>\n",
       "  <tbody>\n",
       "    <tr>\n",
       "      <th>Jammu &amp; Kashmir</th>\n",
       "      <td>3552622</td>\n",
       "      <td>7922538</td>\n",
       "      <td>44.8</td>\n",
       "    </tr>\n",
       "    <tr>\n",
       "      <th>Bihar</th>\n",
       "      <td>40806661</td>\n",
       "      <td>71216290</td>\n",
       "      <td>57.3</td>\n",
       "    </tr>\n",
       "    <tr>\n",
       "      <th>Uttar Pradesh</th>\n",
       "      <td>86481398</td>\n",
       "      <td>146134603</td>\n",
       "      <td>59.2</td>\n",
       "    </tr>\n",
       "    <tr>\n",
       "      <th>NCT OF Delhi</th>\n",
       "      <td>8679012</td>\n",
       "      <td>14327649</td>\n",
       "      <td>60.6</td>\n",
       "    </tr>\n",
       "    <tr>\n",
       "      <th>Maharashtra</th>\n",
       "      <td>54054245</td>\n",
       "      <td>88676946</td>\n",
       "      <td>61.0</td>\n",
       "    </tr>\n",
       "  </tbody>\n",
       "</table>\n",
       "</div>"
      ],
      "text/plain": [
       "                 total_votes  total_electors  Turnout Ratio\n",
       "state                                                      \n",
       "Jammu & Kashmir      3552622         7922538           44.8\n",
       "Bihar               40806661        71216290           57.3\n",
       "Uttar Pradesh       86481398       146134603           59.2\n",
       "NCT OF Delhi         8679012        14327649           60.6\n",
       "Maharashtra         54054245        88676946           61.0"
      ]
     },
     "execution_count": 45,
     "metadata": {},
     "output_type": "execute_result"
    }
   ],
   "source": [
    "print(\"bottom 5 states of 2019 in terms of voter turnout ratio.\")\n",
    "df.sort_values(\"Turnout Ratio\").head(5)"
   ]
  },
  {
   "cell_type": "markdown",
   "id": "06852163-8ff7-49b0-986e-43e0dfa55d6a",
   "metadata": {},
   "source": [
    "# 5"
   ]
  },
  {
   "cell_type": "code",
   "execution_count": 46,
   "id": "2392df5e-a9c5-44c2-abe1-c411e95154b0",
   "metadata": {},
   "outputs": [],
   "source": [
    "dt_14 = dt_2014[[\"pc_name\",\"party\",\"total_votes\",\"total_electors\"]].groupby(\"pc_name\").apply(lambda x: x.loc[x[\"total_votes\"].idxmax()]).reset_index(drop=True)\n",
    "dt_19 = dt_2019[[\"pc_name\",\"party\",\"total_votes\",\"total_electors\"]].groupby(\"pc_name\").apply(lambda x: x.loc[x[\"total_votes\"].idxmax()]).reset_index(drop=True)"
   ]
  },
  {
   "cell_type": "code",
   "execution_count": 47,
   "id": "6ad5fe88-4659-4eb8-9aa1-e01413ad7c4a",
   "metadata": {},
   "outputs": [],
   "source": [
    "df = pd.merge(dt_14,dt_19, on = \"pc_name\", suffixes=('_14', '_19'))"
   ]
  },
  {
   "cell_type": "code",
   "execution_count": 48,
   "id": "717c920a-1384-4e42-b44b-5f53d2463cc3",
   "metadata": {
    "scrolled": true
   },
   "outputs": [],
   "source": [
    "df = df[df[\"party_14\"] == df[\"party_19\"]]"
   ]
  },
  {
   "cell_type": "code",
   "execution_count": 49,
   "id": "e860d966-84df-4ea4-82c7-8dc8912465dd",
   "metadata": {},
   "outputs": [],
   "source": [
    "df[\"percentage_14\"] = round(((df[\"total_votes_14\"]/df[\"total_electors_14\"])*100),2)\n",
    "df[\"percentage_19\"] = round(((df[\"total_votes_19\"]/df[\"total_electors_19\"])*100),2)"
   ]
  },
  {
   "cell_type": "code",
   "execution_count": 50,
   "id": "3ae476e4-a45f-4207-bc70-9147e8c64c31",
   "metadata": {},
   "outputs": [],
   "source": [
    "df = df.sort_values(\"percentage_19\",ascending = False)[[\"pc_name\",\"party_14\",\"percentage_14\",\"percentage_19\"]]"
   ]
  },
  {
   "cell_type": "code",
   "execution_count": 76,
   "id": "abca0218-e05f-4aec-960a-852139f22e8f",
   "metadata": {},
   "outputs": [
    {
     "name": "stdout",
     "output_type": "stream",
     "text": [
      "constituencies which elected the same party for two consecutive elections, rank them by % of votes to that winning party in 2019.\n"
     ]
    },
    {
     "data": {
      "text/html": [
       "<div>\n",
       "<style scoped>\n",
       "    .dataframe tbody tr th:only-of-type {\n",
       "        vertical-align: middle;\n",
       "    }\n",
       "\n",
       "    .dataframe tbody tr th {\n",
       "        vertical-align: top;\n",
       "    }\n",
       "\n",
       "    .dataframe thead th {\n",
       "        text-align: right;\n",
       "    }\n",
       "</style>\n",
       "<table border=\"1\" class=\"dataframe\">\n",
       "  <thead>\n",
       "    <tr style=\"text-align: right;\">\n",
       "      <th></th>\n",
       "      <th>party</th>\n",
       "      <th>percentage_14</th>\n",
       "      <th>party_19</th>\n",
       "      <th>percentage_19</th>\n",
       "      <th>diffrence</th>\n",
       "    </tr>\n",
       "    <tr>\n",
       "      <th>constituencies</th>\n",
       "      <th></th>\n",
       "      <th></th>\n",
       "      <th></th>\n",
       "      <th></th>\n",
       "      <th></th>\n",
       "    </tr>\n",
       "  </thead>\n",
       "  <tbody>\n",
       "    <tr>\n",
       "      <th>Alipurduars</th>\n",
       "      <td>AITC</td>\n",
       "      <td>24.64</td>\n",
       "      <td>BJP</td>\n",
       "      <td>45.55</td>\n",
       "      <td>20.91</td>\n",
       "    </tr>\n",
       "    <tr>\n",
       "      <th>Autonomous District</th>\n",
       "      <td>INC</td>\n",
       "      <td>30.35</td>\n",
       "      <td>BJP</td>\n",
       "      <td>47.91</td>\n",
       "      <td>17.56</td>\n",
       "    </tr>\n",
       "    <tr>\n",
       "      <th>Puducherry</th>\n",
       "      <td>AINRC</td>\n",
       "      <td>28.38</td>\n",
       "      <td>INC</td>\n",
       "      <td>45.71</td>\n",
       "      <td>17.33</td>\n",
       "    </tr>\n",
       "    <tr>\n",
       "      <th>Kanniyakumari</th>\n",
       "      <td>BJP</td>\n",
       "      <td>25.41</td>\n",
       "      <td>INC</td>\n",
       "      <td>41.78</td>\n",
       "      <td>16.37</td>\n",
       "    </tr>\n",
       "    <tr>\n",
       "      <th>Chikkballapur</th>\n",
       "      <td>INC</td>\n",
       "      <td>25.61</td>\n",
       "      <td>BJP</td>\n",
       "      <td>41.24</td>\n",
       "      <td>15.63</td>\n",
       "    </tr>\n",
       "    <tr>\n",
       "      <th>Kolar</th>\n",
       "      <td>INC</td>\n",
       "      <td>28.06</td>\n",
       "      <td>BJP</td>\n",
       "      <td>43.51</td>\n",
       "      <td>15.45</td>\n",
       "    </tr>\n",
       "    <tr>\n",
       "      <th>Sambhal</th>\n",
       "      <td>BJP</td>\n",
       "      <td>21.28</td>\n",
       "      <td>SP</td>\n",
       "      <td>35.98</td>\n",
       "      <td>14.70</td>\n",
       "    </tr>\n",
       "    <tr>\n",
       "      <th>Supaul</th>\n",
       "      <td>INC</td>\n",
       "      <td>21.82</td>\n",
       "      <td>JD(U)</td>\n",
       "      <td>35.33</td>\n",
       "      <td>13.51</td>\n",
       "    </tr>\n",
       "    <tr>\n",
       "      <th>Giridih</th>\n",
       "      <td>BJP</td>\n",
       "      <td>25.93</td>\n",
       "      <td>AJSUP</td>\n",
       "      <td>39.30</td>\n",
       "      <td>13.37</td>\n",
       "    </tr>\n",
       "    <tr>\n",
       "      <th>Perambalur</th>\n",
       "      <td>ADMK</td>\n",
       "      <td>35.99</td>\n",
       "      <td>DMK</td>\n",
       "      <td>49.12</td>\n",
       "      <td>13.13</td>\n",
       "    </tr>\n",
       "    <tr>\n",
       "      <th>Ghazipur</th>\n",
       "      <td>BJP</td>\n",
       "      <td>17.04</td>\n",
       "      <td>BSP</td>\n",
       "      <td>30.09</td>\n",
       "      <td>13.05</td>\n",
       "    </tr>\n",
       "    <tr>\n",
       "      <th>Jhanjharpur</th>\n",
       "      <td>BJP</td>\n",
       "      <td>20.11</td>\n",
       "      <td>JD(U)</td>\n",
       "      <td>32.52</td>\n",
       "      <td>12.41</td>\n",
       "    </tr>\n",
       "    <tr>\n",
       "      <th>Bhagalpur</th>\n",
       "      <td>RJD</td>\n",
       "      <td>21.81</td>\n",
       "      <td>JD(U)</td>\n",
       "      <td>33.90</td>\n",
       "      <td>12.09</td>\n",
       "    </tr>\n",
       "    <tr>\n",
       "      <th>Dindigul</th>\n",
       "      <td>ADMK</td>\n",
       "      <td>36.45</td>\n",
       "      <td>DMK</td>\n",
       "      <td>48.42</td>\n",
       "      <td>11.97</td>\n",
       "    </tr>\n",
       "    <tr>\n",
       "      <th>Madhepura</th>\n",
       "      <td>RJD</td>\n",
       "      <td>21.38</td>\n",
       "      <td>JD(U)</td>\n",
       "      <td>33.12</td>\n",
       "      <td>11.74</td>\n",
       "    </tr>\n",
       "  </tbody>\n",
       "</table>\n",
       "</div>"
      ],
      "text/plain": [
       "                     party  percentage_14 party_19  percentage_19  diffrence\n",
       "constituencies                                                              \n",
       "Alipurduars           AITC          24.64      BJP          45.55      20.91\n",
       "Autonomous District    INC          30.35      BJP          47.91      17.56\n",
       "Puducherry           AINRC          28.38      INC          45.71      17.33\n",
       "Kanniyakumari          BJP          25.41      INC          41.78      16.37\n",
       "Chikkballapur          INC          25.61      BJP          41.24      15.63\n",
       "Kolar                  INC          28.06      BJP          43.51      15.45\n",
       "Sambhal                BJP          21.28       SP          35.98      14.70\n",
       "Supaul                 INC          21.82    JD(U)          35.33      13.51\n",
       "Giridih                BJP          25.93    AJSUP          39.30      13.37\n",
       "Perambalur            ADMK          35.99      DMK          49.12      13.13\n",
       "Ghazipur               BJP          17.04      BSP          30.09      13.05\n",
       "Jhanjharpur            BJP          20.11    JD(U)          32.52      12.41\n",
       "Bhagalpur              RJD          21.81    JD(U)          33.90      12.09\n",
       "Dindigul              ADMK          36.45      DMK          48.42      11.97\n",
       "Madhepura              RJD          21.38    JD(U)          33.12      11.74"
      ]
     },
     "execution_count": 76,
     "metadata": {},
     "output_type": "execute_result"
    }
   ],
   "source": [
    "print(\"constituencies which elected the same party for two consecutive elections, rank them by % of votes to that winning party in 2019.\")\n",
    "df.rename(columns={\"party_14\":\"party\",\"pc_name\":\"constituencies\"}).set_index(\"constituencies\").head(15)"
   ]
  },
  {
   "cell_type": "markdown",
   "id": "a5c7eafa-5c49-430a-b953-d4a432f7e774",
   "metadata": {},
   "source": [
    "# 6"
   ]
  },
  {
   "cell_type": "code",
   "execution_count": 54,
   "id": "0e8d6fa1-9126-4a0e-8de9-422673e7c783",
   "metadata": {},
   "outputs": [],
   "source": [
    "dt_14 = dt_2014[[\"pc_name\",\"party\",\"total_votes\",\"total_electors\"]].groupby(\"pc_name\").apply(lambda x: x.loc[x[\"total_votes\"].idxmax()]).reset_index(drop=True)\n",
    "dt_19 = dt_2019[[\"pc_name\",\"party\",\"total_votes\",\"total_electors\"]].groupby(\"pc_name\").apply(lambda x: x.loc[x[\"total_votes\"].idxmax()]).reset_index(drop=True)"
   ]
  },
  {
   "cell_type": "code",
   "execution_count": 55,
   "id": "97c3a57a-304d-4ea2-82d2-e54946da9242",
   "metadata": {},
   "outputs": [],
   "source": [
    "df = pd.merge(dt_14,dt_19, on = \"pc_name\", suffixes=('_14', '_19'))"
   ]
  },
  {
   "cell_type": "code",
   "execution_count": 56,
   "id": "741c9105-6fa4-476c-80c1-ffdefe11c8f8",
   "metadata": {
    "scrolled": true
   },
   "outputs": [],
   "source": [
    "df = df[df[\"party_14\"] != df[\"party_19\"]]"
   ]
  },
  {
   "cell_type": "code",
   "execution_count": 61,
   "id": "ff4a910e-8d41-420d-a2e2-ae0fca101180",
   "metadata": {},
   "outputs": [],
   "source": [
    "df[\"percentage_14\"] = round(((df[\"total_votes_14\"]/df[\"total_electors_14\"])*100),2)\n",
    "df[\"percentage_19\"] = round(((df[\"total_votes_19\"]/df[\"total_electors_19\"])*100),2)\n",
    "df[\"diffrence\"] = df[\"percentage_19\"] - df[\"percentage_14\"]"
   ]
  },
  {
   "cell_type": "code",
   "execution_count": 68,
   "id": "acb6dac5-dfda-4fdf-89ba-924fa5983d78",
   "metadata": {},
   "outputs": [],
   "source": [
    "df = df.sort_values(\"diffrence\",ascending = False)[[\"pc_name\",\"party_14\",\"percentage_14\",\"party_19\",\"percentage_19\",\"diffrence\"]]"
   ]
  },
  {
   "cell_type": "code",
   "execution_count": 75,
   "id": "217202de-478d-4831-b98e-64bed1316531",
   "metadata": {},
   "outputs": [
    {
     "name": "stdout",
     "output_type": "stream",
     "text": [
      "top 10 constituencies which voted for different parties in two elections \n",
      "on the based of difference (2019-2014) in winner vote percentage in two elections.\n"
     ]
    },
    {
     "data": {
      "text/html": [
       "<div>\n",
       "<style scoped>\n",
       "    .dataframe tbody tr th:only-of-type {\n",
       "        vertical-align: middle;\n",
       "    }\n",
       "\n",
       "    .dataframe tbody tr th {\n",
       "        vertical-align: top;\n",
       "    }\n",
       "\n",
       "    .dataframe thead th {\n",
       "        text-align: right;\n",
       "    }\n",
       "</style>\n",
       "<table border=\"1\" class=\"dataframe\">\n",
       "  <thead>\n",
       "    <tr style=\"text-align: right;\">\n",
       "      <th></th>\n",
       "      <th>party_14</th>\n",
       "      <th>percentage_14</th>\n",
       "      <th>party_19</th>\n",
       "      <th>percentage_19</th>\n",
       "      <th>diffrence</th>\n",
       "    </tr>\n",
       "    <tr>\n",
       "      <th>constituencies</th>\n",
       "      <th></th>\n",
       "      <th></th>\n",
       "      <th></th>\n",
       "      <th></th>\n",
       "      <th></th>\n",
       "    </tr>\n",
       "  </thead>\n",
       "  <tbody>\n",
       "    <tr>\n",
       "      <th>Alipurduars</th>\n",
       "      <td>AITC</td>\n",
       "      <td>24.64</td>\n",
       "      <td>BJP</td>\n",
       "      <td>45.55</td>\n",
       "      <td>20.91</td>\n",
       "    </tr>\n",
       "    <tr>\n",
       "      <th>Autonomous District</th>\n",
       "      <td>INC</td>\n",
       "      <td>30.35</td>\n",
       "      <td>BJP</td>\n",
       "      <td>47.91</td>\n",
       "      <td>17.56</td>\n",
       "    </tr>\n",
       "    <tr>\n",
       "      <th>Puducherry</th>\n",
       "      <td>AINRC</td>\n",
       "      <td>28.38</td>\n",
       "      <td>INC</td>\n",
       "      <td>45.71</td>\n",
       "      <td>17.33</td>\n",
       "    </tr>\n",
       "    <tr>\n",
       "      <th>Kanniyakumari</th>\n",
       "      <td>BJP</td>\n",
       "      <td>25.41</td>\n",
       "      <td>INC</td>\n",
       "      <td>41.78</td>\n",
       "      <td>16.37</td>\n",
       "    </tr>\n",
       "    <tr>\n",
       "      <th>Chikkballapur</th>\n",
       "      <td>INC</td>\n",
       "      <td>25.61</td>\n",
       "      <td>BJP</td>\n",
       "      <td>41.24</td>\n",
       "      <td>15.63</td>\n",
       "    </tr>\n",
       "    <tr>\n",
       "      <th>Kolar</th>\n",
       "      <td>INC</td>\n",
       "      <td>28.06</td>\n",
       "      <td>BJP</td>\n",
       "      <td>43.51</td>\n",
       "      <td>15.45</td>\n",
       "    </tr>\n",
       "    <tr>\n",
       "      <th>Sambhal</th>\n",
       "      <td>BJP</td>\n",
       "      <td>21.28</td>\n",
       "      <td>SP</td>\n",
       "      <td>35.98</td>\n",
       "      <td>14.70</td>\n",
       "    </tr>\n",
       "    <tr>\n",
       "      <th>Supaul</th>\n",
       "      <td>INC</td>\n",
       "      <td>21.82</td>\n",
       "      <td>JD(U)</td>\n",
       "      <td>35.33</td>\n",
       "      <td>13.51</td>\n",
       "    </tr>\n",
       "    <tr>\n",
       "      <th>Giridih</th>\n",
       "      <td>BJP</td>\n",
       "      <td>25.93</td>\n",
       "      <td>AJSUP</td>\n",
       "      <td>39.30</td>\n",
       "      <td>13.37</td>\n",
       "    </tr>\n",
       "    <tr>\n",
       "      <th>Perambalur</th>\n",
       "      <td>ADMK</td>\n",
       "      <td>35.99</td>\n",
       "      <td>DMK</td>\n",
       "      <td>49.12</td>\n",
       "      <td>13.13</td>\n",
       "    </tr>\n",
       "  </tbody>\n",
       "</table>\n",
       "</div>"
      ],
      "text/plain": [
       "                    party_14  percentage_14 party_19  percentage_19  diffrence\n",
       "constituencies                                                                \n",
       "Alipurduars             AITC          24.64      BJP          45.55      20.91\n",
       "Autonomous District      INC          30.35      BJP          47.91      17.56\n",
       "Puducherry             AINRC          28.38      INC          45.71      17.33\n",
       "Kanniyakumari            BJP          25.41      INC          41.78      16.37\n",
       "Chikkballapur            INC          25.61      BJP          41.24      15.63\n",
       "Kolar                    INC          28.06      BJP          43.51      15.45\n",
       "Sambhal                  BJP          21.28       SP          35.98      14.70\n",
       "Supaul                   INC          21.82    JD(U)          35.33      13.51\n",
       "Giridih                  BJP          25.93    AJSUP          39.30      13.37\n",
       "Perambalur              ADMK          35.99      DMK          49.12      13.13"
      ]
     },
     "execution_count": 75,
     "metadata": {},
     "output_type": "execute_result"
    }
   ],
   "source": [
    "print(\"top 10 constituencies which voted for different parties in two elections \\non the based of difference (2019-2014) in winner vote percentage in two elections.\")\n",
    "df.rename(columns={\"pc_name\":\"constituencies\"}).set_index(\"constituencies\").head(10)"
   ]
  },
  {
   "cell_type": "code",
   "execution_count": null,
   "id": "c9bfe676-1943-4eda-bb64-83d173f0f4c4",
   "metadata": {},
   "outputs": [],
   "source": []
  }
 ],
 "metadata": {
  "kernelspec": {
   "display_name": "Python 3 (ipykernel)",
   "language": "python",
   "name": "python3"
  },
  "language_info": {
   "codemirror_mode": {
    "name": "ipython",
    "version": 3
   },
   "file_extension": ".py",
   "mimetype": "text/x-python",
   "name": "python",
   "nbconvert_exporter": "python",
   "pygments_lexer": "ipython3",
   "version": "3.11.4"
  }
 },
 "nbformat": 4,
 "nbformat_minor": 5
}
