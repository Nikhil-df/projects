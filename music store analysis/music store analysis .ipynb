{
 "cells": [
  {
   "cell_type": "markdown",
   "id": "6e5f78d4-50ba-4e7d-96b8-7319cf1819ea",
   "metadata": {},
   "source": [
    "# Music Store Analysis"
   ]
  },
  {
   "cell_type": "code",
   "execution_count": 1,
   "id": "16df8862-75d6-4328-bda3-174cec6635af",
   "metadata": {},
   "outputs": [],
   "source": [
    "import mysql.connector"
   ]
  },
  {
   "cell_type": "markdown",
   "id": "4968c10c-b391-4423-a62b-dc74653f1fc4",
   "metadata": {},
   "source": [
    "# Connecting jupyter notebook to database"
   ]
  },
  {
   "cell_type": "code",
   "execution_count": 2,
   "id": "fb7d2fbf-5b52-4ca9-9fd5-b4148f33a169",
   "metadata": {},
   "outputs": [],
   "source": [
    "data_base = mysql.connector.connect(\n",
    "    host = \"localhost\",\n",
    "    user = \"root\",\n",
    "    password = \"123456\",\n",
    "    database = \"music_store\"\n",
    ")\n",
    "mycursor = data_base.cursor()"
   ]
  },
  {
   "cell_type": "markdown",
   "id": "428b0cbf-aff1-41b1-bb12-692898e493c2",
   "metadata": {},
   "source": [
    "## 1. Who is the senior most employee based on job title?"
   ]
  },
  {
   "cell_type": "code",
   "execution_count": 3,
   "id": "095c9438-b515-4f35-a909-fafe77ef48e2",
   "metadata": {},
   "outputs": [],
   "source": [
    "mycursor.execute(\"SELECT CONCAT(first_name,' ',last_name) FROM music_store.employee ORDER BY levels DESC LIMIT 1\")"
   ]
  },
  {
   "cell_type": "code",
   "execution_count": 4,
   "id": "ac88ab0f-50dd-45d9-a34d-eb163bf69d7d",
   "metadata": {},
   "outputs": [
    {
     "name": "stdout",
     "output_type": "stream",
     "text": [
      "('Andrew Adams',)\n"
     ]
    }
   ],
   "source": [
    "for x in mycursor:\n",
    "    print(x)"
   ]
  },
  {
   "cell_type": "markdown",
   "id": "4444688b-8a78-4824-b10e-c78223d67c34",
   "metadata": {},
   "source": [
    "## 2. Which countries have the most Invoices?"
   ]
  },
  {
   "cell_type": "code",
   "execution_count": 5,
   "id": "ab6e371f-a9dc-4c8b-a3e8-ca390c7107b4",
   "metadata": {},
   "outputs": [],
   "source": [
    "mycursor.execute(\"\"\"SELECT billing_country, COUNT(*) AS total_count FROM music_store.invoice\n",
    "                    GROUP BY billing_country\n",
    "                    ORDER BY total_count DESC \n",
    "                    LIMIT 1\"\"\")"
   ]
  },
  {
   "cell_type": "code",
   "execution_count": 6,
   "id": "5e95b6e0-2cee-4bf8-a74b-16fce786b966",
   "metadata": {},
   "outputs": [
    {
     "name": "stdout",
     "output_type": "stream",
     "text": [
      "('USA', 131)\n"
     ]
    }
   ],
   "source": [
    "for x in mycursor:\n",
    "    print(x)"
   ]
  },
  {
   "cell_type": "markdown",
   "id": "43cc49dc-e189-4941-9608-87e5b50c3a3b",
   "metadata": {},
   "source": [
    "## 3. What are top 3 values of total invoice?"
   ]
  },
  {
   "cell_type": "code",
   "execution_count": 7,
   "id": "a71edf43-e6fc-43f2-8ac1-9cdd11d2b1d9",
   "metadata": {},
   "outputs": [],
   "source": [
    "mycursor.execute(\"\"\"SELECT * FROM music_store.invoice\n",
    "                    ORDER BY total DESC\n",
    "                    LIMIT 3\"\"\")"
   ]
  },
  {
   "cell_type": "code",
   "execution_count": 8,
   "id": "8aff6316-ac48-46a6-9609-65c34b62c6a2",
   "metadata": {},
   "outputs": [
    {
     "name": "stdout",
     "output_type": "stream",
     "text": [
      "(183, 42, '2018-02-09 00:00:00', '9, Place Louis Barthou', 'Bordeaux', 'None', 'France', '33000', 23.759999999999998)\n",
      "(92, 32, '2017-07-02 00:00:00', '696 Osborne Street', 'Winnipeg', 'MB', 'Canada', 'R3L 2B9', 19.8)\n",
      "(526, 5, '2020-06-08 00:00:00', 'Klanova 9/506', 'Prague', 'None', 'Czech Republic', '14700', 19.8)\n"
     ]
    }
   ],
   "source": [
    "for x in mycursor:\n",
    "    print(x)"
   ]
  },
  {
   "cell_type": "markdown",
   "id": "3c85a299-51ca-47dc-aba9-b988a3ed1b0b",
   "metadata": {},
   "source": [
    "## 4. Which city has the best customers? We would like to throw a promotional Music Festival in the city we made the most money. Write a query that returns one city that has the highest sum of invoice totals. Return both the city name & sum of all invoice totals"
   ]
  },
  {
   "cell_type": "code",
   "execution_count": 9,
   "id": "2d0128a5-9fbe-4224-8565-14b3026d445f",
   "metadata": {},
   "outputs": [],
   "source": [
    "mycursor.execute(\"\"\"SELECT billing_country, SUM(total) AS total_invoice FROM music_store.invoice\n",
    "                    GROUP BY billing_country\n",
    "                    ORDER BY total_invoice DESC \n",
    "                    LIMIT 1\"\"\")"
   ]
  },
  {
   "cell_type": "code",
   "execution_count": 10,
   "id": "2ca1566b-bb64-4b8b-8d73-d449f670f6ae",
   "metadata": {},
   "outputs": [
    {
     "name": "stdout",
     "output_type": "stream",
     "text": [
      "('USA', 1040.4899999999998)\n"
     ]
    }
   ],
   "source": [
    "for x in mycursor:\n",
    "    print(x)"
   ]
  },
  {
   "cell_type": "markdown",
   "id": "1c873e41-3526-4002-9ba9-7d49abe20762",
   "metadata": {},
   "source": [
    "## 5. Who is the best customer? The customer who has spent the most money will be declared the best customer. Write a query that returns the person who has spent the most money"
   ]
  },
  {
   "cell_type": "code",
   "execution_count": 11,
   "id": "13bf8467-972b-4621-af25-334f1879fc0a",
   "metadata": {},
   "outputs": [],
   "source": [
    "mycursor.execute(\"\"\"SELECT customer.customer_id,first_name , last_name, SUM(invoice.total) AS total_spending FROM music_store.customer\n",
    "                    JOIN music_store.invoice \n",
    "                    ON customer.customer_id = invoice.customer_id\n",
    "                    GROUP BY customer.customer_id, first_name , last_name\n",
    "                    ORDER BY total_spending DESC\n",
    "                    LIMIT 1\"\"\")"
   ]
  },
  {
   "cell_type": "code",
   "execution_count": 12,
   "id": "78f3e029-832d-40fa-9a69-a06953f97827",
   "metadata": {},
   "outputs": [
    {
     "name": "stdout",
     "output_type": "stream",
     "text": [
      "(5, 'FrantiÅ¡ek', 'WichterlovÃ¡', 144.54000000000002)\n"
     ]
    }
   ],
   "source": [
    "for x in mycursor:\n",
    "    print(x)"
   ]
  }
 ],
 "metadata": {
  "kernelspec": {
   "display_name": "Python 3 (ipykernel)",
   "language": "python",
   "name": "python3"
  },
  "language_info": {
   "codemirror_mode": {
    "name": "ipython",
    "version": 3
   },
   "file_extension": ".py",
   "mimetype": "text/x-python",
   "name": "python",
   "nbconvert_exporter": "python",
   "pygments_lexer": "ipython3",
   "version": "3.11.4"
  }
 },
 "nbformat": 4,
 "nbformat_minor": 5
}
