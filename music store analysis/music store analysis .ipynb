{
 "cells": [
  {
   "cell_type": "markdown",
   "id": "6e5f78d4-50ba-4e7d-96b8-7319cf1819ea",
   "metadata": {},
   "source": [
    "# Music Store Analysis"
   ]
  },
  {
   "cell_type": "markdown",
   "id": "5800a53a-651b-450f-9c24-13c59c900057",
   "metadata": {},
   "source": [
    "### Please note that you can see some data different from the video because the provided data is bit different from which used in the video. you can se the difference clearly if you run the average command separately from moderate question number 3."
   ]
  },
  {
   "cell_type": "markdown",
   "id": "4968c10c-b391-4423-a62b-dc74653f1fc4",
   "metadata": {},
   "source": [
    "# Connecting jupyter notebook to database"
   ]
  },
  {
   "cell_type": "code",
   "execution_count": 1,
   "id": "16df8862-75d6-4328-bda3-174cec6635af",
   "metadata": {},
   "outputs": [],
   "source": [
    "import mysql.connector"
   ]
  },
  {
   "cell_type": "code",
   "execution_count": 2,
   "id": "fb7d2fbf-5b52-4ca9-9fd5-b4148f33a169",
   "metadata": {},
   "outputs": [],
   "source": [
    "data_base = mysql.connector.connect(\n",
    "    host = \"localhost\",\n",
    "    user = \"root\",\n",
    "    password = \"123456\",\n",
    "    database = \"music_store\"\n",
    ")\n",
    "mycursor = data_base.cursor()"
   ]
  },
  {
   "cell_type": "markdown",
   "id": "16b5eed5-9a90-4393-af8b-870c07cf894d",
   "metadata": {},
   "source": [
    "# Question Set 1 - Easy"
   ]
  },
  {
   "cell_type": "markdown",
   "id": "428b0cbf-aff1-41b1-bb12-692898e493c2",
   "metadata": {},
   "source": [
    "## 1. Who is the senior most employee based on job title?"
   ]
  },
  {
   "cell_type": "code",
   "execution_count": 3,
   "id": "095c9438-b515-4f35-a909-fafe77ef48e2",
   "metadata": {},
   "outputs": [],
   "source": [
    "mycursor.execute(\"SELECT CONCAT(first_name,' ',last_name) FROM music_store.employee ORDER BY levels DESC LIMIT 1\")"
   ]
  },
  {
   "cell_type": "code",
   "execution_count": 4,
   "id": "ac88ab0f-50dd-45d9-a34d-eb163bf69d7d",
   "metadata": {},
   "outputs": [
    {
     "name": "stdout",
     "output_type": "stream",
     "text": [
      "('Andrew Adams',)\n"
     ]
    }
   ],
   "source": [
    "for x in mycursor:\n",
    "    print(x)"
   ]
  },
  {
   "cell_type": "markdown",
   "id": "4444688b-8a78-4824-b10e-c78223d67c34",
   "metadata": {},
   "source": [
    "## 2. Which countries have the most Invoices?"
   ]
  },
  {
   "cell_type": "code",
   "execution_count": 5,
   "id": "ab6e371f-a9dc-4c8b-a3e8-ca390c7107b4",
   "metadata": {},
   "outputs": [],
   "source": [
    "mycursor.execute(\"\"\"\n",
    "                    SELECT billing_country, COUNT(*) AS total_count FROM music_store.invoice\n",
    "                    GROUP BY billing_country\n",
    "                    ORDER BY total_count DESC \n",
    "                    LIMIT 1\n",
    "                        \"\"\")"
   ]
  },
  {
   "cell_type": "code",
   "execution_count": 6,
   "id": "5e95b6e0-2cee-4bf8-a74b-16fce786b966",
   "metadata": {},
   "outputs": [
    {
     "name": "stdout",
     "output_type": "stream",
     "text": [
      "('USA', 131)\n"
     ]
    }
   ],
   "source": [
    "for x in mycursor:\n",
    "    print(x)"
   ]
  },
  {
   "cell_type": "markdown",
   "id": "43cc49dc-e189-4941-9608-87e5b50c3a3b",
   "metadata": {},
   "source": [
    "## 3. What are top 3 values of total invoice?"
   ]
  },
  {
   "cell_type": "code",
   "execution_count": 7,
   "id": "a71edf43-e6fc-43f2-8ac1-9cdd11d2b1d9",
   "metadata": {},
   "outputs": [],
   "source": [
    "mycursor.execute(\"\"\"\n",
    "                    SELECT * FROM music_store.invoice\n",
    "                    ORDER BY total DESC\n",
    "                    LIMIT 3\n",
    "                        \"\"\")"
   ]
  },
  {
   "cell_type": "code",
   "execution_count": 8,
   "id": "8aff6316-ac48-46a6-9609-65c34b62c6a2",
   "metadata": {},
   "outputs": [
    {
     "name": "stdout",
     "output_type": "stream",
     "text": [
      "(183, 42, '2018-02-09 00:00:00', '9, Place Louis Barthou', 'Bordeaux', 'None', 'France', '33000', 23.759999999999998)\n",
      "(92, 32, '2017-07-02 00:00:00', '696 Osborne Street', 'Winnipeg', 'MB', 'Canada', 'R3L 2B9', 19.8)\n",
      "(526, 5, '2020-06-08 00:00:00', 'Klanova 9/506', 'Prague', 'None', 'Czech Republic', '14700', 19.8)\n"
     ]
    }
   ],
   "source": [
    "for x in mycursor:\n",
    "    print(x)"
   ]
  },
  {
   "cell_type": "markdown",
   "id": "3c85a299-51ca-47dc-aba9-b988a3ed1b0b",
   "metadata": {},
   "source": [
    "## 4. Which city has the best customers? We would like to throw a promotional Music Festival in the city we made the most money. Write a query that returns one city that has the highest sum of invoice totals. Return both the city name & sum of all invoice totals"
   ]
  },
  {
   "cell_type": "code",
   "execution_count": 9,
   "id": "2d0128a5-9fbe-4224-8565-14b3026d445f",
   "metadata": {},
   "outputs": [],
   "source": [
    "mycursor.execute(\"\"\"\n",
    "                    SELECT billing_country, SUM(total) AS total_invoice FROM music_store.invoice\n",
    "                    GROUP BY billing_country\n",
    "                    ORDER BY total_invoice DESC \n",
    "                    LIMIT 1\n",
    "                        \"\"\")"
   ]
  },
  {
   "cell_type": "code",
   "execution_count": 10,
   "id": "2ca1566b-bb64-4b8b-8d73-d449f670f6ae",
   "metadata": {},
   "outputs": [
    {
     "name": "stdout",
     "output_type": "stream",
     "text": [
      "('USA', 1040.4899999999998)\n"
     ]
    }
   ],
   "source": [
    "for x in mycursor:\n",
    "    print(x)"
   ]
  },
  {
   "cell_type": "markdown",
   "id": "1c873e41-3526-4002-9ba9-7d49abe20762",
   "metadata": {},
   "source": [
    "## 5. Who is the best customer? The customer who has spent the most money will be declared the best customer. Write a query that returns the person who has spent the most money"
   ]
  },
  {
   "cell_type": "code",
   "execution_count": 11,
   "id": "13bf8467-972b-4621-af25-334f1879fc0a",
   "metadata": {},
   "outputs": [],
   "source": [
    "mycursor.execute(\"\"\"\n",
    "                    SELECT customer.customer_id,first_name , last_name, SUM(invoice.total) AS total_spending FROM music_store.customer\n",
    "                    JOIN music_store.invoice \n",
    "                    ON customer.customer_id = invoice.customer_id\n",
    "                    GROUP BY customer.customer_id, first_name , last_name\n",
    "                    ORDER BY total_spending DESC\n",
    "                    LIMIT 1\n",
    "                        \"\"\")"
   ]
  },
  {
   "cell_type": "code",
   "execution_count": 12,
   "id": "78f3e029-832d-40fa-9a69-a06953f97827",
   "metadata": {},
   "outputs": [
    {
     "name": "stdout",
     "output_type": "stream",
     "text": [
      "(5, 'FrantiÅ¡ek', 'WichterlovÃ¡', 144.54000000000002)\n"
     ]
    }
   ],
   "source": [
    "for x in mycursor:\n",
    "    print(x)"
   ]
  },
  {
   "cell_type": "markdown",
   "id": "f09574da-757f-40ad-93c6-e0d1516c86ca",
   "metadata": {},
   "source": [
    "# Question Set 2 - Moderate"
   ]
  },
  {
   "cell_type": "markdown",
   "id": "35cea82e-9c92-41e8-987d-be6f9a5eadea",
   "metadata": {},
   "source": [
    "## Q1: Write query to return the email, first name, last name, & Genre of all Rock Music listeners. Return your list ordered alphabetically by email starting with A."
   ]
  },
  {
   "cell_type": "code",
   "execution_count": 13,
   "id": "cf09a587-b29c-4975-a9e2-79c60d28b82a",
   "metadata": {},
   "outputs": [],
   "source": [
    "mycursor.execute(\"\"\"\n",
    "                    SELECT DISTINCT email,first_name,last_name FROM music_store.customer\n",
    "                    JOIN music_store.invoice ON customer.customer_id = invoice.customer_id\n",
    "                    JOIN music_store.invoice_line ON invoice.invoice_id = invoice_line.invoice_id\n",
    "                    WHERE track_id IN (\n",
    "                     SELECT track.track_id FROM music_store.track\n",
    "                     JOIN music_store.genre ON track.genre_id = genre.genre_id\n",
    "                     WHERE genre.name LIKE \"Rock\"\n",
    "                    )\n",
    "                    ORDER BY email;\n",
    "                        \"\"\")"
   ]
  },
  {
   "cell_type": "code",
   "execution_count": 14,
   "id": "616d2929-65ac-4a6c-9d7d-229c7457a14b",
   "metadata": {},
   "outputs": [
    {
     "name": "stdout",
     "output_type": "stream",
     "text": [
      "('aaronmitchell@yahoo.ca', 'Aaron', 'Mitchell')\n",
      "('alero@uol.com.br', 'Alexandre', 'Rocha')\n",
      "('astrid.gruber@apple.at', 'Astrid', 'Gruber')\n",
      "('bjorn.hansen@yahoo.no', 'BjÃ¸rn', 'Hansen')\n",
      "('camille.bernard@yahoo.fr', 'Camille', 'Bernard')\n",
      "('daan_peeters@apple.be', 'Daan', 'Peeters')\n",
      "('diego.gutierrez@yahoo.ar', 'Diego', 'GutiÃ©rrez')\n",
      "('dmiller@comcast.com', 'Dan', 'Miller')\n",
      "('dominiquelefebvre@gmail.com', 'Dominique', 'Lefebvre')\n",
      "('edfrancis@yachoo.ca', 'Edward', 'Francis')\n",
      "('eduardo@woodstock.com.br', 'Eduardo', 'Martins')\n",
      "('ellie.sullivan@shaw.ca', 'Ellie', 'Sullivan')\n",
      "('emma_jones@hotmail.com', 'Emma', 'Jones')\n",
      "('enrique_munoz@yahoo.es', 'Enrique', 'MuÃ±oz')\n",
      "('fernadaramos4@uol.com.br', 'Fernanda', 'Ramos')\n",
      "('fharris@google.com', 'Frank', 'Harris')\n",
      "('fralston@gmail.com', 'Frank', 'Ralston')\n",
      "('frantisekw@jetbrains.com', 'FrantiÅ¡ek', 'WichterlovÃ¡')\n",
      "('ftremblay@gmail.com', 'FranÃ§ois', 'Tremblay')\n",
      "('fzimmermann@yahoo.de', 'Fynn', 'Zimmermann')\n",
      "('hannah.schneider@yahoo.de', 'Hannah', 'Schneider')\n",
      "('hholy@gmail.com', 'Helena', 'HolÃ½')\n",
      "('hleacock@gmail.com', 'Heather', 'Leacock')\n",
      "('hughoreilly@apple.ie', 'Hugh', \"O'Reilly\")\n",
      "('isabelle_mercier@apple.fr', 'Isabelle', 'Mercier')\n",
      "('jacksmith@microsoft.com', 'Jack', 'Smith')\n",
      "('jenniferp@rogers.ca', 'Jennifer', 'Peterson')\n",
      "('jfernandes@yahoo.pt', 'JoÃ£o', 'Fernandes')\n",
      "('joakim.johansson@yahoo.se', 'Joakim', 'Johansson')\n",
      "('johavanderberg@yahoo.nl', 'Johannes', 'Van der Berg')\n",
      "('johngordon22@yahoo.com', 'John', 'Gordon')\n",
      "('jubarnett@gmail.com', 'Julia', 'Barnett')\n",
      "('kachase@hotmail.com', 'Kathy', 'Chase')\n",
      "('kara.nielsen@jubii.dk', 'Kara', 'Nielsen')\n",
      "('ladislav_kovacs@apple.hu', 'Ladislav', 'KovÃ¡cs')\n",
      "('leonekohler@surfeu.de', 'Leonie', 'KÃ¶hler')\n",
      "('lucas.mancini@yahoo.it', 'Lucas', 'Mancini')\n",
      "('luisg@embraer.com.br', 'LuÃ\\xads', 'GonÃ§alves')\n",
      "('luisrojas@yahoo.cl', 'Luis', 'Rojas')\n",
      "('manoj.pareek@rediff.com', 'Manoj', 'Pareek')\n",
      "('marc.dubois@hotmail.com', 'Marc', 'Dubois')\n",
      "('mark.taylor@yahoo.au', 'Mark', 'Taylor')\n",
      "('marthasilk@gmail.com', 'Martha', 'Silk')\n",
      "('masampaio@sapo.pt', 'Madalena', 'Sampaio')\n",
      "('mphilips12@shaw.ca', 'Mark', 'Philips')\n",
      "('nschroder@surfeu.de', 'Niklas', 'SchrÃ¶der')\n",
      "('patrick.gray@aol.com', 'Patrick', 'Gray')\n",
      "('phil.hughes@gmail.com', 'Phil', 'Hughes')\n",
      "('ricunningham@hotmail.com', 'Richard', 'Cunningham')\n",
      "('rishabh_mishra@yahoo.in', 'Rishabh', 'Mishra')\n",
      "('robbrown@shaw.ca', 'Robert', 'Brown')\n",
      "('roberto.almeida@riotur.gov.br', 'Roberto', 'Almeida')\n",
      "('stanisÅ‚aw.wÃ³jcik@wp.pl', 'StanisÅ‚aw', 'WÃ³jcik')\n",
      "('steve.murray@yahoo.uk', 'Steve', 'Murray')\n",
      "('terhi.hamalainen@apple.fi', 'Terhi', 'HÃ¤mÃ¤lÃ¤inen')\n",
      "('tgoyer@apple.com', 'Tim', 'Goyer')\n",
      "('vstevens@yahoo.com', 'Victor', 'Stevens')\n",
      "('wyatt.girard@yahoo.fr', 'Wyatt', 'Girard')\n"
     ]
    }
   ],
   "source": [
    "for x in mycursor:\n",
    "    print(x)"
   ]
  },
  {
   "cell_type": "markdown",
   "id": "1acecd59-79bf-4b38-8756-439c0404aeb3",
   "metadata": {},
   "source": [
    "## Q2: Let's invite the artists who have written the most rock music in our dataset. Write a query that returns the Artist name and total track count of the top 10 rock bands."
   ]
  },
  {
   "cell_type": "code",
   "execution_count": 15,
   "id": "8b4a887b-4a2c-46f1-af0a-862dc3ea4f8a",
   "metadata": {},
   "outputs": [],
   "source": [
    "mycursor.execute(\"\"\"\n",
    "                    SELECT artist.artist_id, artist.name,COUNT(artist.artist_id) AS number_of_songs FROM track\n",
    "                    JOIN album ON album.album_id = track.album_id\n",
    "                    JOIN artist ON artist.artist_id = album.artist_id\n",
    "                    JOIN genre ON genre.genre_id = track.genre_id\n",
    "                    WHERE genre.name LIKE 'Rock'\n",
    "                    GROUP BY artist.artist_id ,  artist.name\n",
    "                    ORDER BY number_of_songs DESC\n",
    "                    LIMIT 10;\n",
    "                        \"\"\")"
   ]
  },
  {
   "cell_type": "code",
   "execution_count": 16,
   "id": "6a0a1e89-cb26-4b8b-8812-6f615bd93727",
   "metadata": {},
   "outputs": [
    {
     "name": "stdout",
     "output_type": "stream",
     "text": [
      "(1, 'AC/DC', 18)\n",
      "(3, 'Aerosmith', 15)\n",
      "(8, 'Audioslave', 14)\n",
      "(22, 'Led Zeppelin', 14)\n",
      "(4, 'Alanis Morissette', 13)\n",
      "(5, 'Alice In Chains', 12)\n",
      "(23, 'Frank Zappa & Captain Beefheart', 9)\n",
      "(2, 'Accept', 4)\n"
     ]
    }
   ],
   "source": [
    "for x in mycursor:\n",
    "    print(x)"
   ]
  },
  {
   "cell_type": "markdown",
   "id": "eaa18638-72fa-41a6-9c29-cb218908f040",
   "metadata": {},
   "source": [
    "## Q3: Return all the track names that have a song length longer than the average song length. Return the Name and Milliseconds for each track. Order by the song length with the longest songs listed first."
   ]
  },
  {
   "cell_type": "code",
   "execution_count": 17,
   "id": "4784cd84-ac31-48af-9a5c-03aea2d0ce67",
   "metadata": {},
   "outputs": [],
   "source": [
    "mycursor.execute(\"\"\"\n",
    "                    SELECT name , milliseconds FROM music_store.track\n",
    "                    WHERE milliseconds > (\n",
    "                     SELECT AVG(milliseconds) FROM music_store.track\n",
    "                    )\n",
    "                    ORDER BY milliseconds DESC;\n",
    "                        \"\"\")"
   ]
  },
  {
   "cell_type": "code",
   "execution_count": 18,
   "id": "1c31cb4e-9aeb-4ac6-9c02-eaace2bff3bc",
   "metadata": {},
   "outputs": [
    {
     "name": "stdout",
     "output_type": "stream",
     "text": [
      "('How Many More Times', 711836)\n",
      "('Advance Romance', 677694)\n",
      "('Sleeping Village', 644571)\n",
      "('You Shook Me(2)', 619467)\n",
      "(\"Talkin' 'Bout Women Obviously\", 589531)\n",
      "('Stratus', 582086)\n",
      "('No More Tears', 555075)\n",
      "('The Alchemist', 509413)\n",
      "('Wheels Of Confusion / The Straightener', 494524)\n",
      "('Book Of Thel', 494393)\n",
      "('You Oughta Know (Alternate)', 491885)\n",
      "('Terra', 482429)\n",
      "(\"Snoopy's search-Red baron\", 456071)\n",
      "('Sozinho (Hitmakers Classic Mix)', 436636)\n",
      "('Master Of Puppets', 436453)\n",
      "('Stone Crazy', 433397)\n",
      "('Snowblind', 420022)\n",
      "('Computadores Fazem Arte', 404323)\n",
      "('Jerusalem', 402390)\n",
      "('Dazed and Confused', 401920)\n",
      "('The Winner Loses', 392254)\n",
      "('Love, Hate, Love', 387134)\n",
      "('ConstruÃ§Ã£o / Deus Lhe Pague', 383059)\n",
      "('Black Sabbath', 382066)\n",
      "(\"Livin' On The Edge\", 381231)\n",
      "(\"I Can't Quit You Baby(2)\", 380551)\n",
      "('Princess of the Dawn', 375418)\n",
      "('Harvester Of Sorrow', 374543)\n",
      "('Whole Lotta Love', 373394)\n",
      "(\"Momma's Gotta Die Tonight\", 371539)\n",
      "('Vai Passar', 369763)\n",
      "('Wherever I May Roam', 369345)\n",
      "('Overdose', 369319)\n",
      "('N.I.B.', 368770)\n",
      "('O Boto (BÃ´to)', 366837)\n",
      "('Let There Be Rock', 366654)\n",
      "('The Begining... At Last', 365662)\n",
      "('Carolina Hard-Core Ecstasy', 359680)\n",
      "('World Of Trouble', 359157)\n",
      "('Trupets Of Jericho', 359131)\n",
      "('Amazing', 356519)\n",
      "('Under The Sun/Every Day Comes and Goes', 350458)\n",
      "('Welcome Home (Sanitarium)', 350197)\n",
      "('There Goes The Neighborhood', 350171)\n",
      "('Sea Of Sorrow', 349831)\n",
      "('Confusion', 344163)\n",
      "('For Those About To Rock (We Salute You)', 343719)\n",
      "('Shadow on the Sun', 343457)\n",
      "('Balls to the Wall', 342562)\n",
      "('Machine Men', 341655)\n",
      "('I am the Highway', 334942)\n",
      "('Muffin Man', 332878)\n",
      "('Snowblind', 331676)\n",
      "('Go Down', 331180)\n",
      "(\"Janie's Got A Gun\", 330736)\n",
      "(\"Bring'em Back Alive\", 329534)\n",
      "(\"Sozinho (CaÃªdrum 'n' Bass)\", 328071)\n",
      "('Problem Child', 325041)\n",
      "('Whole Lotta Rosie', 323761)\n",
      "('Intro/ Low Down', 323683)\n",
      "('The Unforgiven', 322925)\n",
      "('Love In An Elevator', 321828)\n",
      "('Super Terrorizer', 319373)\n",
      "('The pleasant pheasant', 318066)\n",
      "('Body Count', 317936)\n",
      "('Geni E O Zepelim', 317570)\n",
      "('The Last Remaining Light', 317492)\n",
      "('Crazy', 316656)\n",
      "('You Shook Me', 315951)\n",
      "('Travelling Riverside Blues', 312032)\n",
      "('Noite Do Prazer', 311353)\n",
      "('What It Takes', 310622)\n",
      "('The Curse', 309786)\n",
      "(\"Cryin'\", 309263)\n",
      "('Creeping Death', 308035)\n",
      "('Angel', 307617)\n",
      "('AtrÃ¡s Da Verd-E-Rosa SÃ³ NÃ£o Vai Quem JÃ¡ Morreu', 307252)\n",
      "('Banditismo Por Uma Questa', 307095)\n",
      "('Extra', 304352)\n",
      "('Light My Way', 303595)\n",
      "('Stronger Than Death', 300747)\n",
      "('Voodoo', 300721)\n",
      "('Forgiven', 300355)\n",
      "('Getaway Car', 299598)\n",
      "('Linha Do Equador', 299337)\n",
      "('#1 Zero', 299102)\n",
      "('Onde VocÃª Mora?', 298396)\n",
      "('Walk On Water', 295680)\n",
      "('Mel', 294765)\n",
      "('Moon germs', 294060)\n",
      "('Like a Stone', 294034)\n",
      "('Wake Up', 293485)\n",
      "('Out Of Exile', 291291)\n",
      "('Na Frente Da TV', 289750)\n",
      "('Sad But True', 288208)\n",
      "('Rios Pontes & Overdrives', 286720)\n",
      "('Man In The Box', 286641)\n",
      "('Changes', 286275)\n",
      "('Supernaut', 285779)\n",
      "('The Tower', 285257)\n",
      "('A Sombra Da Maldade', 285231)\n",
      "('Garota De Ipanema', 285048)\n",
      "('Sunshine', 284969)\n",
      "('All I Really Want', 284891)\n",
      "('Blood In The Wall', 284368)\n",
      "('Maracatu AtÃ´mico', 284264)\n",
      "('Lost My Better Half', 284081)\n",
      "('Bye, Bye Brasil', 283402)\n",
      "('King In Crimson', 283167)\n",
      "('Gavioes 2001', 282723)\n",
      "('A Estrada', 282174)\n",
      "('Born To Booze', 282122)\n",
      "('Vida Boa', 281730)\n",
      "('Freedom Of Speech', 281234)\n",
      "('Mary Jane', 280607)\n",
      "('Be Yourself', 279484)\n",
      "('Gasoline', 279457)\n",
      "('Dandelion', 278125)\n",
      "('Show Me How to Live', 277890)\n",
      "(\"It Ain't Like That\", 277577)\n",
      "(\"Heaven's Dead\", 276688)\n",
      "('Like A Bird', 276532)\n",
      "('Vai-Vai 2001', 276349)\n",
      "('Flor Do Futuro', 275748)\n",
      "('Do what cha wanna', 274155)\n",
      "('X-9 2001', 273920)\n",
      "('Yesterday To Tomorrow', 273763)\n",
      "('Phoney Smile Fake Hellos', 273606)\n",
      "('Maracatu AtÃ´mico [Atomic Version]', 273084)\n",
      "('A Cor Do Sol', 273031)\n",
      "('200 Years Old', 272561)\n",
      "('Samidarish [instrumental]', 272431)\n",
      "('The Beginning...At Last', 271960)\n",
      "('Canta, Canta Mais', 271856)\n",
      "('Samba Makossa', 271856)\n",
      "('Spellbound', 270863)\n",
      "('Killing Floor', 269557)\n",
      "('Bad Boy Boogie', 267728)\n",
      "('Head Over Feet', 267493)\n",
      "('SÃ¡bado A Noite', 267363)\n",
      "('Felicidade Urgente', 266605)\n",
      "('A.N.D.R.O.T.A.Z.', 266266)\n",
      "('Gates Of Urizen', 265351)\n",
      "('Dude (Looks Like A Lady)', 264855)\n",
      "('The Wizard', 264829)\n",
      "('Rag Doll', 264698)\n",
      "('FÃ©rias', 264202)\n",
      "(\"I Can't Quit You Baby\", 263836)\n",
      "('Evil Walks', 263497)\n",
      "('Breaking The Rules', 263288)\n",
      "('Set It Off', 263262)\n",
      "('I Know Somethin (Bout You)', 261955)\n",
      "('Quadrant', 261851)\n",
      "('What is and Should Never Be', 260675)\n",
      "('Meu Caro Amigo', 260257)\n",
      "('ConciliaÃ§Ã£o', 257619)\n",
      "('Onde VocÃª Mora?', 256026)\n",
      "(\"Doesn't Remind Me\", 255869)\n",
      "('Your Time Has Come', 255529)\n",
      "('Johnny B. Goode', 254615)\n",
      "(\"Hell Ain't A Bad Place To Be\", 254380)\n",
      "('Amor Demais', 254040)\n",
      "('Cada Um Cada Um (A Namoradeira)', 253492)\n",
      "('Dindi (Dindi)', 253178)\n",
      "('Restless and Wild', 252051)\n",
      "('Ligia', 251977)\n",
      "('A Luz De Tieta', 251742)\n",
      "('Da Lama Ao Caos', 251559)\n"
     ]
    }
   ],
   "source": [
    "for x in mycursor:\n",
    "    print(x)"
   ]
  },
  {
   "cell_type": "markdown",
   "id": "5a88944c-b77a-43ec-a680-134e96bb4d0a",
   "metadata": {},
   "source": [
    "# Question Set 3 - Advance"
   ]
  },
  {
   "cell_type": "markdown",
   "id": "a97a0bf5-b10a-402c-8553-50ba61fff5dd",
   "metadata": {},
   "source": [
    "## Q1: Find how much amount spent by each customer on artists? Write a query to return customer name, artist name and total spent."
   ]
  },
  {
   "cell_type": "code",
   "execution_count": 19,
   "id": "b236e04b-69d9-4940-9017-20bcbb65b90b",
   "metadata": {},
   "outputs": [],
   "source": [
    "mycursor.execute(\"\"\"\n",
    "                    SELECT first_name , last_name , artist.name \"Artist name\", SUM(invoice_line.unit_price*invoice_line.quantity) \"total_sales\" FROM music_store.track\n",
    "                    JOIN music_store.album ON track.album_id = album.album_id\n",
    "                    JOIN music_store.artist ON artist.artist_id = album.artist_id\n",
    "                    JOIN music_store.invoice_line ON invoice_line.track_id = track.track_id\n",
    "                    JOIN music_store.invoice ON invoice.invoice_id = invoice_line.invoice_id\n",
    "                    JOIN music_store.customer ON customer.customer_id = invoice.customer_id\n",
    "                    GROUP BY first_name , last_name , artist.name\n",
    "                    ORDER BY first_name\n",
    "                        \"\"\")"
   ]
  },
  {
   "cell_type": "code",
   "execution_count": 20,
   "id": "fe99d9a8-0030-4566-8f10-9cf13e985656",
   "metadata": {},
   "outputs": [
    {
     "name": "stdout",
     "output_type": "stream",
     "text": [
      "('Aaron', 'Mitchell', 'AC/DC', 0.99)\n",
      "('Aaron', 'Mitchell', 'Aerosmith', 0.99)\n",
      "('Aaron', 'Mitchell', 'Alanis Morissette', 0.99)\n",
      "('Aaron', 'Mitchell', 'Audioslave', 0.99)\n",
      "('Aaron', 'Mitchell', 'Black Sabbath', 0.99)\n",
      "('Alexandre', 'Rocha', 'Aerosmith', 0.99)\n",
      "('Alexandre', 'Rocha', 'Black Sabbath', 0.99)\n",
      "('Alexandre', 'Rocha', 'Caetano Veloso', 0.99)\n",
      "('Alexandre', 'Rocha', 'Chico Buarque', 0.99)\n",
      "('Astrid', 'Gruber', 'AC/DC', 0.99)\n",
      "('Astrid', 'Gruber', 'Aerosmith', 1.98)\n",
      "('Astrid', 'Gruber', 'Alice In Chains', 1.98)\n",
      "('Astrid', 'Gruber', 'Black Label Society', 2.9699999999999998)\n",
      "('Astrid', 'Gruber', 'Led Zeppelin', 0.99)\n",
      "('BjÃ¸rn', 'Hansen', 'Alice In Chains', 0.99)\n",
      "('BjÃ¸rn', 'Hansen', 'Black Sabbath', 1.98)\n",
      "('BjÃ¸rn', 'Hansen', 'Body Count', 0.99)\n",
      "('Camille', 'Bernard', 'AC/DC', 0.99)\n",
      "('Camille', 'Bernard', 'Aerosmith', 0.99)\n",
      "('Camille', 'Bernard', 'Alanis Morissette', 0.99)\n",
      "('Camille', 'Bernard', 'Apocalyptica', 0.99)\n",
      "('Camille', 'Bernard', 'Black Label Society', 0.99)\n",
      "('Camille', 'Bernard', 'Bruce Dickinson', 0.99)\n",
      "('Daan', 'Peeters', 'AC/DC', 0.99)\n",
      "('Daan', 'Peeters', 'Aerosmith', 1.98)\n",
      "('Daan', 'Peeters', 'Alanis Morissette', 0.99)\n",
      "('Daan', 'Peeters', 'Alice In Chains', 0.99)\n",
      "('Daan', 'Peeters', 'Apocalyptica', 0.99)\n",
      "('Daan', 'Peeters', 'Black Label Society', 0.99)\n",
      "('Daan', 'Peeters', 'Black Sabbath', 0.99)\n",
      "('Dan', 'Miller', 'AC/DC', 1.98)\n",
      "('Dan', 'Miller', 'Aerosmith', 0.99)\n",
      "('Dan', 'Miller', 'Alice In Chains', 2.9699999999999998)\n",
      "('Dan', 'Miller', 'Apocalyptica', 1.98)\n",
      "('Dan', 'Miller', 'Black Sabbath', 0.99)\n",
      "('Diego', 'GutiÃ©rrez', 'AC/DC', 0.99)\n",
      "('Dominique', 'Lefebvre', 'Alanis Morissette', 0.99)\n",
      "('Dominique', 'Lefebvre', 'Apocalyptica', 0.99)\n",
      "('Dominique', 'Lefebvre', 'Black Label Society', 0.99)\n",
      "('Dominique', 'Lefebvre', 'Black Sabbath', 2.9699999999999998)\n",
      "('Dominique', 'Lefebvre', 'Chico Buarque', 0.99)\n",
      "('Eduardo', 'Martins', 'AC/DC', 0.99)\n",
      "('Eduardo', 'Martins', 'Aerosmith', 0.99)\n",
      "('Eduardo', 'Martins', 'Apocalyptica', 0.99)\n",
      "('Eduardo', 'Martins', 'Audioslave', 0.99)\n",
      "('Eduardo', 'Martins', 'Black Label Society', 1.98)\n",
      "('Eduardo', 'Martins', 'Black Sabbath', 0.99)\n",
      "('Edward', 'Francis', 'AC/DC', 1.98)\n",
      "('Edward', 'Francis', 'Accept', 0.99)\n",
      "('Edward', 'Francis', 'Aerosmith', 1.98)\n",
      "('Edward', 'Francis', 'Alanis Morissette', 12.870000000000001)\n",
      "('Edward', 'Francis', 'Alice In Chains', 0.99)\n",
      "('Edward', 'Francis', 'AntÃ´nio Carlos Jobim', 0.99)\n",
      "('Edward', 'Francis', 'Apocalyptica', 1.98)\n",
      "('Edward', 'Francis', 'Audioslave', 0.99)\n",
      "('Edward', 'Francis', 'Black Sabbath', 1.98)\n",
      "('Edward', 'Francis', 'Buddy Guy', 0.99)\n",
      "('Ellie', 'Sullivan', 'Aerosmith', 0.99)\n",
      "('Ellie', 'Sullivan', 'Black Sabbath', 1.98)\n",
      "('Ellie', 'Sullivan', 'Caetano Veloso', 0.99)\n",
      "('Ellie', 'Sullivan', 'Led Zeppelin', 0.99)\n",
      "('Emma', 'Jones', 'Alanis Morissette', 12.870000000000001)\n",
      "('Emma', 'Jones', 'Alice In Chains', 0.99)\n",
      "('Emma', 'Jones', 'Audioslave', 0.99)\n",
      "('Emma', 'Jones', 'Black Label Society', 0.99)\n",
      "('Emma', 'Jones', 'Black Sabbath', 0.99)\n",
      "('Enrique', 'MuÃ±oz', 'Aerosmith', 0.99)\n",
      "('Enrique', 'MuÃ±oz', 'Alice In Chains', 0.99)\n",
      "('Enrique', 'MuÃ±oz', 'Apocalyptica', 1.98)\n",
      "('Enrique', 'MuÃ±oz', 'Black Sabbath', 1.98)\n",
      "('Enrique', 'MuÃ±oz', 'Chico Buarque', 0.99)\n",
      "('Enrique', 'MuÃ±oz', 'Cidade Negra', 0.99)\n",
      "('Fernanda', 'Ramos', 'AC/DC', 0.99)\n",
      "('Fernanda', 'Ramos', 'Alanis Morissette', 2.9699999999999998)\n",
      "('Fernanda', 'Ramos', 'AntÃ´nio Carlos Jobim', 13.860000000000001)\n",
      "('Fernanda', 'Ramos', 'Black Label Society', 0.99)\n",
      "('FranÃ§ois', 'Tremblay', 'Aerosmith', 1.98)\n",
      "('FranÃ§ois', 'Tremblay', 'Alanis Morissette', 0.99)\n",
      "('FranÃ§ois', 'Tremblay', 'Alice In Chains', 0.99)\n",
      "('FranÃ§ois', 'Tremblay', 'Apocalyptica', 7.920000000000001)\n",
      "('FranÃ§ois', 'Tremblay', 'Black Sabbath', 3.96)\n",
      "('FranÃ§ois', 'Tremblay', 'Buddy Guy', 0.99)\n",
      "('FranÃ§ois', 'Tremblay', 'Chico Buarque', 0.99)\n",
      "('FranÃ§ois', 'Tremblay', 'Led Zeppelin', 0.99)\n",
      "('Frank', 'Harris', 'AC/DC', 2.9699999999999998)\n",
      "('Frank', 'Harris', 'Black Sabbath', 0.99)\n",
      "('Frank', 'Ralston', 'AC/DC', 7.920000000000001)\n",
      "('Frank', 'Ralston', 'Accept', 0.99)\n",
      "('Frank', 'Ralston', 'Alice In Chains', 0.99)\n",
      "('Frank', 'Ralston', 'Apocalyptica', 0.99)\n",
      "('Frank', 'Ralston', 'Black Sabbath', 6.930000000000001)\n",
      "('FrantiÅ¡ek', 'WichterlovÃ¡', 'AC/DC', 1.98)\n",
      "('FrantiÅ¡ek', 'WichterlovÃ¡', 'Aerosmith', 0.99)\n",
      "('FrantiÅ¡ek', 'WichterlovÃ¡', 'Black Label Society', 0.99)\n",
      "('FrantiÅ¡ek', 'WichterlovÃ¡', 'Black Sabbath', 0.99)\n",
      "('FrantiÅ¡ek', 'WichterlovÃ¡', 'Caetano Veloso', 0.99)\n",
      "('FrantiÅ¡ek', 'WichterlovÃ¡', 'Led Zeppelin', 0.99)\n",
      "('Fynn', 'Zimmermann', 'Alanis Morissette', 0.99)\n",
      "('Fynn', 'Zimmermann', 'Audioslave', 0.99)\n",
      "('Hannah', 'Schneider', 'Alanis Morissette', 1.98)\n",
      "('Hannah', 'Schneider', 'Alice In Chains', 1.98)\n",
      "('Hannah', 'Schneider', 'Audioslave', 1.98)\n",
      "('Hannah', 'Schneider', 'Billy Cobham', 0.99)\n",
      "('Hannah', 'Schneider', 'Black Sabbath', 2.9699999999999998)\n",
      "('Heather', 'Leacock', 'Aerosmith', 0.99)\n",
      "('Heather', 'Leacock', 'Led Zeppelin', 0.99)\n",
      "('Helena', 'HolÃ½', 'AC/DC', 2.9699999999999998)\n",
      "('Helena', 'HolÃ½', 'Accept', 1.98)\n",
      "('Helena', 'HolÃ½', 'Aerosmith', 1.98)\n",
      "('Helena', 'HolÃ½', 'Alanis Morissette', 0.99)\n",
      "('Helena', 'HolÃ½', 'Alice In Chains', 0.99)\n",
      "('Helena', 'HolÃ½', 'AntÃ´nio Carlos Jobim', 0.99)\n",
      "('Helena', 'HolÃ½', 'Bruce Dickinson', 0.99)\n",
      "('Helena', 'HolÃ½', 'Chico Science & NaÃ§Ã£o Zumbi', 0.99)\n",
      "('Helena', 'HolÃ½', 'Led Zeppelin', 0.99)\n",
      "('Hugh', \"O'Reilly\", 'AC/DC', 0.99)\n",
      "('Hugh', \"O'Reilly\", 'Aerosmith', 0.99)\n",
      "('Hugh', \"O'Reilly\", 'Black Sabbath', 0.99)\n",
      "('Isabelle', 'Mercier', 'AC/DC', 0.99)\n",
      "('Isabelle', 'Mercier', 'Aerosmith', 2.9699999999999998)\n",
      "('Isabelle', 'Mercier', 'Alanis Morissette', 1.98)\n",
      "('Isabelle', 'Mercier', 'Alice In Chains', 1.98)\n",
      "('Isabelle', 'Mercier', 'Audioslave', 0.99)\n",
      "('Isabelle', 'Mercier', 'Black Sabbath', 0.99)\n",
      "('Isabelle', 'Mercier', 'Buddy Guy', 0.99)\n",
      "('Isabelle', 'Mercier', 'Caetano Veloso', 0.99)\n",
      "('Isabelle', 'Mercier', 'Chico Buarque', 0.99)\n",
      "('Isabelle', 'Mercier', 'Led Zeppelin', 0.99)\n",
      "('Jack', 'Smith', 'AC/DC', 0.99)\n",
      "('Jack', 'Smith', 'Accept', 0.99)\n",
      "('Jack', 'Smith', 'Alice In Chains', 1.98)\n",
      "('Jack', 'Smith', 'Apocalyptica', 1.98)\n",
      "('Jack', 'Smith', 'Audioslave', 1.98)\n",
      "('Jennifer', 'Peterson', 'AC/DC', 0.99)\n",
      "('Jennifer', 'Peterson', 'Aerosmith', 14.850000000000001)\n",
      "('Jennifer', 'Peterson', 'Alanis Morissette', 0.99)\n",
      "('Jennifer', 'Peterson', 'Alice In Chains', 1.98)\n",
      "('Jennifer', 'Peterson', 'Apocalyptica', 0.99)\n",
      "('Jennifer', 'Peterson', 'Black Label Society', 0.99)\n",
      "('JoÃ£o', 'Fernandes', 'AC/DC', 1.98)\n",
      "('JoÃ£o', 'Fernandes', 'Accept', 0.99)\n",
      "('JoÃ£o', 'Fernandes', 'Alanis Morissette', 12.870000000000001)\n",
      "('JoÃ£o', 'Fernandes', 'Apocalyptica', 0.99)\n",
      "('JoÃ£o', 'Fernandes', 'Audioslave', 0.99)\n",
      "('Joakim', 'Johansson', 'Aerosmith', 0.99)\n",
      "('Joakim', 'Johansson', 'Alanis Morissette', 2.9699999999999998)\n",
      "('Joakim', 'Johansson', 'Audioslave', 0.99)\n",
      "('Joakim', 'Johansson', 'Black Sabbath', 0.99)\n",
      "('Joakim', 'Johansson', 'Buddy Guy', 0.99)\n",
      "('Johannes', 'Van der Berg', 'AC/DC', 0.99)\n",
      "('Johannes', 'Van der Berg', 'Aerosmith', 0.99)\n",
      "('Johannes', 'Van der Berg', 'Alanis Morissette', 0.99)\n",
      "('Johannes', 'Van der Berg', 'Alice In Chains', 1.98)\n",
      "('Johannes', 'Van der Berg', 'Audioslave', 0.99)\n",
      "('Johannes', 'Van der Berg', 'Buddy Guy', 1.98)\n",
      "('John', 'Gordon', 'Alanis Morissette', 0.99)\n",
      "('John', 'Gordon', 'Apocalyptica', 0.99)\n",
      "('John', 'Gordon', 'Black Sabbath', 0.99)\n",
      "('John', 'Gordon', 'Buddy Guy', 0.99)\n",
      "('Julia', 'Barnett', 'Aerosmith', 0.99)\n",
      "('Julia', 'Barnett', 'Alanis Morissette', 1.98)\n",
      "('Julia', 'Barnett', 'Alice In Chains', 0.99)\n",
      "('Julia', 'Barnett', 'Billy Cobham', 0.99)\n",
      "('Julia', 'Barnett', 'Black Sabbath', 2.9699999999999998)\n",
      "('Julia', 'Barnett', 'Body Count', 0.99)\n",
      "('Kara', 'Nielsen', 'AC/DC', 1.98)\n",
      "('Kara', 'Nielsen', 'Aerosmith', 0.99)\n",
      "('Kara', 'Nielsen', 'Alanis Morissette', 0.99)\n",
      "('Kara', 'Nielsen', 'Audioslave', 1.98)\n",
      "('Kathy', 'Chase', 'AC/DC', 10.89)\n",
      "('Kathy', 'Chase', 'Aerosmith', 0.99)\n",
      "('Kathy', 'Chase', 'Alanis Morissette', 0.99)\n",
      "('Kathy', 'Chase', 'Black Sabbath', 7.920000000000001)\n",
      "('Ladislav', 'KovÃ¡cs', 'AC/DC', 0.99)\n",
      "('Ladislav', 'KovÃ¡cs', 'Aerosmith', 0.99)\n",
      "('Ladislav', 'KovÃ¡cs', 'Alice In Chains', 0.99)\n",
      "('Ladislav', 'KovÃ¡cs', 'Audioslave', 1.98)\n",
      "('Ladislav', 'KovÃ¡cs', 'Black Sabbath', 0.99)\n",
      "('Leonie', 'KÃ¶hler', 'AC/DC', 0.99)\n",
      "('Leonie', 'KÃ¶hler', 'Alice In Chains', 0.99)\n",
      "('Leonie', 'KÃ¶hler', 'Apocalyptica', 0.99)\n",
      "('Leonie', 'KÃ¶hler', 'Audioslave', 13.860000000000001)\n",
      "('Leonie', 'KÃ¶hler', 'Black Sabbath', 0.99)\n",
      "('Leonie', 'KÃ¶hler', 'Buddy Guy', 0.99)\n",
      "('Leonie', 'KÃ¶hler', 'Chico Buarque', 0.99)\n",
      "('LuÃ\\xads', 'GonÃ§alves', 'AC/DC', 7.920000000000001)\n",
      "('LuÃ\\xads', 'GonÃ§alves', 'Aerosmith', 2.9699999999999998)\n",
      "('LuÃ\\xads', 'GonÃ§alves', 'Alanis Morissette', 1.98)\n",
      "('LuÃ\\xads', 'GonÃ§alves', 'Apocalyptica', 0.99)\n",
      "('LuÃ\\xads', 'GonÃ§alves', 'Audioslave', 1.98)\n",
      "('LuÃ\\xads', 'GonÃ§alves', 'Black Sabbath', 0.99)\n",
      "('LuÃ\\xads', 'GonÃ§alves', 'Caetano Veloso', 0.99)\n",
      "('Lucas', 'Mancini', 'AC/DC', 0.99)\n",
      "('Lucas', 'Mancini', 'Aerosmith', 0.99)\n",
      "('Lucas', 'Mancini', 'Alice In Chains', 0.99)\n",
      "('Luis', 'Rojas', 'AC/DC', 1.98)\n",
      "('Luis', 'Rojas', 'Aerosmith', 2.9699999999999998)\n",
      "('Luis', 'Rojas', 'Alice In Chains', 0.99)\n",
      "('Luis', 'Rojas', 'Apocalyptica', 1.98)\n",
      "('Luis', 'Rojas', 'Black Sabbath', 0.99)\n",
      "('Luis', 'Rojas', 'Bruce Dickinson', 0.99)\n",
      "('Luis', 'Rojas', 'Caetano Veloso', 0.99)\n",
      "('Luis', 'Rojas', 'Led Zeppelin', 0.99)\n",
      "('Madalena', 'Sampaio', 'AC/DC', 2.9699999999999998)\n",
      "('Madalena', 'Sampaio', 'Accept', 0.99)\n",
      "('Madalena', 'Sampaio', 'Aerosmith', 0.99)\n",
      "('Madalena', 'Sampaio', 'Alice In Chains', 0.99)\n",
      "('Madalena', 'Sampaio', 'Audioslave', 0.99)\n",
      "('Madalena', 'Sampaio', 'Black Sabbath', 1.98)\n",
      "('Manoj', 'Pareek', 'AC/DC', 0.99)\n",
      "('Manoj', 'Pareek', 'Alanis Morissette', 0.99)\n",
      "('Manoj', 'Pareek', 'Alice In Chains', 2.9699999999999998)\n",
      "('Manoj', 'Pareek', 'Apocalyptica', 0.99)\n",
      "('Manoj', 'Pareek', 'Audioslave', 0.99)\n",
      "('Manoj', 'Pareek', 'Black Label Society', 0.99)\n",
      "('Manoj', 'Pareek', 'Black Sabbath', 0.99)\n",
      "('Marc', 'Dubois', 'Aerosmith', 0.99)\n",
      "('Marc', 'Dubois', 'Alice In Chains', 0.99)\n",
      "('Marc', 'Dubois', 'AntÃ´nio Carlos Jobim', 0.99)\n",
      "('Marc', 'Dubois', 'Audioslave', 0.99)\n",
      "('Mark', 'Philips', 'AC/DC', 0.99)\n",
      "('Mark', 'Philips', 'Alice In Chains', 0.99)\n",
      "('Mark', 'Philips', 'Apocalyptica', 0.99)\n",
      "('Mark', 'Taylor', 'AC/DC', 0.99)\n",
      "('Mark', 'Taylor', 'Aerosmith', 14.850000000000001)\n",
      "('Mark', 'Taylor', 'Alice In Chains', 0.99)\n",
      "('Mark', 'Taylor', 'Apocalyptica', 0.99)\n",
      "('Mark', 'Taylor', 'Audioslave', 0.99)\n",
      "('Martha', 'Silk', 'AC/DC', 3.96)\n",
      "('Martha', 'Silk', 'Aerosmith', 0.99)\n",
      "('Michelle', 'Brooks', 'Apocalyptica', 0.99)\n",
      "('Michelle', 'Brooks', 'Bruce Dickinson', 0.99)\n",
      "('Michelle', 'Brooks', 'Buddy Guy', 0.99)\n",
      "('Michelle', 'Brooks', 'Caetano Veloso', 0.99)\n",
      "('Niklas', 'SchrÃ¶der', 'AC/DC', 2.9699999999999998)\n",
      "('Niklas', 'SchrÃ¶der', 'Aerosmith', 1.98)\n",
      "('Niklas', 'SchrÃ¶der', 'Alanis Morissette', 0.99)\n",
      "('Niklas', 'SchrÃ¶der', 'Black Sabbath', 0.99)\n",
      "('Niklas', 'SchrÃ¶der', 'Buddy Guy', 1.98)\n",
      "('Niklas', 'SchrÃ¶der', 'Caetano Veloso', 0.99)\n",
      "('Patrick', 'Gray', 'AC/DC', 1.98)\n",
      "('Patrick', 'Gray', 'Alanis Morissette', 0.99)\n",
      "('Patrick', 'Gray', 'Alice In Chains', 0.99)\n",
      "('Patrick', 'Gray', 'Apocalyptica', 0.99)\n",
      "('Phil', 'Hughes', 'AC/DC', 10.89)\n",
      "('Phil', 'Hughes', 'Alanis Morissette', 0.99)\n",
      "('Phil', 'Hughes', 'Apocalyptica', 0.99)\n",
      "('Phil', 'Hughes', 'Billy Cobham', 0.99)\n",
      "('Phil', 'Hughes', 'Black Sabbath', 1.98)\n",
      "('Phil', 'Hughes', 'Chico Buarque', 0.99)\n",
      "('Richard', 'Cunningham', 'AC/DC', 0.99)\n",
      "('Richard', 'Cunningham', 'Aerosmith', 0.99)\n",
      "('Richard', 'Cunningham', 'Alanis Morissette', 1.98)\n",
      "('Richard', 'Cunningham', 'Buddy Guy', 0.99)\n",
      "('Richard', 'Cunningham', 'Caetano Veloso', 0.99)\n",
      "('Rishabh', 'Mishra', 'AC/DC', 0.99)\n",
      "('Rishabh', 'Mishra', 'Aerosmith', 1.98)\n",
      "('Rishabh', 'Mishra', 'Alanis Morissette', 1.98)\n",
      "('Rishabh', 'Mishra', 'Alice In Chains', 0.99)\n",
      "('Rishabh', 'Mishra', 'Apocalyptica', 0.99)\n",
      "('Rishabh', 'Mishra', 'Audioslave', 0.99)\n",
      "('Rishabh', 'Mishra', 'Black Sabbath', 0.99)\n",
      "('Rishabh', 'Mishra', 'Caetano Veloso', 0.99)\n",
      "('Rishabh', 'Mishra', 'Led Zeppelin', 0.99)\n",
      "('Robert', 'Brown', 'AC/DC', 0.99)\n",
      "('Roberto', 'Almeida', 'Aerosmith', 1.98)\n",
      "('Roberto', 'Almeida', 'Alice In Chains', 0.99)\n",
      "('Roberto', 'Almeida', 'Apocalyptica', 0.99)\n",
      "('Roberto', 'Almeida', 'Audioslave', 0.99)\n",
      "('Roberto', 'Almeida', 'Black Label Society', 0.99)\n",
      "('Roberto', 'Almeida', 'Black Sabbath', 1.98)\n",
      "('Roberto', 'Almeida', 'Chico Science & NaÃ§Ã£o Zumbi', 0.99)\n",
      "('StanisÅ‚aw', 'WÃ³jcik', 'AC/DC', 9.9)\n",
      "('StanisÅ‚aw', 'WÃ³jcik', 'Alanis Morissette', 0.99)\n",
      "('StanisÅ‚aw', 'WÃ³jcik', 'Alice In Chains', 1.98)\n",
      "('StanisÅ‚aw', 'WÃ³jcik', 'Audioslave', 0.99)\n",
      "('StanisÅ‚aw', 'WÃ³jcik', 'Black Sabbath', 1.98)\n",
      "('StanisÅ‚aw', 'WÃ³jcik', 'Buddy Guy', 10.89)\n",
      "('Steve', 'Murray', 'AC/DC', 17.82)\n",
      "('Steve', 'Murray', 'Accept', 0.99)\n",
      "('Steve', 'Murray', 'Aerosmith', 0.99)\n",
      "('Steve', 'Murray', 'Alice In Chains', 0.99)\n",
      "('Steve', 'Murray', 'Cidade Negra', 0.99)\n",
      "('Terhi', 'HÃ¤mÃ¤lÃ¤inen', 'AC/DC', 2.9699999999999998)\n",
      "('Terhi', 'HÃ¤mÃ¤lÃ¤inen', 'Accept', 0.99)\n",
      "('Terhi', 'HÃ¤mÃ¤lÃ¤inen', 'Alice In Chains', 1.98)\n",
      "('Tim', 'Goyer', 'AC/DC', 0.99)\n",
      "('Tim', 'Goyer', 'Aerosmith', 0.99)\n",
      "('Tim', 'Goyer', 'Alice In Chains', 0.99)\n",
      "('Tim', 'Goyer', 'Audioslave', 0.99)\n",
      "('Tim', 'Goyer', 'Billy Cobham', 0.99)\n",
      "('Tim', 'Goyer', 'Black Sabbath', 1.98)\n",
      "('Victor', 'Stevens', 'Aerosmith', 0.99)\n",
      "('Victor', 'Stevens', 'Alanis Morissette', 0.99)\n",
      "('Victor', 'Stevens', 'Alice In Chains', 11.88)\n",
      "('Victor', 'Stevens', 'Black Label Society', 0.99)\n",
      "('Victor', 'Stevens', 'Black Sabbath', 0.99)\n",
      "('Wyatt', 'Girard', 'AC/DC', 2.9699999999999998)\n",
      "('Wyatt', 'Girard', 'Aerosmith', 0.99)\n",
      "('Wyatt', 'Girard', 'Alice In Chains', 2.9699999999999998)\n",
      "('Wyatt', 'Girard', 'AntÃ´nio Carlos Jobim', 0.99)\n",
      "('Wyatt', 'Girard', 'Apocalyptica', 0.99)\n",
      "('Wyatt', 'Girard', 'Audioslave', 1.98)\n",
      "('Wyatt', 'Girard', 'Black Sabbath', 1.98)\n",
      "('Wyatt', 'Girard', 'Led Zeppelin', 0.99)\n"
     ]
    }
   ],
   "source": [
    "for x in mycursor:\n",
    "    print(x)"
   ]
  },
  {
   "cell_type": "markdown",
   "id": "0e1900a6-1f09-4fc1-8c38-98cad1386aa4",
   "metadata": {},
   "source": [
    "## Q2: We want to find out the most popular music Genre for each country. We determine the most popular genre as the genre with the highest amount of purchases. Write a query that returns each country along with the top Genre. For countries where the maximum number of purchases is shared return all Genres. "
   ]
  },
  {
   "cell_type": "code",
   "execution_count": 21,
   "id": "5e346b67-a7a4-46e0-a35f-17408f370a6f",
   "metadata": {},
   "outputs": [],
   "source": [
    "mycursor.execute(\"\"\"\n",
    "                    WITH popular_genre AS (\n",
    "                    SELECT COUNT(invoice_line.quantity) AS purchases, billing_country, genre.name, \n",
    "                    ROW_NUMBER() OVER(PARTITION BY billing_country ORDER BY COUNT(quantity) DESC) \"Rank_no\" FROM music_store.track\n",
    "                    JOIN music_store.genre ON genre.genre_id = track.genre_id\n",
    "                    JOIN music_store.invoice_line ON track.track_id = invoice_line.track_id\n",
    "                    JOIN music_store.invoice ON invoice_line.invoice_id = invoice.invoice_id \n",
    "                    GROUP BY billing_country, genre.name \n",
    "                    )\n",
    "                    SELECT billing_country , name \"popular_genre\" FROM popular_genre\n",
    "                    WHERE popular_genre.Rank_no <= 1\n",
    "                    ORDER BY billing_country\n",
    "                        \"\"\")"
   ]
  },
  {
   "cell_type": "code",
   "execution_count": 22,
   "id": "eadbab9e-17d2-4120-937b-e18baf545e0e",
   "metadata": {},
   "outputs": [
    {
     "name": "stdout",
     "output_type": "stream",
     "text": [
      "('Argentina', 'Rock')\n",
      "('Australia', 'Rock')\n",
      "('Austria', 'Rock')\n",
      "('Belgium', 'Rock')\n",
      "('Brazil', 'Rock')\n",
      "('Canada', 'Rock')\n",
      "('Chile', 'Rock')\n",
      "('Czech Republic', 'Rock')\n",
      "('Denmark', 'Rock')\n",
      "('Finland', 'Rock')\n",
      "('France', 'Rock')\n",
      "('Germany', 'Rock')\n",
      "('Hungary', 'Rock')\n",
      "('India', 'Rock')\n",
      "('Ireland', 'Rock')\n",
      "('Italy', 'Rock')\n",
      "('Netherlands', 'Rock')\n",
      "('Norway', 'Metal')\n",
      "('Poland', 'Rock')\n",
      "('Portugal', 'Rock')\n",
      "('Spain', 'Metal')\n",
      "('Sweden', 'Rock')\n",
      "('United Kingdom', 'Rock')\n",
      "('USA', 'Rock')\n"
     ]
    }
   ],
   "source": [
    "for x in mycursor:\n",
    "    print(x)"
   ]
  },
  {
   "cell_type": "markdown",
   "id": "4e8a8f67-efa6-48cf-9ea6-4e479056309f",
   "metadata": {},
   "source": [
    "## Q3: Write a query that determines the customer that has spent the most on music for each country. Write a query that returns the country along with the top customer and how much they spent. For countries where the top amount spent is shared, provide all customers who spent this amount."
   ]
  },
  {
   "cell_type": "code",
   "execution_count": 23,
   "id": "d55129ae-d32a-49ea-a9c6-dcd0493e1efd",
   "metadata": {},
   "outputs": [],
   "source": [
    "mycursor.execute(\"\"\"\n",
    "                    WITH highest_spenders as (SELECT billing_country, first_name , last_name, SUM(invoice_line.unit_price * invoice_line.quantity) \"Most_spent\",\n",
    "                    ROW_NUMBER() OVER(PARTITION BY billing_country ORDER BY SUM(unit_price * quantity) DESC) \"Rank_no\" FROM music_store.track\n",
    "                    JOIN music_store.invoice_line ON track.track_id = invoice_line.track_id\n",
    "                    JOIN music_store.invoice ON invoice_line.invoice_id = invoice.invoice_id \n",
    "                    JOIN music_store.customer ON customer.customer_id = invoice.customer_id\n",
    "                    GROUP BY billing_country, first_name , last_name)\n",
    "                    SELECT billing_country, first_name , last_name, Most_spent FROM highest_spenders\n",
    "                    WHERE Rank_no <= 1\n",
    "                    ORDER BY billing_country\n",
    "                        \"\"\")"
   ]
  },
  {
   "cell_type": "code",
   "execution_count": 24,
   "id": "a06adb22-2035-44e4-848d-45cf3e73e88b",
   "metadata": {},
   "outputs": [
    {
     "name": "stdout",
     "output_type": "stream",
     "text": [
      "('Argentina', 'Diego', 'GutiÃ©rrez', 0.99)\n",
      "('Australia', 'Mark', 'Taylor', 18.81)\n",
      "('Austria', 'Astrid', 'Gruber', 8.91)\n",
      "('Belgium', 'Daan', 'Peeters', 7.920000000000001)\n",
      "('Brazil', 'Fernanda', 'Ramos', 18.81)\n",
      "('Canada', 'Edward', 'Francis', 25.739999999999988)\n",
      "('Chile', 'Luis', 'Rojas', 11.88)\n",
      "('Czech Republic', 'Helena', 'HolÃ½', 12.870000000000001)\n",
      "('Denmark', 'Kara', 'Nielsen', 5.94)\n",
      "('Finland', 'Terhi', 'HÃ¤mÃ¤lÃ¤inen', 5.94)\n",
      "('France', 'Wyatt', 'Girard', 13.860000000000001)\n",
      "('Germany', 'Leonie', 'KÃ¶hler', 19.799999999999997)\n",
      "('Hungary', 'Ladislav', 'KovÃ¡cs', 5.94)\n",
      "('India', 'Rishabh', 'Mishra', 10.89)\n",
      "('Ireland', 'Hugh', \"O'Reilly\", 2.9699999999999998)\n",
      "('Italy', 'Lucas', 'Mancini', 2.9699999999999998)\n",
      "('Netherlands', 'Johannes', 'Van der Berg', 7.920000000000001)\n",
      "('Norway', 'BjÃ¸rn', 'Hansen', 3.96)\n",
      "('Poland', 'StanisÅ‚aw', 'WÃ³jcik', 26.729999999999986)\n",
      "('Portugal', 'JoÃ£o', 'Fernandes', 17.82)\n",
      "('Spain', 'Enrique', 'MuÃ±oz', 7.920000000000001)\n",
      "('Sweden', 'Joakim', 'Johansson', 6.930000000000001)\n",
      "('United Kingdom', 'Steve', 'Murray', 21.779999999999994)\n",
      "('USA', 'Kathy', 'Chase', 20.789999999999996)\n"
     ]
    }
   ],
   "source": [
    "for x in mycursor:\n",
    "    print(x)"
   ]
  },
  {
   "cell_type": "markdown",
   "id": "a56462e7-582d-43ae-be63-77ba9a326832",
   "metadata": {},
   "source": [
    "# Thanks for seeing my repository."
   ]
  }
 ],
 "metadata": {
  "kernelspec": {
   "display_name": "Python 3 (ipykernel)",
   "language": "python",
   "name": "python3"
  },
  "language_info": {
   "codemirror_mode": {
    "name": "ipython",
    "version": 3
   },
   "file_extension": ".py",
   "mimetype": "text/x-python",
   "name": "python",
   "nbconvert_exporter": "python",
   "pygments_lexer": "ipython3",
   "version": "3.11.4"
  }
 },
 "nbformat": 4,
 "nbformat_minor": 5
}
