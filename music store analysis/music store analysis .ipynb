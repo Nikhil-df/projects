{
 "cells": [
  {
   "cell_type": "markdown",
   "id": "6e5f78d4-50ba-4e7d-96b8-7319cf1819ea",
   "metadata": {},
   "source": [
    "# Music Store Analysis"
   ]
  },
  {
   "cell_type": "markdown",
   "id": "5800a53a-651b-450f-9c24-13c59c900057",
   "metadata": {},
   "source": [
    "### Please note that you can see some data different from the video because the provided data is bit different from which used in the video. you can se the difference clearly if you run the average command separately from moderate question number 3."
   ]
  },
  {
   "cell_type": "markdown",
   "id": "4968c10c-b391-4423-a62b-dc74653f1fc4",
   "metadata": {},
   "source": [
    "# Connecting jupyter notebook to database"
   ]
  },
  {
   "cell_type": "code",
   "execution_count": 1,
   "id": "16df8862-75d6-4328-bda3-174cec6635af",
   "metadata": {},
   "outputs": [],
   "source": [
    "import mysql.connector"
   ]
  },
  {
   "cell_type": "code",
   "execution_count": 2,
   "id": "fb7d2fbf-5b52-4ca9-9fd5-b4148f33a169",
   "metadata": {},
   "outputs": [],
   "source": [
    "data_base = mysql.connector.connect(\n",
    "    host = \"localhost\",\n",
    "    user = \"root\",\n",
    "    password = \"123456\",\n",
    "    database = \"music_store\"\n",
    ")\n",
    "mycursor = data_base.cursor()"
   ]
  },
  {
   "cell_type": "markdown",
   "id": "16b5eed5-9a90-4393-af8b-870c07cf894d",
   "metadata": {},
   "source": [
    "# Question Set 1 - Easy"
   ]
  },
  {
   "cell_type": "markdown",
   "id": "428b0cbf-aff1-41b1-bb12-692898e493c2",
   "metadata": {},
   "source": [
    "## 1. Who is the senior most employee based on job title?"
   ]
  },
  {
   "cell_type": "code",
   "execution_count": 3,
   "id": "095c9438-b515-4f35-a909-fafe77ef48e2",
   "metadata": {},
   "outputs": [],
   "source": [
    "mycursor.execute(\"SELECT CONCAT(first_name,' ',last_name) FROM music_store.employee ORDER BY levels DESC LIMIT 1\")"
   ]
  },
  {
   "cell_type": "code",
   "execution_count": 4,
   "id": "ac88ab0f-50dd-45d9-a34d-eb163bf69d7d",
   "metadata": {},
   "outputs": [
    {
     "name": "stdout",
     "output_type": "stream",
     "text": [
      "('Andrew Adams',)\n"
     ]
    }
   ],
   "source": [
    "for x in mycursor:\n",
    "    print(x)"
   ]
  },
  {
   "cell_type": "markdown",
   "id": "4444688b-8a78-4824-b10e-c78223d67c34",
   "metadata": {},
   "source": [
    "## 2. Which countries have the most Invoices?"
   ]
  },
  {
   "cell_type": "code",
   "execution_count": 5,
   "id": "ab6e371f-a9dc-4c8b-a3e8-ca390c7107b4",
   "metadata": {},
   "outputs": [],
   "source": [
    "mycursor.execute(\"\"\"\n",
    "                    SELECT billing_country, COUNT(*) AS total_count FROM music_store.invoice\n",
    "                    GROUP BY billing_country\n",
    "                    ORDER BY total_count DESC \n",
    "                    LIMIT 1\n",
    "                    \"\"\")"
   ]
  },
  {
   "cell_type": "code",
   "execution_count": 6,
   "id": "5e95b6e0-2cee-4bf8-a74b-16fce786b966",
   "metadata": {},
   "outputs": [
    {
     "name": "stdout",
     "output_type": "stream",
     "text": [
      "('USA', 131)\n"
     ]
    }
   ],
   "source": [
    "for x in mycursor:\n",
    "    print(x)"
   ]
  },
  {
   "cell_type": "markdown",
   "id": "43cc49dc-e189-4941-9608-87e5b50c3a3b",
   "metadata": {},
   "source": [
    "## 3. What are top 3 values of total invoice?"
   ]
  },
  {
   "cell_type": "code",
   "execution_count": 7,
   "id": "a71edf43-e6fc-43f2-8ac1-9cdd11d2b1d9",
   "metadata": {},
   "outputs": [],
   "source": [
    "mycursor.execute(\"\"\"\n",
    "                    SELECT * FROM music_store.invoice\n",
    "                    ORDER BY total DESC\n",
    "                    LIMIT 3\n",
    "                    \"\"\")"
   ]
  },
  {
   "cell_type": "code",
   "execution_count": 8,
   "id": "8aff6316-ac48-46a6-9609-65c34b62c6a2",
   "metadata": {},
   "outputs": [
    {
     "name": "stdout",
     "output_type": "stream",
     "text": [
      "(183, 42, '2018-02-09 00:00:00', '9, Place Louis Barthou', 'Bordeaux', 'None', 'France', '33000', 23.759999999999998)\n",
      "(92, 32, '2017-07-02 00:00:00', '696 Osborne Street', 'Winnipeg', 'MB', 'Canada', 'R3L 2B9', 19.8)\n",
      "(526, 5, '2020-06-08 00:00:00', 'Klanova 9/506', 'Prague', 'None', 'Czech Republic', '14700', 19.8)\n"
     ]
    }
   ],
   "source": [
    "for x in mycursor:\n",
    "    print(x)"
   ]
  },
  {
   "cell_type": "markdown",
   "id": "3c85a299-51ca-47dc-aba9-b988a3ed1b0b",
   "metadata": {},
   "source": [
    "## 4. Which city has the best customers? We would like to throw a promotional Music Festival in the city we made the most money. Write a query that returns one city that has the highest sum of invoice totals. Return both the city name & sum of all invoice totals"
   ]
  },
  {
   "cell_type": "code",
   "execution_count": 9,
   "id": "2d0128a5-9fbe-4224-8565-14b3026d445f",
   "metadata": {},
   "outputs": [],
   "source": [
    "mycursor.execute(\"\"\"\n",
    "                    SELECT billing_country, SUM(total) AS total_invoice FROM music_store.invoice\n",
    "                    GROUP BY billing_country\n",
    "                    ORDER BY total_invoice DESC \n",
    "                    LIMIT 1\n",
    "                    \"\"\")"
   ]
  },
  {
   "cell_type": "code",
   "execution_count": 10,
   "id": "2ca1566b-bb64-4b8b-8d73-d449f670f6ae",
   "metadata": {},
   "outputs": [
    {
     "name": "stdout",
     "output_type": "stream",
     "text": [
      "('USA', 1040.4899999999998)\n"
     ]
    }
   ],
   "source": [
    "for x in mycursor:\n",
    "    print(x)"
   ]
  },
  {
   "cell_type": "markdown",
   "id": "1c873e41-3526-4002-9ba9-7d49abe20762",
   "metadata": {},
   "source": [
    "## 5. Who is the best customer? The customer who has spent the most money will be declared the best customer. Write a query that returns the person who has spent the most money"
   ]
  },
  {
   "cell_type": "code",
   "execution_count": 11,
   "id": "13bf8467-972b-4621-af25-334f1879fc0a",
   "metadata": {},
   "outputs": [],
   "source": [
    "mycursor.execute(\"\"\"\n",
    "                    SELECT customer.customer_id,first_name , last_name, SUM(invoice.total) AS total_spending FROM music_store.customer\n",
    "                    JOIN music_store.invoice \n",
    "                    ON customer.customer_id = invoice.customer_id\n",
    "                    GROUP BY customer.customer_id, first_name , last_name\n",
    "                    ORDER BY total_spending DESC\n",
    "                    LIMIT 1\n",
    "                    \"\"\")"
   ]
  },
  {
   "cell_type": "code",
   "execution_count": 12,
   "id": "78f3e029-832d-40fa-9a69-a06953f97827",
   "metadata": {},
   "outputs": [
    {
     "name": "stdout",
     "output_type": "stream",
     "text": [
      "(5, 'FrantiÅ¡ek', 'WichterlovÃ¡', 144.54000000000002)\n"
     ]
    }
   ],
   "source": [
    "for x in mycursor:\n",
    "    print(x)"
   ]
  },
  {
   "cell_type": "markdown",
   "id": "f09574da-757f-40ad-93c6-e0d1516c86ca",
   "metadata": {},
   "source": [
    "# Question Set 2 - Moderate"
   ]
  },
  {
   "cell_type": "markdown",
   "id": "35cea82e-9c92-41e8-987d-be6f9a5eadea",
   "metadata": {},
   "source": [
    "## Q1: Write query to return the email, first name, last name, & Genre of all Rock Music listeners. Return your list ordered alphabetically by email starting with A."
   ]
  },
  {
   "cell_type": "code",
   "execution_count": 13,
   "id": "cf09a587-b29c-4975-a9e2-79c60d28b82a",
   "metadata": {},
   "outputs": [],
   "source": [
    "mycursor.execute(\"\"\"\n",
    "                    SELECT DISTINCT email,first_name,last_name FROM music_store.customer\n",
    "                    JOIN music_store.invoice ON customer.customer_id = invoice.customer_id\n",
    "                    JOIN music_store.invoice_line ON invoice.invoice_id = invoice_line.invoice_id\n",
    "                    WHERE track_id IN (\n",
    "                     SELECT track.track_id FROM music_store.track\n",
    "                     JOIN music_store.genre ON track.genre_id = genre.genre_id\n",
    "                     WHERE genre.name LIKE \"Rock\"\n",
    "                    )\n",
    "                    ORDER BY email;\n",
    "                    \"\"\")"
   ]
  },
  {
   "cell_type": "code",
   "execution_count": 14,
   "id": "616d2929-65ac-4a6c-9d7d-229c7457a14b",
   "metadata": {},
   "outputs": [
    {
     "name": "stdout",
     "output_type": "stream",
     "text": [
      "('aaronmitchell@yahoo.ca', 'Aaron', 'Mitchell')\n",
      "('alero@uol.com.br', 'Alexandre', 'Rocha')\n",
      "('astrid.gruber@apple.at', 'Astrid', 'Gruber')\n",
      "('bjorn.hansen@yahoo.no', 'BjÃ¸rn', 'Hansen')\n",
      "('camille.bernard@yahoo.fr', 'Camille', 'Bernard')\n",
      "('daan_peeters@apple.be', 'Daan', 'Peeters')\n",
      "('diego.gutierrez@yahoo.ar', 'Diego', 'GutiÃ©rrez')\n",
      "('dmiller@comcast.com', 'Dan', 'Miller')\n",
      "('dominiquelefebvre@gmail.com', 'Dominique', 'Lefebvre')\n",
      "('edfrancis@yachoo.ca', 'Edward', 'Francis')\n",
      "('eduardo@woodstock.com.br', 'Eduardo', 'Martins')\n",
      "('ellie.sullivan@shaw.ca', 'Ellie', 'Sullivan')\n",
      "('emma_jones@hotmail.com', 'Emma', 'Jones')\n",
      "('enrique_munoz@yahoo.es', 'Enrique', 'MuÃ±oz')\n",
      "('fernadaramos4@uol.com.br', 'Fernanda', 'Ramos')\n",
      "('fharris@google.com', 'Frank', 'Harris')\n",
      "('fralston@gmail.com', 'Frank', 'Ralston')\n",
      "('frantisekw@jetbrains.com', 'FrantiÅ¡ek', 'WichterlovÃ¡')\n",
      "('ftremblay@gmail.com', 'FranÃ§ois', 'Tremblay')\n",
      "('fzimmermann@yahoo.de', 'Fynn', 'Zimmermann')\n",
      "('hannah.schneider@yahoo.de', 'Hannah', 'Schneider')\n",
      "('hholy@gmail.com', 'Helena', 'HolÃ½')\n",
      "('hleacock@gmail.com', 'Heather', 'Leacock')\n",
      "('hughoreilly@apple.ie', 'Hugh', \"O'Reilly\")\n",
      "('isabelle_mercier@apple.fr', 'Isabelle', 'Mercier')\n",
      "('jacksmith@microsoft.com', 'Jack', 'Smith')\n",
      "('jenniferp@rogers.ca', 'Jennifer', 'Peterson')\n",
      "('jfernandes@yahoo.pt', 'JoÃ£o', 'Fernandes')\n",
      "('joakim.johansson@yahoo.se', 'Joakim', 'Johansson')\n",
      "('johavanderberg@yahoo.nl', 'Johannes', 'Van der Berg')\n",
      "('johngordon22@yahoo.com', 'John', 'Gordon')\n",
      "('jubarnett@gmail.com', 'Julia', 'Barnett')\n",
      "('kachase@hotmail.com', 'Kathy', 'Chase')\n",
      "('kara.nielsen@jubii.dk', 'Kara', 'Nielsen')\n",
      "('ladislav_kovacs@apple.hu', 'Ladislav', 'KovÃ¡cs')\n",
      "('leonekohler@surfeu.de', 'Leonie', 'KÃ¶hler')\n",
      "('lucas.mancini@yahoo.it', 'Lucas', 'Mancini')\n",
      "('luisg@embraer.com.br', 'LuÃ\\xads', 'GonÃ§alves')\n",
      "('luisrojas@yahoo.cl', 'Luis', 'Rojas')\n",
      "('manoj.pareek@rediff.com', 'Manoj', 'Pareek')\n",
      "('marc.dubois@hotmail.com', 'Marc', 'Dubois')\n",
      "('mark.taylor@yahoo.au', 'Mark', 'Taylor')\n",
      "('marthasilk@gmail.com', 'Martha', 'Silk')\n",
      "('masampaio@sapo.pt', 'Madalena', 'Sampaio')\n",
      "('mphilips12@shaw.ca', 'Mark', 'Philips')\n",
      "('nschroder@surfeu.de', 'Niklas', 'SchrÃ¶der')\n",
      "('patrick.gray@aol.com', 'Patrick', 'Gray')\n",
      "('phil.hughes@gmail.com', 'Phil', 'Hughes')\n",
      "('ricunningham@hotmail.com', 'Richard', 'Cunningham')\n",
      "('rishabh_mishra@yahoo.in', 'Rishabh', 'Mishra')\n",
      "('robbrown@shaw.ca', 'Robert', 'Brown')\n",
      "('roberto.almeida@riotur.gov.br', 'Roberto', 'Almeida')\n",
      "('stanisÅ‚aw.wÃ³jcik@wp.pl', 'StanisÅ‚aw', 'WÃ³jcik')\n",
      "('steve.murray@yahoo.uk', 'Steve', 'Murray')\n",
      "('terhi.hamalainen@apple.fi', 'Terhi', 'HÃ¤mÃ¤lÃ¤inen')\n",
      "('tgoyer@apple.com', 'Tim', 'Goyer')\n",
      "('vstevens@yahoo.com', 'Victor', 'Stevens')\n",
      "('wyatt.girard@yahoo.fr', 'Wyatt', 'Girard')\n"
     ]
    }
   ],
   "source": [
    "for x in mycursor:\n",
    "    print(x)"
   ]
  },
  {
   "cell_type": "markdown",
   "id": "1acecd59-79bf-4b38-8756-439c0404aeb3",
   "metadata": {},
   "source": [
    "## Q2: Let's invite the artists who have written the most rock music in our dataset. Write a query that returns the Artist name and total track count of the top 10 rock bands."
   ]
  },
  {
   "cell_type": "code",
   "execution_count": 15,
   "id": "8b4a887b-4a2c-46f1-af0a-862dc3ea4f8a",
   "metadata": {},
   "outputs": [],
   "source": [
    "mycursor.execute(\"\"\"\n",
    "                    SELECT artist.artist_id, artist.name,COUNT(artist.artist_id) AS number_of_songs FROM track\n",
    "                    JOIN album ON album.album_id = track.album_id\n",
    "                    JOIN artist ON artist.artist_id = album.artist_id\n",
    "                    JOIN genre ON genre.genre_id = track.genre_id\n",
    "                    WHERE genre.name LIKE 'Rock'\n",
    "                    GROUP BY artist.artist_id ,  artist.name\n",
    "                    ORDER BY number_of_songs DESC\n",
    "                    LIMIT 10;\n",
    "                    \"\"\")"
   ]
  },
  {
   "cell_type": "code",
   "execution_count": 16,
   "id": "6a0a1e89-cb26-4b8b-8812-6f615bd93727",
   "metadata": {},
   "outputs": [
    {
     "name": "stdout",
     "output_type": "stream",
     "text": [
      "(1, 'AC/DC', 18)\n",
      "(3, 'Aerosmith', 15)\n",
      "(8, 'Audioslave', 14)\n",
      "(22, 'Led Zeppelin', 14)\n",
      "(4, 'Alanis Morissette', 13)\n",
      "(5, 'Alice In Chains', 12)\n",
      "(23, 'Frank Zappa & Captain Beefheart', 9)\n",
      "(2, 'Accept', 4)\n"
     ]
    }
   ],
   "source": [
    "for x in mycursor:\n",
    "    print(x)"
   ]
  },
  {
   "cell_type": "markdown",
   "id": "eaa18638-72fa-41a6-9c29-cb218908f040",
   "metadata": {},
   "source": [
    "## Q3: Return all the track names that have a song length longer than the average song length. Return the Name and Milliseconds for each track. Order by the song length with the longest songs listed first."
   ]
  },
  {
   "cell_type": "code",
   "execution_count": 17,
   "id": "4784cd84-ac31-48af-9a5c-03aea2d0ce67",
   "metadata": {},
   "outputs": [],
   "source": [
    "mycursor.execute(\"\"\"\n",
    "                    SELECT name , milliseconds FROM music_store.track\n",
    "                    WHERE milliseconds > (\n",
    "                     SELECT AVG(milliseconds) FROM music_store.track\n",
    "                    )\n",
    "                    ORDER BY milliseconds DESC;\n",
    "                    \"\"\")"
   ]
  },
  {
   "cell_type": "code",
   "execution_count": 18,
   "id": "1c31cb4e-9aeb-4ac6-9c02-eaace2bff3bc",
   "metadata": {},
   "outputs": [
    {
     "name": "stdout",
     "output_type": "stream",
     "text": [
      "('How Many More Times', 711836)\n",
      "('Advance Romance', 677694)\n",
      "('Sleeping Village', 644571)\n",
      "('You Shook Me(2)', 619467)\n",
      "(\"Talkin' 'Bout Women Obviously\", 589531)\n",
      "('Stratus', 582086)\n",
      "('No More Tears', 555075)\n",
      "('The Alchemist', 509413)\n",
      "('Wheels Of Confusion / The Straightener', 494524)\n",
      "('Book Of Thel', 494393)\n",
      "('You Oughta Know (Alternate)', 491885)\n",
      "('Terra', 482429)\n",
      "(\"Snoopy's search-Red baron\", 456071)\n",
      "('Sozinho (Hitmakers Classic Mix)', 436636)\n",
      "('Master Of Puppets', 436453)\n",
      "('Stone Crazy', 433397)\n",
      "('Snowblind', 420022)\n",
      "('Computadores Fazem Arte', 404323)\n",
      "('Jerusalem', 402390)\n",
      "('Dazed and Confused', 401920)\n",
      "('The Winner Loses', 392254)\n",
      "('Love, Hate, Love', 387134)\n",
      "('ConstruÃ§Ã£o / Deus Lhe Pague', 383059)\n",
      "('Black Sabbath', 382066)\n",
      "(\"Livin' On The Edge\", 381231)\n",
      "(\"I Can't Quit You Baby(2)\", 380551)\n",
      "('Princess of the Dawn', 375418)\n",
      "('Harvester Of Sorrow', 374543)\n",
      "('Whole Lotta Love', 373394)\n",
      "(\"Momma's Gotta Die Tonight\", 371539)\n",
      "('Vai Passar', 369763)\n",
      "('Wherever I May Roam', 369345)\n",
      "('Overdose', 369319)\n",
      "('N.I.B.', 368770)\n",
      "('O Boto (BÃ´to)', 366837)\n",
      "('Let There Be Rock', 366654)\n",
      "('The Begining... At Last', 365662)\n",
      "('Carolina Hard-Core Ecstasy', 359680)\n",
      "('World Of Trouble', 359157)\n",
      "('Trupets Of Jericho', 359131)\n",
      "('Amazing', 356519)\n",
      "('Under The Sun/Every Day Comes and Goes', 350458)\n",
      "('Welcome Home (Sanitarium)', 350197)\n",
      "('There Goes The Neighborhood', 350171)\n",
      "('Sea Of Sorrow', 349831)\n",
      "('Confusion', 344163)\n",
      "('For Those About To Rock (We Salute You)', 343719)\n",
      "('Shadow on the Sun', 343457)\n",
      "('Balls to the Wall', 342562)\n",
      "('Machine Men', 341655)\n",
      "('I am the Highway', 334942)\n",
      "('Muffin Man', 332878)\n",
      "('Snowblind', 331676)\n",
      "('Go Down', 331180)\n",
      "(\"Janie's Got A Gun\", 330736)\n",
      "(\"Bring'em Back Alive\", 329534)\n",
      "(\"Sozinho (CaÃªdrum 'n' Bass)\", 328071)\n",
      "('Problem Child', 325041)\n",
      "('Whole Lotta Rosie', 323761)\n",
      "('Intro/ Low Down', 323683)\n",
      "('The Unforgiven', 322925)\n",
      "('Love In An Elevator', 321828)\n",
      "('Super Terrorizer', 319373)\n",
      "('The pleasant pheasant', 318066)\n",
      "('Body Count', 317936)\n",
      "('Geni E O Zepelim', 317570)\n",
      "('The Last Remaining Light', 317492)\n",
      "('Crazy', 316656)\n",
      "('You Shook Me', 315951)\n",
      "('Travelling Riverside Blues', 312032)\n",
      "('Noite Do Prazer', 311353)\n",
      "('What It Takes', 310622)\n",
      "('The Curse', 309786)\n",
      "(\"Cryin'\", 309263)\n",
      "('Creeping Death', 308035)\n",
      "('Angel', 307617)\n",
      "('AtrÃ¡s Da Verd-E-Rosa SÃ³ NÃ£o Vai Quem JÃ¡ Morreu', 307252)\n",
      "('Banditismo Por Uma Questa', 307095)\n",
      "('Extra', 304352)\n",
      "('Light My Way', 303595)\n",
      "('Stronger Than Death', 300747)\n",
      "('Voodoo', 300721)\n",
      "('Forgiven', 300355)\n",
      "('Getaway Car', 299598)\n",
      "('Linha Do Equador', 299337)\n",
      "('#1 Zero', 299102)\n",
      "('Onde VocÃª Mora?', 298396)\n",
      "('Walk On Water', 295680)\n",
      "('Mel', 294765)\n",
      "('Moon germs', 294060)\n",
      "('Like a Stone', 294034)\n",
      "('Wake Up', 293485)\n",
      "('Out Of Exile', 291291)\n",
      "('Na Frente Da TV', 289750)\n",
      "('Sad But True', 288208)\n",
      "('Rios Pontes & Overdrives', 286720)\n",
      "('Man In The Box', 286641)\n",
      "('Changes', 286275)\n",
      "('Supernaut', 285779)\n",
      "('The Tower', 285257)\n",
      "('A Sombra Da Maldade', 285231)\n",
      "('Garota De Ipanema', 285048)\n",
      "('Sunshine', 284969)\n",
      "('All I Really Want', 284891)\n",
      "('Blood In The Wall', 284368)\n",
      "('Maracatu AtÃ´mico', 284264)\n",
      "('Lost My Better Half', 284081)\n",
      "('Bye, Bye Brasil', 283402)\n",
      "('King In Crimson', 283167)\n",
      "('Gavioes 2001', 282723)\n",
      "('A Estrada', 282174)\n",
      "('Born To Booze', 282122)\n",
      "('Vida Boa', 281730)\n",
      "('Freedom Of Speech', 281234)\n",
      "('Mary Jane', 280607)\n",
      "('Be Yourself', 279484)\n",
      "('Gasoline', 279457)\n",
      "('Dandelion', 278125)\n",
      "('Show Me How to Live', 277890)\n",
      "(\"It Ain't Like That\", 277577)\n",
      "(\"Heaven's Dead\", 276688)\n",
      "('Like A Bird', 276532)\n",
      "('Vai-Vai 2001', 276349)\n",
      "('Flor Do Futuro', 275748)\n",
      "('Do what cha wanna', 274155)\n",
      "('X-9 2001', 273920)\n",
      "('Yesterday To Tomorrow', 273763)\n",
      "('Phoney Smile Fake Hellos', 273606)\n",
      "('Maracatu AtÃ´mico [Atomic Version]', 273084)\n",
      "('A Cor Do Sol', 273031)\n",
      "('200 Years Old', 272561)\n",
      "('Samidarish [instrumental]', 272431)\n",
      "('The Beginning...At Last', 271960)\n",
      "('Canta, Canta Mais', 271856)\n",
      "('Samba Makossa', 271856)\n",
      "('Spellbound', 270863)\n",
      "('Killing Floor', 269557)\n",
      "('Bad Boy Boogie', 267728)\n",
      "('Head Over Feet', 267493)\n",
      "('SÃ¡bado A Noite', 267363)\n",
      "('Felicidade Urgente', 266605)\n",
      "('A.N.D.R.O.T.A.Z.', 266266)\n",
      "('Gates Of Urizen', 265351)\n",
      "('Dude (Looks Like A Lady)', 264855)\n",
      "('The Wizard', 264829)\n",
      "('Rag Doll', 264698)\n",
      "('FÃ©rias', 264202)\n",
      "(\"I Can't Quit You Baby\", 263836)\n",
      "('Evil Walks', 263497)\n",
      "('Breaking The Rules', 263288)\n",
      "('Set It Off', 263262)\n",
      "('I Know Somethin (Bout You)', 261955)\n",
      "('Quadrant', 261851)\n",
      "('What is and Should Never Be', 260675)\n",
      "('Meu Caro Amigo', 260257)\n",
      "('ConciliaÃ§Ã£o', 257619)\n",
      "('Onde VocÃª Mora?', 256026)\n",
      "(\"Doesn't Remind Me\", 255869)\n",
      "('Your Time Has Come', 255529)\n",
      "('Johnny B. Goode', 254615)\n",
      "(\"Hell Ain't A Bad Place To Be\", 254380)\n",
      "('Amor Demais', 254040)\n",
      "('Cada Um Cada Um (A Namoradeira)', 253492)\n",
      "('Dindi (Dindi)', 253178)\n",
      "('Restless and Wild', 252051)\n",
      "('Ligia', 251977)\n",
      "('A Luz De Tieta', 251742)\n",
      "('Da Lama Ao Caos', 251559)\n"
     ]
    }
   ],
   "source": [
    "for x in mycursor:\n",
    "    print(x)"
   ]
  }
 ],
 "metadata": {
  "kernelspec": {
   "display_name": "Python 3 (ipykernel)",
   "language": "python",
   "name": "python3"
  },
  "language_info": {
   "codemirror_mode": {
    "name": "ipython",
    "version": 3
   },
   "file_extension": ".py",
   "mimetype": "text/x-python",
   "name": "python",
   "nbconvert_exporter": "python",
   "pygments_lexer": "ipython3",
   "version": "3.11.4"
  }
 },
 "nbformat": 4,
 "nbformat_minor": 5
}
