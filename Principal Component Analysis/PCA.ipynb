{
 "cells": [
  {
   "cell_type": "code",
   "execution_count": 1,
   "id": "5620866a-9ed6-42e0-b2ae-55ecb6323e08",
   "metadata": {},
   "outputs": [],
   "source": [
    "# Importing necessary libraries\n",
    "import pandas as pd\n",
    "import matplotlib.pyplot as plt\n",
    "import numpy as np\n",
    "\n",
    "from sklearn.model_selection import train_test_split\n",
    "from sklearn.preprocessing import StandardScaler\n",
    "from sklearn.decomposition import PCA\n",
    "from sklearn.neighbors import KNeighborsClassifier\n",
    "from sklearn.metrics import accuracy_score"
   ]
  },
  {
   "cell_type": "code",
   "execution_count": 2,
   "id": "cbeeac5c-1308-43e5-b0d1-577b2dfdd38e",
   "metadata": {},
   "outputs": [],
   "source": [
    "# Column names for the dataset\n",
    "column_names = [\n",
    "    'fLength',    # Length of the event\n",
    "    'fWidth',     # Width of the event\n",
    "    'fSize',      # Size of the event\n",
    "    'fConc',      # Concentration of energy at the core\n",
    "    'fConc1',     # Concentration of energy at the first peak\n",
    "    'fAsym',      # Asymmetry of the event\n",
    "    'fM3Long',    # Third moment along the major axis\n",
    "    'fM3Trans',   # Third moment along the minor axis\n",
    "    'fAlpha',     # Angle of the event\n",
    "    'fDist',      # Distance of the event\n",
    "    'class'       # Class label (Gamma/Hadron)\n",
    "]\n",
    "\n",
    "# Loading the dataset\n",
    "original_data = pd.read_csv(\"magic04.data\", names=column_names)\n",
    "# Creating a copy of the data to work on\n",
    "data = original_data.copy()"
   ]
  },
  {
   "cell_type": "code",
   "execution_count": 3,
   "id": "8f59130c-737d-4159-a42f-8eb5476f151a",
   "metadata": {},
   "outputs": [
    {
     "data": {
      "text/html": [
       "<div>\n",
       "<style scoped>\n",
       "    .dataframe tbody tr th:only-of-type {\n",
       "        vertical-align: middle;\n",
       "    }\n",
       "\n",
       "    .dataframe tbody tr th {\n",
       "        vertical-align: top;\n",
       "    }\n",
       "\n",
       "    .dataframe thead th {\n",
       "        text-align: right;\n",
       "    }\n",
       "</style>\n",
       "<table border=\"1\" class=\"dataframe\">\n",
       "  <thead>\n",
       "    <tr style=\"text-align: right;\">\n",
       "      <th></th>\n",
       "      <th>fLength</th>\n",
       "      <th>fWidth</th>\n",
       "      <th>fSize</th>\n",
       "      <th>fConc</th>\n",
       "      <th>fConc1</th>\n",
       "      <th>fAsym</th>\n",
       "      <th>fM3Long</th>\n",
       "      <th>fM3Trans</th>\n",
       "      <th>fAlpha</th>\n",
       "      <th>fDist</th>\n",
       "      <th>class</th>\n",
       "    </tr>\n",
       "  </thead>\n",
       "  <tbody>\n",
       "    <tr>\n",
       "      <th>11280</th>\n",
       "      <td>31.0838</td>\n",
       "      <td>26.4671</td>\n",
       "      <td>3.1676</td>\n",
       "      <td>0.3236</td>\n",
       "      <td>0.1751</td>\n",
       "      <td>-0.5327</td>\n",
       "      <td>22.7429</td>\n",
       "      <td>16.4527</td>\n",
       "      <td>22.6709</td>\n",
       "      <td>31.7618</td>\n",
       "      <td>g</td>\n",
       "    </tr>\n",
       "    <tr>\n",
       "      <th>13859</th>\n",
       "      <td>12.8823</td>\n",
       "      <td>11.3427</td>\n",
       "      <td>2.0986</td>\n",
       "      <td>0.7331</td>\n",
       "      <td>0.4183</td>\n",
       "      <td>14.9160</td>\n",
       "      <td>-7.8405</td>\n",
       "      <td>-9.9097</td>\n",
       "      <td>56.4080</td>\n",
       "      <td>113.4230</td>\n",
       "      <td>h</td>\n",
       "    </tr>\n",
       "    <tr>\n",
       "      <th>10754</th>\n",
       "      <td>46.1458</td>\n",
       "      <td>21.7687</td>\n",
       "      <td>2.9673</td>\n",
       "      <td>0.2243</td>\n",
       "      <td>0.1396</td>\n",
       "      <td>42.2594</td>\n",
       "      <td>13.6455</td>\n",
       "      <td>11.9598</td>\n",
       "      <td>7.9150</td>\n",
       "      <td>229.1980</td>\n",
       "      <td>g</td>\n",
       "    </tr>\n",
       "    <tr>\n",
       "      <th>17760</th>\n",
       "      <td>19.7091</td>\n",
       "      <td>15.1484</td>\n",
       "      <td>2.6547</td>\n",
       "      <td>0.6179</td>\n",
       "      <td>0.3953</td>\n",
       "      <td>-14.5115</td>\n",
       "      <td>-18.1610</td>\n",
       "      <td>-5.5311</td>\n",
       "      <td>19.1890</td>\n",
       "      <td>165.9710</td>\n",
       "      <td>h</td>\n",
       "    </tr>\n",
       "    <tr>\n",
       "      <th>11032</th>\n",
       "      <td>28.7399</td>\n",
       "      <td>6.2873</td>\n",
       "      <td>2.3139</td>\n",
       "      <td>0.6456</td>\n",
       "      <td>0.4102</td>\n",
       "      <td>29.3165</td>\n",
       "      <td>21.5648</td>\n",
       "      <td>-4.4403</td>\n",
       "      <td>19.7509</td>\n",
       "      <td>177.9420</td>\n",
       "      <td>g</td>\n",
       "    </tr>\n",
       "  </tbody>\n",
       "</table>\n",
       "</div>"
      ],
      "text/plain": [
       "       fLength   fWidth   fSize   fConc  fConc1    fAsym  fM3Long  fM3Trans  \\\n",
       "11280  31.0838  26.4671  3.1676  0.3236  0.1751  -0.5327  22.7429   16.4527   \n",
       "13859  12.8823  11.3427  2.0986  0.7331  0.4183  14.9160  -7.8405   -9.9097   \n",
       "10754  46.1458  21.7687  2.9673  0.2243  0.1396  42.2594  13.6455   11.9598   \n",
       "17760  19.7091  15.1484  2.6547  0.6179  0.3953 -14.5115 -18.1610   -5.5311   \n",
       "11032  28.7399   6.2873  2.3139  0.6456  0.4102  29.3165  21.5648   -4.4403   \n",
       "\n",
       "        fAlpha     fDist class  \n",
       "11280  22.6709   31.7618     g  \n",
       "13859  56.4080  113.4230     h  \n",
       "10754   7.9150  229.1980     g  \n",
       "17760  19.1890  165.9710     h  \n",
       "11032  19.7509  177.9420     g  "
      ]
     },
     "execution_count": 3,
     "metadata": {},
     "output_type": "execute_result"
    }
   ],
   "source": [
    "# Displaying a random sample of the data\n",
    "data.sample(5)"
   ]
  },
  {
   "cell_type": "code",
   "execution_count": 4,
   "id": "5041249f-9233-4871-a1c8-e81ac97fc1ad",
   "metadata": {},
   "outputs": [
    {
     "name": "stdout",
     "output_type": "stream",
     "text": [
      "<class 'pandas.core.frame.DataFrame'>\n",
      "RangeIndex: 19020 entries, 0 to 19019\n",
      "Data columns (total 11 columns):\n",
      " #   Column    Non-Null Count  Dtype  \n",
      "---  ------    --------------  -----  \n",
      " 0   fLength   19020 non-null  float64\n",
      " 1   fWidth    19020 non-null  float64\n",
      " 2   fSize     19020 non-null  float64\n",
      " 3   fConc     19020 non-null  float64\n",
      " 4   fConc1    19020 non-null  float64\n",
      " 5   fAsym     19020 non-null  float64\n",
      " 6   fM3Long   19020 non-null  float64\n",
      " 7   fM3Trans  19020 non-null  float64\n",
      " 8   fAlpha    19020 non-null  float64\n",
      " 9   fDist     19020 non-null  float64\n",
      " 10  class     19020 non-null  object \n",
      "dtypes: float64(10), object(1)\n",
      "memory usage: 1.6+ MB\n"
     ]
    }
   ],
   "source": [
    "# Displaying basic info about the dataset\n",
    "data.info()"
   ]
  },
  {
   "cell_type": "code",
   "execution_count": 5,
   "id": "8ad15201-dfc6-4f7b-b711-f2a38de51a36",
   "metadata": {},
   "outputs": [
    {
     "name": "stdout",
     "output_type": "stream",
     "text": [
      "Number of duplicate rows: 115\n"
     ]
    }
   ],
   "source": [
    "# Checking for duplicate entries in the dataset\n",
    "print(\"Number of duplicate rows:\", data.duplicated().sum())"
   ]
  },
  {
   "cell_type": "code",
   "execution_count": 6,
   "id": "4c2f5e90-1a41-4ae8-ad80-c5bc5586d113",
   "metadata": {},
   "outputs": [
    {
     "name": "stdout",
     "output_type": "stream",
     "text": [
      "Original Data Shape: (19020, 11)\n"
     ]
    }
   ],
   "source": [
    "# Displaying the original shape of the dataset\n",
    "print(\"Original Data Shape:\", data.shape)"
   ]
  },
  {
   "cell_type": "code",
   "execution_count": 7,
   "id": "487f45ac-e45b-433b-b27b-199c0099e984",
   "metadata": {},
   "outputs": [
    {
     "name": "stdout",
     "output_type": "stream",
     "text": [
      "Data Shape (After Dropping Duplicates): (18905, 11)\n"
     ]
    }
   ],
   "source": [
    "# Dropping duplicate rows from the dataset\n",
    "data.drop_duplicates(inplace=True)\n",
    "\n",
    "# Displaying the shape of the dataset after dropping duplicates\n",
    "print(\"Data Shape (After Dropping Duplicates):\", data.shape)"
   ]
  },
  {
   "cell_type": "code",
   "execution_count": 8,
   "id": "4a28e0f4-dd85-4893-9322-da4d01d36fc0",
   "metadata": {},
   "outputs": [],
   "source": [
    "# Separating the features (X) and the target variable (y)\n",
    "X = data.drop(\"class\", axis=1)  # Features (all columns except the 'class' column)\n",
    "y = data[\"class\"]  # Target variable (the 'class' column)"
   ]
  },
  {
   "cell_type": "code",
   "execution_count": 9,
   "id": "9537c652-1d6c-4ef3-acdc-3bdd20b13f77",
   "metadata": {},
   "outputs": [],
   "source": [
    "# Splitting the data into training and test sets (80% train, 20% test)\n",
    "X_train, X_test, y_train, y_test = train_test_split(X, y, test_size=0.2, random_state=45)"
   ]
  },
  {
   "cell_type": "code",
   "execution_count": 10,
   "id": "51207d38-ca18-483f-b750-673e171fb11f",
   "metadata": {},
   "outputs": [],
   "source": [
    "# Scaling the features using StandardScaler to normalize them\n",
    "scaler = StandardScaler()\n",
    "X_train_scaled = scaler.fit_transform(X_train)  # Fit and transform the training data\n",
    "X_test_scaled = scaler.transform(X_test)  # Transform the test data (using the same scaling as training)"
   ]
  },
  {
   "cell_type": "code",
   "execution_count": 11,
   "id": "79f301cf-89e6-44a5-b984-bc65338729dd",
   "metadata": {},
   "outputs": [
    {
     "name": "stdout",
     "output_type": "stream",
     "text": [
      "Number of Features Without PCA: 10\n",
      "Classification Accuracy Without PCA: 83.73%\n"
     ]
    }
   ],
   "source": [
    "# K-Nearest Neighbors (KNN) classifier without PCA\n",
    "knn_classifier = KNeighborsClassifier(n_neighbors=5)\n",
    "knn_classifier.fit(X_train_scaled, y_train)\n",
    "\n",
    "# Predicting on the test data\n",
    "y_pred_no_pca = knn_classifier.predict(X_test_scaled)\n",
    "\n",
    "# Calculating the accuracy without PCA\n",
    "accuracy_no_pca = round(accuracy_score(y_test, y_pred_no_pca) * 100, 2)\n",
    "print(\"Number of Features Without PCA:\", X_train_scaled.shape[1])\n",
    "print(f\"Classification Accuracy Without PCA: {accuracy_no_pca}%\")"
   ]
  },
  {
   "cell_type": "code",
   "execution_count": 12,
   "id": "6a4196ba-4a04-43e3-8433-b851dd6e491e",
   "metadata": {},
   "outputs": [],
   "source": [
    "# Performing Principal Component Analysis (PCA) to reduce dimensionality\n",
    "pca_full = PCA(n_components=None)  # PCA with all components\n",
    "X_train_pca_full = pca_full.fit_transform(X_train_scaled)  # Fitting PCA on training data\n",
    "X_test_pca_full = pca_full.transform(X_test_scaled)  # Transforming test data using the same PCA"
   ]
  },
  {
   "cell_type": "code",
   "execution_count": 13,
   "id": "8e06d6f3-d38d-40dc-8cb1-05a7ee088930",
   "metadata": {},
   "outputs": [
    {
     "data": {
      "image/png": "[encoded data removed]",
      "text/plain": [
       "<Figure size 640x480 with 1 Axes>"
      ]
     },
     "metadata": {},
     "output_type": "display_data"
    }
   ],
   "source": [
    "# Plotting the cumulative explained variance ratio to determine the number of components\n",
    "plt.plot(np.cumsum(pca_full.explained_variance_ratio_))\n",
    "plt.title('Cumulative Explained Variance by Number of Principal Components')\n",
    "plt.xlabel('Number of Principal Components')\n",
    "plt.ylabel('Cumulative Explained Variance')\n",
    "plt.grid(True)\n",
    "plt.show()"
   ]
  },
  {
   "cell_type": "code",
   "execution_count": 14,
   "id": "e067563a-f247-4dab-81ed-a5eb3f55b0ea",
   "metadata": {},
   "outputs": [],
   "source": [
    "# Reducing to 6 principal components based on the plot\n",
    "pca = PCA(n_components=6)\n",
    "X_train_pca = pca.fit_transform(X_train_scaled)  # Transforming the training data using PCA\n",
    "X_test_pca = pca.transform(X_test_scaled)  # Transforming the test data using PCA"
   ]
  },
  {
   "cell_type": "code",
   "execution_count": 15,
   "id": "a3828297-f0de-4584-8c42-7452045574d7",
   "metadata": {},
   "outputs": [
    {
     "name": "stdout",
     "output_type": "stream",
     "text": [
      "Number of Features With PCA: 6\n",
      "Classification Accuracy With PCA: 80.67%\n"
     ]
    }
   ],
   "source": [
    "# K-Nearest Neighbors (KNN) classifier after applying PCA (with 6 components)\n",
    "knn_classifier_pca = KNeighborsClassifier(n_neighbors=5)\n",
    "knn_classifier_pca.fit(X_train_pca, y_train)\n",
    "\n",
    "# Predicting on the test data after PCA\n",
    "y_pred_pca = knn_classifier_pca.predict(X_test_pca)\n",
    "\n",
    "# Calculating the accuracy with PCA\n",
    "accuracy_with_pca = round(accuracy_score(y_test, y_pred_pca) * 100, 2)\n",
    "print(\"Number of Features With PCA:\", X_train_pca.shape[1])\n",
    "print(f\"Classification Accuracy With PCA: {accuracy_with_pca}%\")"
   ]
  }
 ],
 "metadata": {
  "kernelspec": {
   "display_name": "Python 3 (ipykernel)",
   "language": "python",
   "name": "python3"
  },
  "language_info": {
   "codemirror_mode": {
    "name": "ipython",
    "version": 3
   },
   "file_extension": ".py",
   "mimetype": "text/x-python",
   "name": "python",
   "nbconvert_exporter": "python",
   "pygments_lexer": "ipython3",
   "version": "3.11.4"
  }
 },
 "nbformat": 4,
 "nbformat_minor": 5
}
