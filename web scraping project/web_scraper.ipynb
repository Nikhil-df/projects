{
 "cells": [
  {
   "cell_type": "code",
   "execution_count": 1,
   "id": "2fd6ae17-7e83-4199-8536-37e4bd67227d",
   "metadata": {},
   "outputs": [],
   "source": [
    "# importing necessary libraries\n",
    "import pandas as pd\n",
    "import requests \n",
    "from bs4 import BeautifulSoup\n",
    "import numpy as np"
   ]
  },
  {
   "cell_type": "code",
   "execution_count": 2,
   "id": "2ec174e5-d291-462d-b9e4-7f6fa68e841b",
   "metadata": {},
   "outputs": [],
   "source": [
    "# Initialize a counter and an empty DataFrame for storing final results\n",
    "movie_counter = 0\n",
    "final_data = pd.DataFrame()"
   ]
  },
  {
   "cell_type": "code",
   "execution_count": 3,
   "id": "04bd34e4-bb28-4f71-96c7-b4db594f6891",
   "metadata": {},
   "outputs": [],
   "source": [
    "# give number of page were start scraping \n",
    "starting_page = 1\n",
    "# give number of page were end scraping \n",
    "ending_page = 2"
   ]
  },
  {
   "cell_type": "code",
   "execution_count": 4,
   "id": "fbe441c1-55a9-4474-a728-a608b79d3175",
   "metadata": {},
   "outputs": [
    {
     "name": "stdout",
     "output_type": "stream",
     "text": [
      "Movie 1 complete\n",
      "Movie 2 complete\n",
      "Movie 3 complete\n",
      "Movie 4 complete\n",
      "Movie 5 complete\n",
      "Movie 6 complete\n",
      "Movie 7 complete\n",
      "Movie 8 complete\n",
      "Movie 9 complete\n",
      "Movie 10 complete\n",
      "Movie 11 complete\n",
      "Movie 12 complete\n",
      "Movie 13 complete\n",
      "Movie 14 complete\n",
      "Movie 15 complete\n",
      "Movie 16 complete\n",
      "Movie 17 complete\n",
      "Movie 18 complete\n",
      "Movie 19 complete\n",
      "Page 1 complete\n",
      "Movie 20 complete\n",
      "Movie 21 complete\n",
      "Movie 22 complete\n",
      "Movie 23 complete\n",
      "Movie 24 complete\n",
      "Movie 25 complete\n",
      "Movie 26 complete\n",
      "Movie 27 complete\n",
      "Movie 28 complete\n",
      "Movie 29 complete\n",
      "Movie 30 complete\n",
      "Movie 31 complete\n",
      "Movie 32 complete\n",
      "Movie 33 complete\n",
      "Movie 34 complete\n",
      "Page 2 complete\n"
     ]
    }
   ],
   "source": [
    "# Loop through the movie listing pages (pagination)\n",
    "for page_number in range(starting_page,(ending_page + 1)):\n",
    "    # Request the movie listing webpage\n",
    "    listing_page_content = requests.get(f\"https://themoviezflix.cn.com/page/{page_number}/\").text\n",
    "    listing_page_soup = BeautifulSoup(listing_page_content, \"lxml\")\n",
    "\n",
    "    # Loop through all movie links on the page\n",
    "    for movie_link_tag in listing_page_soup.find_all(\"a\", class_=\"post-image\"):\n",
    "        movie_url = movie_link_tag.get(\"href\")\n",
    "        movie_page_content = requests.get(str(movie_url)).text\n",
    "        movie_page_soup = BeautifulSoup(movie_page_content, \"lxml\")\n",
    "        movie_data = {}\n",
    "\n",
    "        try:\n",
    "            movie_data[\"genre\"] = movie_page_soup.find_all(\"div\",class_=\"thecontent clearfix\")[0].find_all(\"p\")[0].find_all(\"strong\")[-1].text\n",
    "            # Find and process the title element to check for [18+] marker\n",
    "            title_element = movie_page_soup.find(\"h1\", class_=\"title single-title entry-title\")\n",
    "            if title_element:\n",
    "                title_text = title_element.text\n",
    "                movie_data[\"adult\"] = \"yes\" if \"[18+]\" in title_text else \"no\"\n",
    "            else:\n",
    "                movie_data[\"adult\"] = np.nan\n",
    "\n",
    "            # Extract additional information from the unordered list (ul)\n",
    "            for list_item in movie_page_soup.find_all(\"ul\", class_=\"wp-block-list\")[0].find_all(\"li\"):\n",
    "                item_text = list_item.get_text().split(\":\")\n",
    "                if len(item_text) == 2:\n",
    "                    movie_data[item_text[0].strip()] = item_text[1].strip()\n",
    "\n",
    "            print(f\"Movie {movie_counter+1} complete\")\n",
    "\n",
    "        except Exception as error:\n",
    "            # Catch and print any errors that occur during the data extraction\n",
    "            print(f\"An error occurred: {error}\")\n",
    "\n",
    "        # Increment the movie counter\n",
    "        movie_counter += 1\n",
    "\n",
    "        # Convert the movie data dictionary to a DataFrame and merge with final_data\n",
    "        movie_series = pd.Series(movie_data).to_frame(name=movie_counter)\n",
    "        final_data = final_data.merge(movie_series, left_index=True, right_index=True, how=\"outer\")\n",
    "\n",
    "    print(f\"Page {page_number} complete\")\n"
   ]
  },
  {
   "cell_type": "code",
   "execution_count": 5,
   "id": "93719173-4aed-40e7-a385-1702f65f700c",
   "metadata": {},
   "outputs": [],
   "source": [
    "final_data.to_csv(\"data/page_1_and_2.csv\")"
   ]
  },
  {
   "cell_type": "code",
   "execution_count": null,
   "id": "a8977865-57bb-4c71-9d86-13cabd467cbb",
   "metadata": {},
   "outputs": [],
   "source": []
  }
 ],
 "metadata": {
  "kernelspec": {
   "display_name": "Python 3 (ipykernel)",
   "language": "python",
   "name": "python3"
  },
  "language_info": {
   "codemirror_mode": {
    "name": "ipython",
    "version": 3
   },
   "file_extension": ".py",
   "mimetype": "text/x-python",
   "name": "python",
   "nbconvert_exporter": "python",
   "pygments_lexer": "ipython3",
   "version": "3.11.4"
  }
 },
 "nbformat": 4,
 "nbformat_minor": 5
}
